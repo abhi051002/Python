{
 "cells": [
  {
   "cell_type": "code",
   "execution_count": 16,
   "id": "b7fbba58",
   "metadata": {},
   "outputs": [
    {
     "name": "stdout",
     "output_type": "stream",
     "text": [
      "1 3 5 "
     ]
    }
   ],
   "source": [
    "for i in range(1,7,2):\n",
    "    print(i,end=' ')  "
   ]
  },
  {
   "cell_type": "code",
   "execution_count": 17,
   "id": "e43a12ee",
   "metadata": {},
   "outputs": [
    {
     "name": "stdout",
     "output_type": "stream",
     "text": [
      "1 2 3 4 5 6 "
     ]
    }
   ],
   "source": [
    "for i in range(1,7):\n",
    "    print(i,end=' ')  "
   ]
  },
  {
   "cell_type": "code",
   "execution_count": 18,
   "id": "9bd568c1",
   "metadata": {},
   "outputs": [
    {
     "name": "stdout",
     "output_type": "stream",
     "text": [
      "0 1 2 3 4 5 6 "
     ]
    }
   ],
   "source": [
    "for i in range(7):\n",
    "    print(i,end=' ')  "
   ]
  },
  {
   "cell_type": "code",
   "execution_count": 19,
   "id": "081d94a3",
   "metadata": {},
   "outputs": [
    {
     "name": "stdout",
     "output_type": "stream",
     "text": [
      "[1, 2, 3, 4, 6]\n"
     ]
    }
   ],
   "source": [
    "list=[1,2,3,4,6]\n",
    "print(list)"
   ]
  },
  {
   "cell_type": "code",
   "execution_count": 20,
   "id": "f207e37f",
   "metadata": {},
   "outputs": [
    {
     "name": "stdout",
     "output_type": "stream",
     "text": [
      "[1, 2, 3, 4, 5]\n"
     ]
    }
   ],
   "source": [
    "list[4]=5\n",
    "print(list)"
   ]
  },
  {
   "cell_type": "code",
   "execution_count": 21,
   "id": "ffb97956",
   "metadata": {},
   "outputs": [
    {
     "name": "stdout",
     "output_type": "stream",
     "text": [
      "(1, 2, 3, 4)\n"
     ]
    }
   ],
   "source": [
    "t=(1,2,3,4)\n",
    "print(t)"
   ]
  },
  {
   "cell_type": "code",
   "execution_count": 22,
   "id": "2655133c",
   "metadata": {},
   "outputs": [
    {
     "name": "stdout",
     "output_type": "stream",
     "text": [
      "{'a': 1, 'b': 2, 'c': 3, 'd': 5}\n"
     ]
    }
   ],
   "source": [
    "A={'a':1,'b':2,'c':3,'d':5}\n",
    "print(A)"
   ]
  },
  {
   "cell_type": "code",
   "execution_count": 23,
   "id": "608c1a18",
   "metadata": {},
   "outputs": [
    {
     "data": {
      "text/plain": [
       "3"
      ]
     },
     "execution_count": 23,
     "metadata": {},
     "output_type": "execute_result"
    }
   ],
   "source": [
    "A['c']"
   ]
  },
  {
   "cell_type": "code",
   "execution_count": 26,
   "id": "d5d01d13",
   "metadata": {},
   "outputs": [
    {
     "name": "stdout",
     "output_type": "stream",
     "text": [
      "a is smaller than n\n"
     ]
    },
    {
     "data": {
      "text/plain": [
       "45"
      ]
     },
     "execution_count": 26,
     "metadata": {},
     "output_type": "execute_result"
    }
   ],
   "source": [
    "a=33\n",
    "n=45\n",
    "if a<n:\n",
    "    print(\"a is smaller than n\")\n",
    "a\n",
    "n"
   ]
  },
  {
   "cell_type": "code",
   "execution_count": 28,
   "id": "eaa0b790",
   "metadata": {},
   "outputs": [
    {
     "name": "stdout",
     "output_type": "stream",
     "text": [
      "a is smaller than n\n",
      "33\n",
      "45\n"
     ]
    }
   ],
   "source": [
    "a=33\n",
    "n=45\n",
    "if a<n:\n",
    "    print(\"a is smaller than n\")\n",
    "print(a)\n",
    "print(n)"
   ]
  },
  {
   "cell_type": "code",
   "execution_count": 30,
   "id": "61916691",
   "metadata": {},
   "outputs": [
    {
     "name": "stdout",
     "output_type": "stream",
     "text": [
      "10 10\n"
     ]
    }
   ],
   "source": [
    "x,y=10,10\n",
    "print(x,y)"
   ]
  },
  {
   "cell_type": "code",
   "execution_count": 9,
   "id": "4455a575",
   "metadata": {},
   "outputs": [
    {
     "name": "stdout",
     "output_type": "stream",
     "text": [
      "x is greater than y\n"
     ]
    }
   ],
   "source": [
    "x,y=10,2\n",
    "if(x<y):\n",
    "    st=(\"x is smaller than y\")\n",
    "elif(x==y):\n",
    "    st=(\"x value is equal to y\")\n",
    "else:\n",
    "    st=(\"x is greater than y\")\n",
    "    print(st)"
   ]
  },
  {
   "cell_type": "code",
   "execution_count": 22,
   "id": "29119d38",
   "metadata": {},
   "outputs": [
    {
     "name": "stdout",
     "output_type": "stream",
     "text": [
      "a is greater than b\n"
     ]
    }
   ],
   "source": [
    "a,b =10,1\n",
    "if a < b:\n",
    "    st=(\"a is smaller than b\")\n",
    "elif a==b:\n",
    "    st=(\"a value is equal to b\")\n",
    "else:\n",
    "    st=(\"a is greater than b\")\n",
    "    print(st)"
   ]
  },
  {
   "cell_type": "code",
   "execution_count": 35,
   "id": "5ff43dfe",
   "metadata": {},
   "outputs": [
    {
     "name": "stdout",
     "output_type": "stream",
     "text": [
      "g is greater than h\n"
     ]
    }
   ],
   "source": [
    "g,h=15,10\n",
    "if g==h:\n",
    "    print('g is equal to h')\n",
    "elif g>h:\n",
    "    print('g is greater than h')\n",
    "else:\n",
    "    print('g is smaller than h')\n",
    "    "
   ]
  },
  {
   "cell_type": "code",
   "execution_count": 44,
   "id": "0a793b3b",
   "metadata": {},
   "outputs": [
    {
     "name": "stdout",
     "output_type": "stream",
     "text": [
      "8\n",
      "7\n",
      "8\n",
      "14\n",
      "8\n",
      "21\n",
      "8\n",
      "28\n",
      "8\n",
      "35\n",
      "8\n",
      "42\n",
      "8\n",
      "49\n"
     ]
    }
   ],
   "source": [
    "li=[1,2,3,4,5,6,7]\n",
    "j=0\n",
    "for i in li:\n",
    "    for i in li:\n",
    "        i=i+1\n",
    "        j=j+1\n",
    "    print(i)\n",
    "    print(j)"
   ]
  },
  {
   "cell_type": "code",
   "execution_count": null,
   "id": "899533fc",
   "metadata": {},
   "outputs": [],
   "source": []
  }
 ],
 "metadata": {
  "kernelspec": {
   "display_name": "Python 3",
   "language": "python",
   "name": "python3"
  },
  "language_info": {
   "codemirror_mode": {
    "name": "ipython",
    "version": 3
   },
   "file_extension": ".py",
   "mimetype": "text/x-python",
   "name": "python",
   "nbconvert_exporter": "python",
   "pygments_lexer": "ipython3",
   "version": "3.8.11"
  }
 },
 "nbformat": 4,
 "nbformat_minor": 5
}
