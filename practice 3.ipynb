{
 "cells": [
  {
   "cell_type": "code",
   "execution_count": 1,
   "id": "d598835f",
   "metadata": {},
   "outputs": [
    {
     "name": "stdout",
     "output_type": "stream",
     "text": [
      "Welcome\n",
      "Abhijit Nanda\n"
     ]
    }
   ],
   "source": [
    "def greeting():\n",
    "    print('Welcome')\n",
    "    print('Abhijit Nanda')\n",
    "\n",
    "greeting()"
   ]
  },
  {
   "cell_type": "code",
   "execution_count": 11,
   "id": "0a898965",
   "metadata": {},
   "outputs": [
    {
     "name": "stdout",
     "output_type": "stream",
     "text": [
      "hy Abhijit\n"
     ]
    }
   ],
   "source": [
    "def gfunc(name):\n",
    "    print(f'hy {name}')\n",
    "    \n",
    "gfunc('Abhijit')"
   ]
  },
  {
   "cell_type": "code",
   "execution_count": 12,
   "id": "680aff8d",
   "metadata": {},
   "outputs": [
    {
     "data": {
      "text/plain": [
       "'Hy Abhijit'"
      ]
     },
     "execution_count": 12,
     "metadata": {},
     "output_type": "execute_result"
    }
   ],
   "source": [
    "def gfunc(name):\n",
    "    return f'Hy {name}'\n",
    "    \n",
    "gfunc('Abhijit')"
   ]
  },
  {
   "cell_type": "code",
   "execution_count": 18,
   "id": "aeb47d45",
   "metadata": {},
   "outputs": [
    {
     "data": {
      "text/plain": [
       "6"
      ]
     },
     "execution_count": 18,
     "metadata": {},
     "output_type": "execute_result"
    }
   ],
   "source": [
    "def gfunc(n,m):\n",
    "    return n+m\n",
    "    \n",
    "gfunc(1,5)"
   ]
  },
  {
   "cell_type": "code",
   "execution_count": 25,
   "id": "27e42d82",
   "metadata": {},
   "outputs": [
    {
     "name": "stdout",
     "output_type": "stream",
     "text": [
      "7\n"
     ]
    }
   ],
   "source": [
    "def gfunc(n,m):\n",
    "    return n+m\n",
    "print(gfunc(3,m=4))"
   ]
  },
  {
   "cell_type": "code",
   "execution_count": 30,
   "id": "00485508",
   "metadata": {},
   "outputs": [
    {
     "data": {
      "text/plain": [
       "6"
      ]
     },
     "execution_count": 30,
     "metadata": {},
     "output_type": "execute_result"
    }
   ],
   "source": [
    "def increment(n,j=4):\n",
    "    return n+j\n",
    "increment(2)"
   ]
  },
  {
   "cell_type": "code",
   "execution_count": 31,
   "id": "c5bb50c1",
   "metadata": {},
   "outputs": [
    {
     "data": {
      "text/plain": [
       "8"
      ]
     },
     "execution_count": 31,
     "metadata": {},
     "output_type": "execute_result"
    }
   ],
   "source": [
    "def increment(n,j=4):\n",
    "    return n+j\n",
    "increment(2,6)"
   ]
  },
  {
   "cell_type": "markdown",
   "id": "fcb36489",
   "metadata": {},
   "source": [
    "# We can assign value to an datatype."
   ]
  },
  {
   "cell_type": "code",
   "execution_count": 32,
   "id": "b659b16a",
   "metadata": {},
   "outputs": [
    {
     "data": {
      "text/plain": [
       "'Abhi'"
      ]
     },
     "execution_count": 32,
     "metadata": {},
     "output_type": "execute_result"
    }
   ],
   "source": [
    "int='Abhi'\n",
    "int"
   ]
  },
  {
   "cell_type": "code",
   "execution_count": 34,
   "id": "30b88a1c",
   "metadata": {},
   "outputs": [
    {
     "data": {
      "text/plain": [
       "5"
      ]
     },
     "execution_count": 34,
     "metadata": {},
     "output_type": "execute_result"
    }
   ],
   "source": [
    "int=5\n",
    "int"
   ]
  },
  {
   "cell_type": "markdown",
   "id": "a2255d4b",
   "metadata": {},
   "source": [
    "# But We can't assign value to a keyword. "
   ]
  },
  {
   "cell_type": "code",
   "execution_count": 33,
   "id": "23371b85",
   "metadata": {},
   "outputs": [
    {
     "ename": "SyntaxError",
     "evalue": "cannot assign to True (<ipython-input-33-382f86499587>, line 1)",
     "output_type": "error",
     "traceback": [
      "\u001b[1;36m  File \u001b[1;32m\"<ipython-input-33-382f86499587>\"\u001b[1;36m, line \u001b[1;32m1\u001b[0m\n\u001b[1;33m    True='Abhi'\u001b[0m\n\u001b[1;37m    ^\u001b[0m\n\u001b[1;31mSyntaxError\u001b[0m\u001b[1;31m:\u001b[0m cannot assign to True\n"
     ]
    }
   ],
   "source": [
    "True='Abhi'\n",
    "True"
   ]
  },
  {
   "cell_type": "code",
   "execution_count": 35,
   "id": "00f041a0",
   "metadata": {},
   "outputs": [
    {
     "ename": "SyntaxError",
     "evalue": "cannot assign to False (<ipython-input-35-bb0d184b6c32>, line 1)",
     "output_type": "error",
     "traceback": [
      "\u001b[1;36m  File \u001b[1;32m\"<ipython-input-35-bb0d184b6c32>\"\u001b[1;36m, line \u001b[1;32m1\u001b[0m\n\u001b[1;33m    False=58\u001b[0m\n\u001b[1;37m    ^\u001b[0m\n\u001b[1;31mSyntaxError\u001b[0m\u001b[1;31m:\u001b[0m cannot assign to False\n"
     ]
    }
   ],
   "source": [
    "False=58\n",
    "False"
   ]
  },
  {
   "cell_type": "code",
   "execution_count": 2,
   "id": "973a11b0",
   "metadata": {},
   "outputs": [
    {
     "name": "stdout",
     "output_type": "stream",
     "text": [
      "['Apple', 'Banana', 'Cherry', 'Kiwi', 'Mango', 'Orange', 'Pinapple']\n"
     ]
    }
   ],
   "source": [
    "thelist=['Apple','Banana','Kiwi','Cherry','Orange','Mango','Pinapple']\n",
    "thelist.sort()\n",
    "print(thelist)"
   ]
  },
  {
   "cell_type": "code",
   "execution_count": 3,
   "id": "58dfd457",
   "metadata": {},
   "outputs": [
    {
     "name": "stdout",
     "output_type": "stream",
     "text": [
      "['Pinapple', 'Orange', 'Mango', 'Kiwi', 'Cherry', 'Banana', 'Apple']\n"
     ]
    }
   ],
   "source": [
    "thelist=['Apple','Banana','Kiwi','Cherry','Orange','Mango','Pinapple']\n",
    "thelist.sort(reverse=True)\n",
    "print(thelist)"
   ]
  },
  {
   "cell_type": "code",
   "execution_count": 5,
   "id": "5d1d7251",
   "metadata": {},
   "outputs": [
    {
     "name": "stdout",
     "output_type": "stream",
     "text": [
      "['Pinapple', 'Mango', 'Orange', 'Cherry', 'Kiwi', 'Banana', 'Apple']\n"
     ]
    }
   ],
   "source": [
    "thelist=['Apple','Banana','Kiwi','Cherry','Orange','Mango','Pinapple']\n",
    "thelist.reverse()\n",
    "print(thelist)"
   ]
  },
  {
   "cell_type": "code",
   "execution_count": 8,
   "id": "73a12690",
   "metadata": {},
   "outputs": [
    {
     "name": "stdout",
     "output_type": "stream",
     "text": [
      "['Apple', 'Banana', 'Mango', 'Orange', 'Pinapple', 'cherry', 'kiwi']\n"
     ]
    }
   ],
   "source": [
    "thelist=['Apple','Banana','kiwi','cherry','Orange','Mango','Pinapple']\n",
    "thelist.sort()\n",
    "print(thelist)"
   ]
  },
  {
   "cell_type": "code",
   "execution_count": 10,
   "id": "ab78d50d",
   "metadata": {},
   "outputs": [
    {
     "name": "stdout",
     "output_type": "stream",
     "text": [
      "['Apple', 'Banana', 'cherry', 'kiwi', 'Mango', 'Orange', 'Pinapple']\n"
     ]
    }
   ],
   "source": [
    "thelist=['Apple','Banana','kiwi','cherry','Orange','Mango','Pinapple']\n",
    "thelist.sort(key=str.upper)\n",
    "print(thelist)"
   ]
  },
  {
   "cell_type": "code",
   "execution_count": 23,
   "id": "33741c30",
   "metadata": {},
   "outputs": [
    {
     "name": "stdout",
     "output_type": "stream",
     "text": [
      "[58, 69, 75, 23, 14, 100, 215]\n"
     ]
    }
   ],
   "source": [
    "def myfunc(n):\n",
    "    return abs(n-50)\n",
    "thislist=[100,58,75,69,23,215,14]    \n",
    "thislist.sort(key=myfunc)\n",
    "print(thislist)"
   ]
  },
  {
   "cell_type": "code",
   "execution_count": 24,
   "id": "efc6e111",
   "metadata": {},
   "outputs": [
    {
     "name": "stdout",
     "output_type": "stream",
     "text": [
      "[1, 25, 85, 14, 65, 'a', 'b', 'c']\n"
     ]
    }
   ],
   "source": [
    "l1=[1,25,85,14,65]\n",
    "l2=['a','b','c']\n",
    "print(l1+l2)"
   ]
  },
  {
   "cell_type": "code",
   "execution_count": 25,
   "id": "86478d3c",
   "metadata": {},
   "outputs": [
    {
     "name": "stdout",
     "output_type": "stream",
     "text": [
      "[1, 25, 85, 14, 65, 'a', 'b', 'c']\n"
     ]
    }
   ],
   "source": [
    "l1=[1,25,85,14,65]\n",
    "l2=['a','b','c']\n",
    "for x in l2:\n",
    "    l1.append(x)\n",
    "print(l1)"
   ]
  },
  {
   "cell_type": "code",
   "execution_count": 26,
   "id": "59657e36",
   "metadata": {},
   "outputs": [
    {
     "name": "stdout",
     "output_type": "stream",
     "text": [
      "[1, 25, 85, 14, 65, 'a', 'b', 'c']\n"
     ]
    }
   ],
   "source": [
    "l1=[1,25,85,14,65]\n",
    "l2=['a','b','c']\n",
    "l1.extend(l2)\n",
    "print(l1)"
   ]
  },
  {
   "cell_type": "code",
   "execution_count": 28,
   "id": "8b9bc451",
   "metadata": {},
   "outputs": [
    {
     "name": "stdout",
     "output_type": "stream",
     "text": [
      "[1, 25, 85, 14, 65]\n"
     ]
    }
   ],
   "source": [
    "l1=[1,25,85,14,65]\n",
    "l2=l1.copy()\n",
    "print(l2)"
   ]
  },
  {
   "cell_type": "code",
   "execution_count": 32,
   "id": "f620644d",
   "metadata": {},
   "outputs": [
    {
     "name": "stdout",
     "output_type": "stream",
     "text": [
      "[1, 25, 85, 85, 14, 65]\n"
     ]
    }
   ],
   "source": [
    "l1=[1,25,85,85,14,65]\n",
    "l2=list(l1)\n",
    "print(l2)"
   ]
  },
  {
   "cell_type": "code",
   "execution_count": 33,
   "id": "0230065b",
   "metadata": {},
   "outputs": [
    {
     "name": "stdout",
     "output_type": "stream",
     "text": [
      "<class 'list'>\n"
     ]
    }
   ],
   "source": [
    "print(type(l1))"
   ]
  },
  {
   "cell_type": "code",
   "execution_count": 34,
   "id": "fcf6e9df",
   "metadata": {},
   "outputs": [
    {
     "name": "stdout",
     "output_type": "stream",
     "text": [
      "<class 'tuple'>\n"
     ]
    }
   ],
   "source": [
    "thistuple=('apple',)\n",
    "print(type(thistuple))"
   ]
  },
  {
   "cell_type": "code",
   "execution_count": 35,
   "id": "2e37bd2a",
   "metadata": {},
   "outputs": [
    {
     "name": "stdout",
     "output_type": "stream",
     "text": [
      "<class 'str'>\n"
     ]
    }
   ],
   "source": [
    "thistuple=('apple')\n",
    "print(type(thistuple))"
   ]
  },
  {
   "cell_type": "code",
   "execution_count": 41,
   "id": "b00b1cd3",
   "metadata": {},
   "outputs": [
    {
     "name": "stdout",
     "output_type": "stream",
     "text": [
      "('a', 'b', 1, 2, 'm', True)\n",
      "<class 'tuple'>\n"
     ]
    }
   ],
   "source": [
    "thistuple=tuple(('a','b',1,2,'m',True))\n",
    "print(thistuple)\n",
    "print(type(thistuple))"
   ]
  },
  {
   "cell_type": "code",
   "execution_count": 49,
   "id": "f2590131",
   "metadata": {},
   "outputs": [
    {
     "name": "stdout",
     "output_type": "stream",
     "text": [
      "m\n",
      "2\n"
     ]
    }
   ],
   "source": [
    "thistuple=tuple(('a','b',1,2,'m',True))\n",
    "print(thistuple[4])\n",
    "print(thistuple[-3])"
   ]
  },
  {
   "cell_type": "code",
   "execution_count": 56,
   "id": "af53f9f3",
   "metadata": {},
   "outputs": [
    {
     "name": "stdout",
     "output_type": "stream",
     "text": [
      "('b', 1, 2)\n"
     ]
    }
   ],
   "source": [
    "print(thistuple[1:4])"
   ]
  },
  {
   "cell_type": "code",
   "execution_count": 55,
   "id": "b23dc74d",
   "metadata": {},
   "outputs": [
    {
     "name": "stdout",
     "output_type": "stream",
     "text": [
      "('b', 1, 2, 'm', True)\n"
     ]
    }
   ],
   "source": [
    "print(thistuple[1:])"
   ]
  },
  {
   "cell_type": "code",
   "execution_count": 57,
   "id": "ba551032",
   "metadata": {},
   "outputs": [
    {
     "name": "stdout",
     "output_type": "stream",
     "text": [
      "('a', 'b', 1, 2)\n"
     ]
    }
   ],
   "source": [
    "print(thistuple[:4])"
   ]
  },
  {
   "cell_type": "code",
   "execution_count": 58,
   "id": "a5740f0b",
   "metadata": {},
   "outputs": [
    {
     "name": "stdout",
     "output_type": "stream",
     "text": [
      "('b', 1)\n"
     ]
    }
   ],
   "source": [
    "print(thistuple[1:-3])"
   ]
  },
  {
   "cell_type": "code",
   "execution_count": 59,
   "id": "a756bc8a",
   "metadata": {},
   "outputs": [
    {
     "name": "stdout",
     "output_type": "stream",
     "text": [
      "('a', 'b', 1, 2)\n"
     ]
    }
   ],
   "source": [
    "print(thistuple[:-2])"
   ]
  },
  {
   "cell_type": "code",
   "execution_count": 64,
   "id": "5e6c9f2e",
   "metadata": {},
   "outputs": [
    {
     "name": "stdout",
     "output_type": "stream",
     "text": [
      "(True, 'm', 2, 1, 'b', 'a')\n"
     ]
    }
   ],
   "source": [
    "print(thistuple[::-1])"
   ]
  },
  {
   "cell_type": "code",
   "execution_count": 61,
   "id": "4d9bd058",
   "metadata": {},
   "outputs": [
    {
     "name": "stdout",
     "output_type": "stream",
     "text": [
      "(1, 2, 'm')\n"
     ]
    }
   ],
   "source": [
    "print(thistuple[-4:-1])"
   ]
  },
  {
   "cell_type": "code",
   "execution_count": 75,
   "id": "2e94535c",
   "metadata": {},
   "outputs": [
    {
     "name": "stdout",
     "output_type": "stream",
     "text": [
      "Yes 'Mango' is present in the 'fruits' tuple\n"
     ]
    }
   ],
   "source": [
    "fruits=('Apple','Banana','Cherry','Kiwi','Mango')\n",
    "if 'Mango' in fruits:\n",
    "    print('Yes \\'Mango\\' is present in the \\'fruits\\' tuple')\n",
    "else:\n",
    "    print('No \\'Mango\\' is not present in the \\'fruits\\' tuple')"
   ]
  },
  {
   "cell_type": "code",
   "execution_count": 81,
   "id": "b5f2dd4b",
   "metadata": {},
   "outputs": [
    {
     "name": "stdout",
     "output_type": "stream",
     "text": [
      "('Apple', 'Kiwi', 'Cherry')\n"
     ]
    }
   ],
   "source": [
    "x=('Mango','Kiwi','Cherry')\n",
    "y=list(x)\n",
    "y[0]='Apple'\n",
    "x=tuple(y)\n",
    "print(x)"
   ]
  },
  {
   "cell_type": "code",
   "execution_count": 84,
   "id": "f114106c",
   "metadata": {},
   "outputs": [
    {
     "name": "stdout",
     "output_type": "stream",
     "text": [
      "('Mango', 'Kiwi', 'Cherry', 'Apple', 'Orange')\n"
     ]
    }
   ],
   "source": [
    "x=('Mango','Kiwi','Cherry')\n",
    "y=list(x)\n",
    "y.append('Apple')\n",
    "y.append('Orange')\n",
    "x=tuple(y)\n",
    "print(x)"
   ]
  },
  {
   "cell_type": "code",
   "execution_count": 85,
   "id": "c62f2aff",
   "metadata": {},
   "outputs": [
    {
     "name": "stdout",
     "output_type": "stream",
     "text": [
      "('Mango', 'Kiwi', 'Cherry', 'Apple', 'Banana', 'Orange')\n"
     ]
    }
   ],
   "source": [
    "x=('Mango','Kiwi','Cherry')\n",
    "y=('Apple','Banana','Orange')\n",
    "print(x+y)"
   ]
  },
  {
   "cell_type": "code",
   "execution_count": 86,
   "id": "348a1596",
   "metadata": {},
   "outputs": [
    {
     "name": "stdout",
     "output_type": "stream",
     "text": [
      "('Mango', 'Kiwi', 'Cherry')\n"
     ]
    }
   ],
   "source": [
    "x=('Mango','Kiwi','Cherry','banana')\n",
    "y=list(x)\n",
    "y.remove('banana')\n",
    "x=tuple(y)\n",
    "print(x)"
   ]
  },
  {
   "cell_type": "code",
   "execution_count": 87,
   "id": "ebb7c495",
   "metadata": {},
   "outputs": [
    {
     "ename": "NameError",
     "evalue": "name 'x' is not defined",
     "output_type": "error",
     "traceback": [
      "\u001b[1;31m---------------------------------------------------------------------------\u001b[0m",
      "\u001b[1;31mNameError\u001b[0m                                 Traceback (most recent call last)",
      "\u001b[1;32m<ipython-input-87-783aafe0b169>\u001b[0m in \u001b[0;36m<module>\u001b[1;34m\u001b[0m\n\u001b[0;32m      1\u001b[0m \u001b[0mx\u001b[0m\u001b[1;33m=\u001b[0m\u001b[1;33m(\u001b[0m\u001b[1;34m'Mango'\u001b[0m\u001b[1;33m,\u001b[0m\u001b[1;34m'Kiwi'\u001b[0m\u001b[1;33m,\u001b[0m\u001b[1;34m'Cherry'\u001b[0m\u001b[1;33m)\u001b[0m\u001b[1;33m\u001b[0m\u001b[1;33m\u001b[0m\u001b[0m\n\u001b[0;32m      2\u001b[0m \u001b[1;32mdel\u001b[0m \u001b[0mx\u001b[0m\u001b[1;33m\u001b[0m\u001b[1;33m\u001b[0m\u001b[0m\n\u001b[1;32m----> 3\u001b[1;33m \u001b[0mprint\u001b[0m\u001b[1;33m(\u001b[0m\u001b[0mx\u001b[0m\u001b[1;33m)\u001b[0m\u001b[1;33m\u001b[0m\u001b[1;33m\u001b[0m\u001b[0m\n\u001b[0m",
      "\u001b[1;31mNameError\u001b[0m: name 'x' is not defined"
     ]
    }
   ],
   "source": [
    "x=('Mango','Kiwi','Cherry')\n",
    "del x\n",
    "print(x)"
   ]
  },
  {
   "cell_type": "code",
   "execution_count": 91,
   "id": "585a3788",
   "metadata": {},
   "outputs": [
    {
     "name": "stdout",
     "output_type": "stream",
     "text": [
      "apple\n",
      "banana\n",
      "cherry\n",
      "orange\n"
     ]
    }
   ],
   "source": [
    "fruits=('apple','banana','cherry','orange')\n",
    "(a,b,c,d)=fruits\n",
    "print(a)\n",
    "print(b)\n",
    "print(c)\n",
    "print(d)"
   ]
  },
  {
   "cell_type": "code",
   "execution_count": 92,
   "id": "2cd3683f",
   "metadata": {},
   "outputs": [
    {
     "name": "stdout",
     "output_type": "stream",
     "text": [
      "apple\n",
      "banana\n",
      "['cherry', 'orange', 'kiwi', 'pineapple']\n"
     ]
    }
   ],
   "source": [
    "fruits=('apple','banana','cherry','orange','kiwi','pineapple')\n",
    "(a,b,*c)=fruits\n",
    "print(a)\n",
    "print(b)\n",
    "print(c)"
   ]
  },
  {
   "cell_type": "code",
   "execution_count": 93,
   "id": "3286bdbc",
   "metadata": {},
   "outputs": [
    {
     "name": "stdout",
     "output_type": "stream",
     "text": [
      "apple\n",
      "['banana', 'cherry', 'orange', 'mango', 'kiwi']\n",
      "pineapple\n"
     ]
    }
   ],
   "source": [
    "fruits=('apple','banana','cherry','orange','mango','kiwi','pineapple')\n",
    "(a,*b,c)=fruits\n",
    "print(a)\n",
    "print(b)\n",
    "print(c)"
   ]
  },
  {
   "cell_type": "code",
   "execution_count": 94,
   "id": "e58c2862",
   "metadata": {},
   "outputs": [
    {
     "name": "stdout",
     "output_type": "stream",
     "text": [
      "Apple\n",
      "Banana\n",
      "Cherry\n",
      "Mango\n"
     ]
    }
   ],
   "source": [
    "thistuple=('Apple','Banana','Cherry','Mango')\n",
    "for x in thistuple:\n",
    "    print(x)"
   ]
  },
  {
   "cell_type": "code",
   "execution_count": 95,
   "id": "b4d0eec5",
   "metadata": {},
   "outputs": [
    {
     "name": "stdout",
     "output_type": "stream",
     "text": [
      "Apple\n",
      "Banana\n",
      "Cherry\n",
      "Mango\n"
     ]
    }
   ],
   "source": [
    "thistuple=('Apple','Banana','Cherry','Mango')\n",
    "for i in range(len(thistuple)):\n",
    "    print(thistuple[i])"
   ]
  },
  {
   "cell_type": "code",
   "execution_count": 96,
   "id": "d1fe07b5",
   "metadata": {},
   "outputs": [
    {
     "name": "stdout",
     "output_type": "stream",
     "text": [
      "Apple\n",
      "Banana\n",
      "Cherry\n",
      "Mango\n"
     ]
    }
   ],
   "source": [
    "thistuple=('Apple','Banana','Cherry','Mango')\n",
    "i=0\n",
    "while i<len(thistuple):\n",
    "    print(thistuple[i])\n",
    "    i+=1"
   ]
  },
  {
   "cell_type": "code",
   "execution_count": 98,
   "id": "5a45d15f",
   "metadata": {},
   "outputs": [
    {
     "name": "stdout",
     "output_type": "stream",
     "text": [
      "('Apple', 'Banana', 'Cherry', 'Mango', 'Apple', 'Banana', 'Cherry', 'Mango', 'Apple', 'Banana', 'Cherry', 'Mango')\n"
     ]
    }
   ],
   "source": [
    "thistuple=('Apple','Banana','Cherry','Mango')\n",
    "mytuple=thistuple*3\n",
    "print(mytuple)"
   ]
  },
  {
   "cell_type": "code",
   "execution_count": 102,
   "id": "2b31fc0f",
   "metadata": {},
   "outputs": [
    {
     "data": {
      "text/plain": [
       "2"
      ]
     },
     "execution_count": 102,
     "metadata": {},
     "output_type": "execute_result"
    }
   ],
   "source": [
    "a=(1,2,5,8,8,5,7,3,69,2,5)\n",
    "a.count(2)"
   ]
  },
  {
   "cell_type": "code",
   "execution_count": 106,
   "id": "80e29ce5",
   "metadata": {},
   "outputs": [
    {
     "name": "stdout",
     "output_type": "stream",
     "text": [
      "1\n"
     ]
    }
   ],
   "source": [
    "a=(1,2,5,8,8,5,7,3,69,2,5)\n",
    "print(a.index(2))"
   ]
  }
 ],
 "metadata": {
  "kernelspec": {
   "display_name": "Python 3",
   "language": "python",
   "name": "python3"
  },
  "language_info": {
   "codemirror_mode": {
    "name": "ipython",
    "version": 3
   },
   "file_extension": ".py",
   "mimetype": "text/x-python",
   "name": "python",
   "nbconvert_exporter": "python",
   "pygments_lexer": "ipython3",
   "version": "3.8.11"
  }
 },
 "nbformat": 4,
 "nbformat_minor": 5
}
