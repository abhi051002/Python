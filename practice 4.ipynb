{
 "cells": [
  {
   "cell_type": "code",
   "execution_count": 2,
   "id": "0503be27",
   "metadata": {},
   "outputs": [
    {
     "name": "stdout",
     "output_type": "stream",
     "text": [
      "{'Banana', 'Cherry', 'Apple'}\n"
     ]
    }
   ],
   "source": [
    "thisset={'Apple','Banana','Cherry','Apple'}\n",
    "print(thisset)"
   ]
  },
  {
   "cell_type": "code",
   "execution_count": 8,
   "id": "c0927756",
   "metadata": {},
   "outputs": [
    {
     "name": "stdout",
     "output_type": "stream",
     "text": [
      "Banana\n",
      "Pineapple\n",
      "Cherry\n",
      "Apple\n"
     ]
    }
   ],
   "source": [
    "thisset={'Banana','Apple','Cherry','Pineapple'}\n",
    "for x in thisset:\n",
    "    print(x)"
   ]
  },
  {
   "cell_type": "code",
   "execution_count": 9,
   "id": "67b59561",
   "metadata": {},
   "outputs": [
    {
     "name": "stdout",
     "output_type": "stream",
     "text": [
      "True\n"
     ]
    }
   ],
   "source": [
    "thisset={'Apple','Banana','Cherry'}\n",
    "print('Banana' in thisset)"
   ]
  },
  {
   "cell_type": "markdown",
   "id": "d77ea5d9",
   "metadata": {},
   "source": [
    "# Program to print day name using number 1 to 7"
   ]
  },
  {
   "cell_type": "code",
   "execution_count": 11,
   "id": "b285d1e5",
   "metadata": {},
   "outputs": [
    {
     "name": "stdout",
     "output_type": "stream",
     "text": [
      "Enter the Day Number5\n",
      "Thursday\n"
     ]
    }
   ],
   "source": [
    "n=int(input('Enter the Day Number'))\n",
    "if n==1:\n",
    "    print('Sunday')\n",
    "elif n==2:\n",
    "    print('Monday')\n",
    "elif n==3:\n",
    "    print('Tuesday')\n",
    "elif n==4:\n",
    "    print('Wednesday')\n",
    "elif n==5:\n",
    "    print('Thursday')\n",
    "elif n==6:\n",
    "    print('Friday')\n",
    "else:\n",
    "    print('Saturday')"
   ]
  },
  {
   "cell_type": "markdown",
   "id": "83d741fa",
   "metadata": {},
   "source": [
    "# Program to check BPUT grades using if-elif-else statement"
   ]
  },
  {
   "cell_type": "code",
   "execution_count": 14,
   "id": "c01b29a9",
   "metadata": {},
   "outputs": [
    {
     "name": "stdout",
     "output_type": "stream",
     "text": [
      "Enter Your Percentage36\n",
      "F Fail\n"
     ]
    }
   ],
   "source": [
    "n=int(input('Enter Your Percentage'))\n",
    "if n>=90 and n<=100:\n",
    "    print('O Outstanding Grade')\n",
    "elif n>=80 and n<=89:\n",
    "    print('E Excellent Grade')\n",
    "elif n>=70 and n<=79:\n",
    "    print('A Very Good Grade')\n",
    "elif n>=60 and n<=69:\n",
    "    print('B Good Grade')\n",
    "elif n>=50 and n<=59:\n",
    "    print('C Fair Grade')\n",
    "elif n>=37 and n<=49:\n",
    "    print('D Below Average Grade')\n",
    "else:\n",
    "    print('F Fail')"
   ]
  },
  {
   "cell_type": "markdown",
   "id": "c2bbe5a1",
   "metadata": {},
   "source": [
    "# Program to find even numbers in a list"
   ]
  },
  {
   "cell_type": "code",
   "execution_count": 17,
   "id": "b2ed1e08",
   "metadata": {},
   "outputs": [
    {
     "name": "stdout",
     "output_type": "stream",
     "text": [
      "22\n",
      "24\n",
      "56\n",
      "100\n"
     ]
    }
   ],
   "source": [
    "list1=[11,25,22,24,65,56,100]\n",
    "for x in list1:\n",
    "    if (x%2==0):\n",
    "        print(x)"
   ]
  },
  {
   "cell_type": "markdown",
   "id": "dfac9a30",
   "metadata": {},
   "source": [
    "# Program to merge two lists"
   ]
  },
  {
   "cell_type": "code",
   "execution_count": 18,
   "id": "f79eec4c",
   "metadata": {},
   "outputs": [
    {
     "name": "stdout",
     "output_type": "stream",
     "text": [
      "['a', 'b', 'c', 1, 2, 30, 56]\n"
     ]
    }
   ],
   "source": [
    "list1=['a','b','c']\n",
    "list2=[1,2,30,56]\n",
    "x=list1+list2\n",
    "print(x)"
   ]
  },
  {
   "cell_type": "markdown",
   "id": "76f338ab",
   "metadata": {},
   "source": [
    "# Interchange first and last element of a list"
   ]
  },
  {
   "cell_type": "code",
   "execution_count": 19,
   "id": "c930b3e4",
   "metadata": {},
   "outputs": [
    {
     "name": "stdout",
     "output_type": "stream",
     "text": [
      "[100, 25, 22, 24, 65, 56, 11]\n"
     ]
    }
   ],
   "source": [
    "list1=[11,25,22,24,65,56,100]\n",
    "x=list1[0]\n",
    "y=list1[-1]\n",
    "list1[0]=y\n",
    "list1[-1]=x\n",
    "print(list1)"
   ]
  },
  {
   "cell_type": "markdown",
   "id": "29295401",
   "metadata": {},
   "source": [
    "#  Program to substract a list from another list"
   ]
  },
  {
   "cell_type": "code",
   "execution_count": 25,
   "id": "ed21e263",
   "metadata": {},
   "outputs": [
    {
     "name": "stdout",
     "output_type": "stream",
     "text": [
      "[0, 0, 29, -11]\n"
     ]
    }
   ],
   "source": [
    "list1=[1,2,59,45]\n",
    "list2=[1,2,30,56]\n",
    "x=[]\n",
    "zipobject=zip(list1,list2)\n",
    "for i,j in zipobject:\n",
    "    x.append(i-j)\n",
    "print(x)"
   ]
  },
  {
   "cell_type": "markdown",
   "id": "cf29cd5b",
   "metadata": {},
   "source": [
    "# Program to store following in list 10,20,30,40,50,60,70,80,90 print in forward and reverse form"
   ]
  },
  {
   "cell_type": "code",
   "execution_count": 6,
   "id": "3ff29094",
   "metadata": {},
   "outputs": [
    {
     "name": "stdout",
     "output_type": "stream",
     "text": [
      "[90, 80, 70, 60, 50, 40, 30, 20, 10]\n",
      "[10, 20, 30, 40, 50, 60, 70, 80, 90]\n"
     ]
    }
   ],
   "source": [
    "l1=[10,20,30,40,50,60,70,80,90]\n",
    "l1.sort(reverse=True)\n",
    "print(l1)\n",
    "l1.sort()\n",
    "print(l1)"
   ]
  },
  {
   "cell_type": "markdown",
   "id": "3ea40b8c",
   "metadata": {},
   "source": [
    "# Program to store following in list red green,blue,yellow,black,pink,gray and print in"
   ]
  },
  {
   "cell_type": "code",
   "execution_count": 1,
   "id": "cea120fe",
   "metadata": {},
   "outputs": [
    {
     "name": "stdout",
     "output_type": "stream",
     "text": [
      "['black', 'blue', 'gray', 'green', 'pink', 'yellow']\n"
     ]
    }
   ],
   "source": [
    "l1=['green','blue','yellow','black','pink','gray']\n",
    "l1.sort()\n",
    "print(l1)"
   ]
  },
  {
   "cell_type": "code",
   "execution_count": 3,
   "id": "700c7b47",
   "metadata": {},
   "outputs": [
    {
     "name": "stdout",
     "output_type": "stream",
     "text": [
      "{'orange', 'cherry', 'banana', 'apple'}\n"
     ]
    }
   ],
   "source": [
    "thisset={'apple','banana','cherry'}\n",
    "thisset.add('orange')\n",
    "print(thisset)"
   ]
  },
  {
   "cell_type": "code",
   "execution_count": 4,
   "id": "2ee9ae65",
   "metadata": {},
   "outputs": [
    {
     "name": "stdout",
     "output_type": "stream",
     "text": [
      "{'pineapple', 'orange', 'mango', 'apple', 'cherry', 'banana'}\n"
     ]
    }
   ],
   "source": [
    "thisset={'apple','banana','cherry'}\n",
    "tropical={'pineapple','orange','mango'}\n",
    "thisset.update(tropical)\n",
    "print(thisset)"
   ]
  },
  {
   "cell_type": "code",
   "execution_count": 2,
   "id": "bf21acd9",
   "metadata": {},
   "outputs": [
    {
     "name": "stdout",
     "output_type": "stream",
     "text": [
      "{1, 'apple', 'abhi', 'cherry', 'banana'}\n"
     ]
    }
   ],
   "source": [
    "thisset={'apple','banana','cherry'}\n",
    "tropical=[1,'abhi']\n",
    "thisset.update(tropical)\n",
    "print(thisset)"
   ]
  },
  {
   "cell_type": "code",
   "execution_count": 4,
   "id": "5e463872",
   "metadata": {},
   "outputs": [
    {
     "name": "stdout",
     "output_type": "stream",
     "text": [
      "{'cherry', 'apple'}\n"
     ]
    }
   ],
   "source": [
    "thisset={'apple','banana','cherry'}\n",
    "thisset.remove('banana')\n",
    "print(thisset)"
   ]
  },
  {
   "cell_type": "code",
   "execution_count": 6,
   "id": "82b846b5",
   "metadata": {},
   "outputs": [
    {
     "name": "stdout",
     "output_type": "stream",
     "text": [
      "{'cherry', 'apple'}\n"
     ]
    }
   ],
   "source": [
    "thisset={'apple','banana','cherry'}\n",
    "thisset.discard('banana')\n",
    "print(thisset)"
   ]
  },
  {
   "cell_type": "code",
   "execution_count": 10,
   "id": "d4e67379",
   "metadata": {},
   "outputs": [
    {
     "name": "stdout",
     "output_type": "stream",
     "text": [
      "set()\n"
     ]
    }
   ],
   "source": [
    "thisset={'apple','banana','cherry'}\n",
    "thisset.clear()\n",
    "print(thisset)"
   ]
  },
  {
   "cell_type": "code",
   "execution_count": 11,
   "id": "5816b6f7",
   "metadata": {},
   "outputs": [
    {
     "ename": "NameError",
     "evalue": "name 'thisset' is not defined",
     "output_type": "error",
     "traceback": [
      "\u001b[1;31m---------------------------------------------------------------------------\u001b[0m",
      "\u001b[1;31mNameError\u001b[0m                                 Traceback (most recent call last)",
      "\u001b[1;32m<ipython-input-11-e19f464541ea>\u001b[0m in \u001b[0;36m<module>\u001b[1;34m\u001b[0m\n\u001b[0;32m      1\u001b[0m \u001b[0mthisset\u001b[0m\u001b[1;33m=\u001b[0m\u001b[1;33m{\u001b[0m\u001b[1;34m'apple'\u001b[0m\u001b[1;33m,\u001b[0m\u001b[1;34m'banana'\u001b[0m\u001b[1;33m,\u001b[0m\u001b[1;34m'cherry'\u001b[0m\u001b[1;33m}\u001b[0m\u001b[1;33m\u001b[0m\u001b[1;33m\u001b[0m\u001b[0m\n\u001b[0;32m      2\u001b[0m \u001b[1;32mdel\u001b[0m \u001b[0mthisset\u001b[0m\u001b[1;33m\u001b[0m\u001b[1;33m\u001b[0m\u001b[0m\n\u001b[1;32m----> 3\u001b[1;33m \u001b[0mprint\u001b[0m\u001b[1;33m(\u001b[0m\u001b[0mthisset\u001b[0m\u001b[1;33m)\u001b[0m\u001b[1;33m\u001b[0m\u001b[1;33m\u001b[0m\u001b[0m\n\u001b[0m",
      "\u001b[1;31mNameError\u001b[0m: name 'thisset' is not defined"
     ]
    }
   ],
   "source": [
    "thisset={'apple','banana','cherry'}\n",
    "del thisset\n",
    "print(thisset)"
   ]
  },
  {
   "cell_type": "code",
   "execution_count": 17,
   "id": "76240b63",
   "metadata": {},
   "outputs": [
    {
     "name": "stdout",
     "output_type": "stream",
     "text": [
      "cherry\n",
      "{'banana', 'apple'}\n"
     ]
    }
   ],
   "source": [
    "thisset={'apple','banana','cherry'}\n",
    "x=thisset.pop()\n",
    "print(x)\n",
    "print(thisset)"
   ]
  },
  {
   "cell_type": "code",
   "execution_count": 18,
   "id": "058cdda3",
   "metadata": {},
   "outputs": [
    {
     "name": "stdout",
     "output_type": "stream",
     "text": [
      "cherry\n",
      "banana\n",
      "apple\n"
     ]
    }
   ],
   "source": [
    "thisset={'apple','banana','cherry'}\n",
    "for x in thisset:\n",
    "    print(x)"
   ]
  },
  {
   "cell_type": "code",
   "execution_count": 19,
   "id": "700306a6",
   "metadata": {},
   "outputs": [
    {
     "name": "stdout",
     "output_type": "stream",
     "text": [
      "{1, 2, 3, 4, 'd', 'a', 'c', 'b'}\n"
     ]
    }
   ],
   "source": [
    "s1={'a','b','c','d'}\n",
    "s2={1,2,3,4}\n",
    "s3=s1.union(s2)\n",
    "print(s3)"
   ]
  },
  {
   "cell_type": "code",
   "execution_count": 24,
   "id": "a51e6c48",
   "metadata": {},
   "outputs": [
    {
     "name": "stdout",
     "output_type": "stream",
     "text": [
      "{1, 2, 3, 4, 'd', 'a', 'c', 'b'}\n"
     ]
    }
   ],
   "source": [
    "s1={'a','b','c','d'}\n",
    "s2={1,2,3,4}\n",
    "s1.update(s2)\n",
    "print(s1)"
   ]
  },
  {
   "cell_type": "code",
   "execution_count": 26,
   "id": "2fe3eb4c",
   "metadata": {},
   "outputs": [
    {
     "name": "stdout",
     "output_type": "stream",
     "text": [
      "{'b', 'c'}\n"
     ]
    }
   ],
   "source": [
    "x={'a','b','c'}\n",
    "y={'b','c','e'}\n",
    "x.intersection_update(y)\n",
    "print(x) "
   ]
  },
  {
   "cell_type": "code",
   "execution_count": 28,
   "id": "e47c3ffe",
   "metadata": {},
   "outputs": [
    {
     "name": "stdout",
     "output_type": "stream",
     "text": [
      "{'b', 'c'}\n"
     ]
    }
   ],
   "source": [
    "x={'a','b','c'}\n",
    "y={'b','c','e'}\n",
    "z=x.intersection(y)\n",
    "print(z)"
   ]
  },
  {
   "cell_type": "code",
   "execution_count": 31,
   "id": "92fb7dea",
   "metadata": {},
   "outputs": [
    {
     "name": "stdout",
     "output_type": "stream",
     "text": [
      "{'e', 'a'}\n"
     ]
    }
   ],
   "source": [
    "x={'a','b','c'}\n",
    "y={'b','c','e'}\n",
    "x.symmetric_difference_update(y)\n",
    "print(x)"
   ]
  },
  {
   "cell_type": "code",
   "execution_count": 32,
   "id": "16c698aa",
   "metadata": {},
   "outputs": [
    {
     "name": "stdout",
     "output_type": "stream",
     "text": [
      "{'e', 'a'}\n"
     ]
    }
   ],
   "source": [
    "x={'a','b','c'}\n",
    "y={'b','c','e'}\n",
    "z=x.symmetric_difference(y)\n",
    "print(z)"
   ]
  }
 ],
 "metadata": {
  "kernelspec": {
   "display_name": "Python 3",
   "language": "python",
   "name": "python3"
  },
  "language_info": {
   "codemirror_mode": {
    "name": "ipython",
    "version": 3
   },
   "file_extension": ".py",
   "mimetype": "text/x-python",
   "name": "python",
   "nbconvert_exporter": "python",
   "pygments_lexer": "ipython3",
   "version": "3.8.11"
  }
 },
 "nbformat": 4,
 "nbformat_minor": 5
}
