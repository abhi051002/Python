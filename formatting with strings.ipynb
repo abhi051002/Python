{
 "cells": [
  {
   "cell_type": "code",
   "execution_count": 1,
   "id": "76680a46",
   "metadata": {},
   "outputs": [
    {
     "name": "stdout",
     "output_type": "stream",
     "text": [
      "I'm Abhijit Nanda From Jajpur here to help poor Peoples.\n"
     ]
    }
   ],
   "source": [
    "print(\"I'm Abhijit Nanda From %s here to help poor %s.\"%('Jajpur','Peoples'))"
   ]
  },
  {
   "cell_type": "code",
   "execution_count": 1,
   "id": "5882ac75",
   "metadata": {},
   "outputs": [
    {
     "name": "stdout",
     "output_type": "stream",
     "text": [
      "My Name is Abhijit Nanda.\n",
      "My Name is Abhijit 'Nanda'.\n"
     ]
    }
   ],
   "source": [
    "print('My Name is Abhijit %s.'%'Nanda')\n",
    "print('My Name is Abhijit %r.'%'Nanda')"
   ]
  },
  {
   "cell_type": "code",
   "execution_count": 2,
   "id": "fb48af16",
   "metadata": {},
   "outputs": [
    {
     "name": "stdout",
     "output_type": "stream",
     "text": [
      "My Name is Abhijit \tNanda.\n",
      "My Name is Abhijit '\\tNanda'.\n"
     ]
    }
   ],
   "source": [
    "print('My Name is Abhijit %s.'%'\\tNanda')\n",
    "print('My Name is Abhijit %r.'%'\\tNanda')"
   ]
  },
  {
   "cell_type": "code",
   "execution_count": 6,
   "id": "4c21794f",
   "metadata": {},
   "outputs": [
    {
     "name": "stdout",
     "output_type": "stream",
     "text": [
      "I got 9.85 in exam.\n",
      "I got 9 in exam.\n"
     ]
    }
   ],
   "source": [
    "print('I got %s in exam.'%9.85)\n",
    "print('I got %d in exam.'%9.85)"
   ]
  },
  {
   "cell_type": "code",
   "execution_count": 7,
   "id": "93b87f92",
   "metadata": {},
   "outputs": [
    {
     "name": "stdout",
     "output_type": "stream",
     "text": [
      "Floating Point Numbers: 13.44000\n"
     ]
    }
   ],
   "source": [
    "print('Floating Point Numbers: %1.5f'%(13.44))"
   ]
  },
  {
   "cell_type": "code",
   "execution_count": 10,
   "id": "a70749e0",
   "metadata": {},
   "outputs": [
    {
     "name": "stdout",
     "output_type": "stream",
     "text": [
      "Floating Point Numbers:  13.4\n"
     ]
    }
   ],
   "source": [
    "print('Floating Point Numbers: %5.1f'%(13.44))"
   ]
  },
  {
   "cell_type": "code",
   "execution_count": 11,
   "id": "583906b2",
   "metadata": {},
   "outputs": [
    {
     "name": "stdout",
     "output_type": "stream",
     "text": [
      "Floating Point Numbers:       13.4\n"
     ]
    }
   ],
   "source": [
    "print('Floating Point Numbers: %10.1f'%(13.44))"
   ]
  },
  {
   "cell_type": "code",
   "execution_count": null,
   "id": "a35c3661",
   "metadata": {},
   "outputs": [],
   "source": []
  }
 ],
 "metadata": {
  "kernelspec": {
   "display_name": "Python 3",
   "language": "python",
   "name": "python3"
  },
  "language_info": {
   "codemirror_mode": {
    "name": "ipython",
    "version": 3
   },
   "file_extension": ".py",
   "mimetype": "text/x-python",
   "name": "python",
   "nbconvert_exporter": "python",
   "pygments_lexer": "ipython3",
   "version": "3.8.11"
  }
 },
 "nbformat": 4,
 "nbformat_minor": 5
}
