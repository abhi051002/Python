{
 "cells": [
  {
   "cell_type": "code",
   "execution_count": 1,
   "id": "deae0938",
   "metadata": {},
   "outputs": [
    {
     "name": "stdout",
     "output_type": "stream",
     "text": [
      "The GCD of 60 and 48 is: 12\n"
     ]
    }
   ],
   "source": [
    "#To find the GCD of Two numbers\n",
    "import math\n",
    "print('The GCD of 60 and 48 is:',math.gcd(60,48))"
   ]
  },
  {
   "cell_type": "code",
   "execution_count": 2,
   "id": "8892ede8",
   "metadata": {},
   "outputs": [
    {
     "name": "stdout",
     "output_type": "stream",
     "text": [
      "The GCD of 60 and 48 is: 12\n"
     ]
    }
   ],
   "source": [
    "#To find the GCD of Two numbers\n",
    "def hcf(a,b):\n",
    "    if(b==0):\n",
    "        return a\n",
    "    else:\n",
    "        return hcf(b,a%b)\n",
    "a,b=60,48\n",
    "print('The GCD of 60 and 48 is:',hcf(60,48))"
   ]
  },
  {
   "cell_type": "code",
   "execution_count": 11,
   "id": "8f95cb2e",
   "metadata": {},
   "outputs": [
    {
     "name": "stdout",
     "output_type": "stream",
     "text": [
      "2.0\n"
     ]
    }
   ],
   "source": [
    "#To find the Square root of a number\n",
    "import math\n",
    "n=4\n",
    "print(math.sqrt(n))"
   ]
  },
  {
   "cell_type": "code",
   "execution_count": 14,
   "id": "9d8fa4ed",
   "metadata": {},
   "outputs": [
    {
     "name": "stdout",
     "output_type": "stream",
     "text": [
      "The value of 3**4 is: 81\n"
     ]
    }
   ],
   "source": [
    "#To find the Power Of a number\n",
    "n=1\n",
    "for i in range(1,5):\n",
    "    n*=3\n",
    "print('The value of 3**4 is:',n)"
   ]
  },
  {
   "cell_type": "code",
   "execution_count": 15,
   "id": "84cc7a74",
   "metadata": {},
   "outputs": [
    {
     "name": "stdout",
     "output_type": "stream",
     "text": [
      "The value of 3**5 is: 243\n"
     ]
    }
   ],
   "source": [
    "#To find the Power Of a number\n",
    "print('The value of 3**5 is:',pow(3,5))"
   ]
  },
  {
   "cell_type": "code",
   "execution_count": 16,
   "id": "8c9b352c",
   "metadata": {},
   "outputs": [
    {
     "name": "stdout",
     "output_type": "stream",
     "text": [
      "The value of -3**5 is: -243\n"
     ]
    }
   ],
   "source": [
    "#To find the Power Of a number\n",
    "print('The value of -3**5 is:',pow(-3,5))"
   ]
  },
  {
   "cell_type": "code",
   "execution_count": 17,
   "id": "ed5b1176",
   "metadata": {},
   "outputs": [
    {
     "name": "stdout",
     "output_type": "stream",
     "text": [
      "The value of 3**-5 is: 0.00411522633744856\n"
     ]
    }
   ],
   "source": [
    "#To find the Power Of a number\n",
    "print('The value of 3**-5 is:',pow(3,-5))"
   ]
  },
  {
   "cell_type": "code",
   "execution_count": 18,
   "id": "11a57a63",
   "metadata": {},
   "outputs": [
    {
     "name": "stdout",
     "output_type": "stream",
     "text": [
      "The value of -3**-5 is: -0.00411522633744856\n"
     ]
    }
   ],
   "source": [
    "#To find the Power Of a number\n",
    "print('The value of -3**-5 is:',pow(-3,-5))"
   ]
  },
  {
   "cell_type": "code",
   "execution_count": 20,
   "id": "058dcc40",
   "metadata": {},
   "outputs": [
    {
     "data": {
      "text/plain": [
       "[4, 10, 45, 82, 99]"
      ]
     },
     "execution_count": 20,
     "metadata": {},
     "output_type": "execute_result"
    }
   ],
   "source": [
    "#to sort a list\n",
    "list1=[10,82,4,45,99]\n",
    "list1.sort()\n",
    "list1"
   ]
  },
  {
   "cell_type": "code",
   "execution_count": 22,
   "id": "cea6c077",
   "metadata": {},
   "outputs": [
    {
     "name": "stdout",
     "output_type": "stream",
     "text": [
      "Largest Element In the list is: 101\n"
     ]
    }
   ],
   "source": [
    "#To print the last number of list after Sorting\n",
    "list=[5,87,42,101,8]\n",
    "list.sort()\n",
    "print(\"Largest Element In the list is:\",list[-1])"
   ]
  },
  {
   "cell_type": "code",
   "execution_count": 24,
   "id": "9c8111a0",
   "metadata": {},
   "outputs": [
    {
     "name": "stdout",
     "output_type": "stream",
     "text": [
      "Largest Element In the list is: 50\n"
     ]
    }
   ],
   "source": [
    "#To print the last number using max() method\n",
    "list2=[50,8,42,10,48]\n",
    "print(\"Largest Element In the list is:\",max(list2))"
   ]
  },
  {
   "cell_type": "code",
   "execution_count": 25,
   "id": "97a1c5c0",
   "metadata": {},
   "outputs": [
    {
     "name": "stdout",
     "output_type": "stream",
     "text": [
      "Enter the number of element in the list:5\n",
      "Enter Elements:10\n",
      "Enter Elements:58\n",
      "Enter Elements:94\n",
      "Enter Elements:107\n",
      "Enter Elements:5\n",
      "Largest Element In the list is: 107\n"
     ]
    }
   ],
   "source": [
    "#To print the last number using max() method by user input\n",
    "li=[]\n",
    "num=int(input('Enter the number of element in the list:'))\n",
    "for i in range(1,num+1):\n",
    "    ele=int(input(\"Enter Elements:\"))\n",
    "    li.append(ele)\n",
    "print(\"Largest Element In the list is:\",max(li))"
   ]
  },
  {
   "cell_type": "code",
   "execution_count": null,
   "id": "adfc300b",
   "metadata": {},
   "outputs": [],
   "source": []
  }
 ],
 "metadata": {
  "kernelspec": {
   "display_name": "Python 3",
   "language": "python",
   "name": "python3"
  },
  "language_info": {
   "codemirror_mode": {
    "name": "ipython",
    "version": 3
   },
   "file_extension": ".py",
   "mimetype": "text/x-python",
   "name": "python",
   "nbconvert_exporter": "python",
   "pygments_lexer": "ipython3",
   "version": "3.8.11"
  }
 },
 "nbformat": 4,
 "nbformat_minor": 5
}
