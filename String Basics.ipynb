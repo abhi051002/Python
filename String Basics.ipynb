{
 "cells": [
  {
   "cell_type": "code",
   "execution_count": 5,
   "id": "ff00602a",
   "metadata": {},
   "outputs": [
    {
     "name": "stdout",
     "output_type": "stream",
     "text": [
      "My 10 Charecter is:   25.48530\n"
     ]
    }
   ],
   "source": [
    "num=25.4853\n",
    "print(\"My 10 Charecter is: {0:10.5f}\".format(num))"
   ]
  },
  {
   "cell_type": "code",
   "execution_count": 8,
   "id": "1d3219ca",
   "metadata": {},
   "outputs": [
    {
     "name": "stdout",
     "output_type": "stream",
     "text": [
      "My 10 Charecter is:      25.49\n"
     ]
    }
   ],
   "source": [
    "print(f'My 10 Charecter is: {num:{10}.{4}}')"
   ]
  },
  {
   "cell_type": "code",
   "execution_count": 11,
   "id": "448b82b0",
   "metadata": {},
   "outputs": [
    {
     "data": {
      "text/plain": [
       "'S'"
      ]
     },
     "execution_count": 11,
     "metadata": {},
     "output_type": "execute_result"
    }
   ],
   "source": [
    "n='SLENDID'\n",
    "n[0]"
   ]
  },
  {
   "cell_type": "code",
   "execution_count": 15,
   "id": "4855e48f",
   "metadata": {},
   "outputs": [
    {
     "data": {
      "text/plain": [
       "'D'"
      ]
     },
     "execution_count": 15,
     "metadata": {},
     "output_type": "execute_result"
    }
   ],
   "source": [
    "n[-1]"
   ]
  },
  {
   "cell_type": "code",
   "execution_count": 16,
   "id": "74bed1cd",
   "metadata": {},
   "outputs": [
    {
     "data": {
      "text/plain": [
       "'E'"
      ]
     },
     "execution_count": 16,
     "metadata": {},
     "output_type": "execute_result"
    }
   ],
   "source": [
    "n[2]"
   ]
  },
  {
   "cell_type": "code",
   "execution_count": 17,
   "id": "0a8778e5",
   "metadata": {},
   "outputs": [
    {
     "data": {
      "text/plain": [
       "'E'"
      ]
     },
     "execution_count": 17,
     "metadata": {},
     "output_type": "execute_result"
    }
   ],
   "source": [
    "n[-5]"
   ]
  },
  {
   "cell_type": "code",
   "execution_count": 19,
   "id": "d66d22ce",
   "metadata": {},
   "outputs": [
    {
     "data": {
      "text/plain": [
       "'SLENDID'"
      ]
     },
     "execution_count": 19,
     "metadata": {},
     "output_type": "execute_result"
    }
   ],
   "source": [
    "n"
   ]
  },
  {
   "cell_type": "code",
   "execution_count": 20,
   "id": "3e77d4d3",
   "metadata": {},
   "outputs": [
    {
     "data": {
      "text/plain": [
       "'LENDID'"
      ]
     },
     "execution_count": 20,
     "metadata": {},
     "output_type": "execute_result"
    }
   ],
   "source": [
    "n[1:]"
   ]
  },
  {
   "cell_type": "code",
   "execution_count": 21,
   "id": "00980c6b",
   "metadata": {},
   "outputs": [
    {
     "data": {
      "text/plain": [
       "'LEND'"
      ]
     },
     "execution_count": 21,
     "metadata": {},
     "output_type": "execute_result"
    }
   ],
   "source": [
    "n[1:5]"
   ]
  },
  {
   "cell_type": "code",
   "execution_count": 22,
   "id": "70c708a2",
   "metadata": {},
   "outputs": [
    {
     "data": {
      "text/plain": [
       "'ND'"
      ]
     },
     "execution_count": 22,
     "metadata": {},
     "output_type": "execute_result"
    }
   ],
   "source": [
    "n[3:5]"
   ]
  },
  {
   "cell_type": "code",
   "execution_count": 23,
   "id": "d2693558",
   "metadata": {},
   "outputs": [
    {
     "data": {
      "text/plain": [
       "'SLENDI'"
      ]
     },
     "execution_count": 23,
     "metadata": {},
     "output_type": "execute_result"
    }
   ],
   "source": [
    "n[:6]"
   ]
  },
  {
   "cell_type": "code",
   "execution_count": 24,
   "id": "8f63fcbb",
   "metadata": {},
   "outputs": [
    {
     "data": {
      "text/plain": [
       "'SLENDID'"
      ]
     },
     "execution_count": 24,
     "metadata": {},
     "output_type": "execute_result"
    }
   ],
   "source": [
    "n[:]"
   ]
  },
  {
   "cell_type": "code",
   "execution_count": 25,
   "id": "6813e2ef",
   "metadata": {},
   "outputs": [
    {
     "data": {
      "text/plain": [
       "'SLEND'"
      ]
     },
     "execution_count": 25,
     "metadata": {},
     "output_type": "execute_result"
    }
   ],
   "source": [
    "n[:-2]"
   ]
  },
  {
   "cell_type": "code",
   "execution_count": 26,
   "id": "ec3b908c",
   "metadata": {},
   "outputs": [
    {
     "data": {
      "text/plain": [
       "'SLENDID'"
      ]
     },
     "execution_count": 26,
     "metadata": {},
     "output_type": "execute_result"
    }
   ],
   "source": [
    "n[::1]"
   ]
  },
  {
   "cell_type": "code",
   "execution_count": 27,
   "id": "f2704dcc",
   "metadata": {},
   "outputs": [
    {
     "data": {
      "text/plain": [
       "'SEDD'"
      ]
     },
     "execution_count": 27,
     "metadata": {},
     "output_type": "execute_result"
    }
   ],
   "source": [
    "n[::2]"
   ]
  },
  {
   "cell_type": "code",
   "execution_count": 28,
   "id": "cc56cf7b",
   "metadata": {},
   "outputs": [
    {
     "data": {
      "text/plain": [
       "'DDES'"
      ]
     },
     "execution_count": 28,
     "metadata": {},
     "output_type": "execute_result"
    }
   ],
   "source": [
    "n[::-2]"
   ]
  },
  {
   "cell_type": "code",
   "execution_count": 30,
   "id": "16e0fd3f",
   "metadata": {},
   "outputs": [
    {
     "data": {
      "text/plain": [
       "'DIDNELS'"
      ]
     },
     "execution_count": 30,
     "metadata": {},
     "output_type": "execute_result"
    }
   ],
   "source": [
    "n[::-1]"
   ]
  },
  {
   "cell_type": "code",
   "execution_count": 35,
   "id": "b895320e",
   "metadata": {},
   "outputs": [],
   "source": [
    "p= 'Ball'\n",
    "p=p+' Concat'"
   ]
  },
  {
   "cell_type": "code",
   "execution_count": 36,
   "id": "2a99d469",
   "metadata": {},
   "outputs": [
    {
     "data": {
      "text/plain": [
       "'Ball Concat'"
      ]
     },
     "execution_count": 36,
     "metadata": {},
     "output_type": "execute_result"
    }
   ],
   "source": [
    "p"
   ]
  },
  {
   "cell_type": "code",
   "execution_count": 37,
   "id": "98e624c6",
   "metadata": {},
   "outputs": [],
   "source": [
    "p=p.lower()"
   ]
  },
  {
   "cell_type": "code",
   "execution_count": 38,
   "id": "9bf4a6ab",
   "metadata": {},
   "outputs": [
    {
     "data": {
      "text/plain": [
       "'ball concat'"
      ]
     },
     "execution_count": 38,
     "metadata": {},
     "output_type": "execute_result"
    }
   ],
   "source": [
    "p"
   ]
  },
  {
   "cell_type": "code",
   "execution_count": 39,
   "id": "888d38ab",
   "metadata": {},
   "outputs": [
    {
     "data": {
      "text/plain": [
       "'BALL CONCAT'"
      ]
     },
     "execution_count": 39,
     "metadata": {},
     "output_type": "execute_result"
    }
   ],
   "source": [
    "p.upper()"
   ]
  },
  {
   "cell_type": "code",
   "execution_count": 42,
   "id": "5c1a036d",
   "metadata": {},
   "outputs": [
    {
     "data": {
      "text/plain": [
       "['b', 'll conc', 't']"
      ]
     },
     "execution_count": 42,
     "metadata": {},
     "output_type": "execute_result"
    }
   ],
   "source": [
    "p.split('a')"
   ]
  },
  {
   "cell_type": "code",
   "execution_count": 44,
   "id": "722e45df",
   "metadata": {},
   "outputs": [
    {
     "data": {
      "text/plain": [
       "['Abhijit N', 'nd', '']"
      ]
     },
     "execution_count": 44,
     "metadata": {},
     "output_type": "execute_result"
    }
   ],
   "source": [
    "k='Abhijit Nanda'\n",
    "k.split('a')"
   ]
  },
  {
   "cell_type": "code",
   "execution_count": null,
   "id": "15d84a9d",
   "metadata": {},
   "outputs": [],
   "source": []
  }
 ],
 "metadata": {
  "kernelspec": {
   "display_name": "Python 3",
   "language": "python",
   "name": "python3"
  },
  "language_info": {
   "codemirror_mode": {
    "name": "ipython",
    "version": 3
   },
   "file_extension": ".py",
   "mimetype": "text/x-python",
   "name": "python",
   "nbconvert_exporter": "python",
   "pygments_lexer": "ipython3",
   "version": "3.8.11"
  }
 },
 "nbformat": 4,
 "nbformat_minor": 5
}
