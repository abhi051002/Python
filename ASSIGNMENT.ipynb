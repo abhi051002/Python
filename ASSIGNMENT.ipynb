{
 "cells": [
  {
   "cell_type": "code",
   "execution_count": 3,
   "id": "1a6b8981",
   "metadata": {},
   "outputs": [
    {
     "name": "stdout",
     "output_type": "stream",
     "text": [
      "1\n",
      "4\n",
      "9\n",
      "16\n",
      "25\n"
     ]
    }
   ],
   "source": [
    "for num in [1,2,3,4,5]:\n",
    "    print(num**2)"
   ]
  },
  {
   "cell_type": "code",
   "execution_count": 8,
   "id": "b12d82c6",
   "metadata": {},
   "outputs": [
    {
     "name": "stdout",
     "output_type": "stream",
     "text": [
      "C\n",
      "o\n",
      "m\n",
      "p\n",
      "u\n",
      "t\n",
      "e\n",
      "r\n"
     ]
    }
   ],
   "source": [
    "for num in 'Computer':\n",
    "    print(num)"
   ]
  },
  {
   "cell_type": "code",
   "execution_count": 9,
   "id": "508325fc",
   "metadata": {},
   "outputs": [],
   "source": [
    "prices=[2.6,5.3,8.1]"
   ]
  },
  {
   "cell_type": "code",
   "execution_count": 10,
   "id": "71bc0f39",
   "metadata": {},
   "outputs": [
    {
     "name": "stdout",
     "output_type": "stream",
     "text": [
      "Price is 2.6\n",
      "Price is 5.3\n",
      "Price is 8.1\n"
     ]
    }
   ],
   "source": [
    "for price in prices:\n",
    "    print('Price is',price)"
   ]
  },
  {
   "cell_type": "code",
   "execution_count": 22,
   "id": "600b9fb8",
   "metadata": {},
   "outputs": [
    {
     "name": "stdout",
     "output_type": "stream",
     "text": [
      "0.17770519933675977\n",
      "4\n",
      "54\n"
     ]
    }
   ],
   "source": [
    "import random\n",
    "r1=random.random()\n",
    "print(r1)\n",
    "r2=random.choice([1,2,3,4])\n",
    "print(r2)\n",
    "r3=random.randint(1,100)\n",
    "print(r3)"
   ]
  },
  {
   "cell_type": "code",
   "execution_count": 32,
   "id": "7dd1cf45",
   "metadata": {},
   "outputs": [
    {
     "name": "stdout",
     "output_type": "stream",
     "text": [
      "2017\n",
      "2019\n",
      "2021\n",
      "2023\n"
     ]
    }
   ],
   "source": [
    "for i in range(2017,2025,2):\n",
    "    print(i)"
   ]
  },
  {
   "cell_type": "code",
   "execution_count": 31,
   "id": "004cb73f",
   "metadata": {},
   "outputs": [
    {
     "name": "stdout",
     "output_type": "stream",
     "text": [
      "135\n",
      "794\n",
      "1436\n",
      "375\n",
      "1017\n",
      "1787\n",
      "1261\n",
      "1018\n",
      "1498\n",
      "539\n"
     ]
    }
   ],
   "source": [
    "import random\n",
    "for i in range(10):\n",
    "    num=random.randint(1,2000)\n",
    "    print(num)"
   ]
  },
  {
   "cell_type": "code",
   "execution_count": 36,
   "id": "77278e24",
   "metadata": {},
   "outputs": [
    {
     "name": "stdout",
     "output_type": "stream",
     "text": [
      "Mutton : $ 120\n",
      "Chicken : $ 80\n",
      "Veg : $ 40\n"
     ]
    }
   ],
   "source": [
    "n={'Mutton':120,'Chicken':80,'Veg':40}\n",
    "for name,price in n.items():\n",
    "    print(name,': $',price)"
   ]
  },
  {
   "cell_type": "code",
   "execution_count": 2,
   "id": "20d4ba93",
   "metadata": {},
   "outputs": [
    {
     "name": "stdout",
     "output_type": "stream",
     "text": [
      "Enter a num5\n",
      "1\n",
      "2\n",
      "3\n",
      "4\n",
      "5\n"
     ]
    }
   ],
   "source": [
    "n=int(input('Enter a num'))\n",
    "for i in range(1,n+1,1):\n",
    "    print(i)"
   ]
  },
  {
   "cell_type": "code",
   "execution_count": 8,
   "id": "68f128c8",
   "metadata": {},
   "outputs": [
    {
     "name": "stdout",
     "output_type": "stream",
     "text": [
      "Outer 2005\n",
      "Inner 2005\n",
      "Inner 2006\n",
      "Inner 2007\n",
      "Inner 2008\n",
      "Outer 2006\n",
      "Inner 2005\n",
      "Inner 2006\n",
      "Inner 2007\n",
      "Inner 2008\n",
      "Outer 2007\n",
      "Inner 2005\n",
      "Inner 2006\n",
      "Inner 2007\n",
      "Inner 2008\n",
      "Outer 2008\n",
      "Inner 2005\n",
      "Inner 2006\n",
      "Inner 2007\n",
      "Inner 2008\n",
      "Good Bye!\n"
     ]
    }
   ],
   "source": [
    "for i in range(2005,2009,1):\n",
    "    print('Outer',i)\n",
    "    for j in range(2005,2009,1):\n",
    "        print('Inner',j)\n",
    "print('Good Bye!')    "
   ]
  },
  {
   "cell_type": "code",
   "execution_count": 15,
   "id": "743b3127",
   "metadata": {},
   "outputs": [
    {
     "name": "stdout",
     "output_type": "stream",
     "text": [
      "Enter A Number:-5\n",
      "The Table of 5 is here\n",
      "5 * 1 = 5\n",
      "5 * 2 = 10\n",
      "5 * 3 = 15\n",
      "5 * 4 = 20\n",
      "5 * 5 = 25\n",
      "5 * 6 = 30\n",
      "5 * 7 = 35\n",
      "5 * 8 = 40\n",
      "5 * 9 = 45\n",
      "5 * 10 = 50\n"
     ]
    }
   ],
   "source": [
    "#WAP to print table of n, where n is entered by the user.\n",
    "n=int(input('Enter A Number:-'))\n",
    "print('The Table of',n,'is here')\n",
    "for i in range(1,11):\n",
    "    print(n,'*',i,'=',n*i)\n"
   ]
  },
  {
   "cell_type": "code",
   "execution_count": 7,
   "id": "7ab9ea00",
   "metadata": {},
   "outputs": [
    {
     "name": "stdout",
     "output_type": "stream",
     "text": [
      "Enter a natural number8\n",
      "36\n"
     ]
    }
   ],
   "source": [
    "#WAP to print sum of n natural numbers, where n is entered by the user.\n",
    "m=int(input('Enter a natural number'))\n",
    "k=0\n",
    "for i in range(1,m+1,1):\n",
    "    k+=i\n",
    "print(k)"
   ]
  },
  {
   "cell_type": "code",
   "execution_count": 12,
   "id": "b3a6e027",
   "metadata": {},
   "outputs": [
    {
     "name": "stdout",
     "output_type": "stream",
     "text": [
      "Enter A Number:-4\n",
      "24\n"
     ]
    }
   ],
   "source": [
    "#WAP to print the factorial of the given number, where number is entered by the user. \n",
    "j=int(input('Enter A Number:-'))\n",
    "h=1\n",
    "for w in range(1,j+1,1):\n",
    "    h*=w\n",
    "print(h)"
   ]
  },
  {
   "cell_type": "code",
   "execution_count": null,
   "id": "205cf192",
   "metadata": {},
   "outputs": [],
   "source": [
    "#WAP to input sales of the month and calculate the average sales of that month.\n",
    "d=int(input('Enter :-'))"
   ]
  },
  {
   "cell_type": "code",
   "execution_count": 1,
   "id": "e3cd8958",
   "metadata": {},
   "outputs": [
    {
     "name": "stdout",
     "output_type": "stream",
     "text": [
      "Name:-Abhijit Nanda\n",
      "Branch:-CSE\n"
     ]
    }
   ],
   "source": [
    "#program to print my name,branch using comand line\n",
    "print('Name:-Abhijit Nanda')\n",
    "print('Branch:-CSE')"
   ]
  },
  {
   "cell_type": "code",
   "execution_count": 6,
   "id": "938c40df",
   "metadata": {},
   "outputs": [
    {
     "name": "stdout",
     "output_type": "stream",
     "text": [
      "SubjectListof4thSemCSE:-\n",
      "--------------------------\n",
      "DiscreteMathematics\n",
      "DesignandAnalysisofAlgorithms\n",
      "EngineeringEconomics/OrganisationalBehaviour\n",
      "ComputerOrganizationandArchitecture\n",
      "ProblemSolvingandPythonProgrammingLaboratory\n",
      "DesignandAnalysisofAlgorithmsLab\n",
      "ComputerOrganizationandArchitectureLab\n"
     ]
    }
   ],
   "source": [
    "#program to print subject details of current semestar\n",
    "print(\"SubjectListof4thSemCSE:-\")\n",
    "print('--------------------------')\n",
    "print(\"DiscreteMathematics\")\n",
    "print(\"DesignandAnalysisofAlgorithms\")\n",
    "print(\"EngineeringEconomics/OrganisationalBehaviour\")\n",
    "print(\"ComputerOrganizationandArchitecture\")\n",
    "print(\"ProblemSolvingandPythonProgrammingLaboratory\")\n",
    "print(\"DesignandAnalysisofAlgorithmsLab\")\n",
    "print(\"ComputerOrganizationandArchitectureLab\")"
   ]
  },
  {
   "cell_type": "code",
   "execution_count": 1,
   "id": "e34f34fb",
   "metadata": {},
   "outputs": [
    {
     "name": "stdout",
     "output_type": "stream",
     "text": [
      "Enter 1st Number5\n",
      "Enter 2nd Number2\n",
      "Enter 3rd Number5\n",
      "Sum of Three Numbers is: 12\n",
      "Average of Three Numbers is: 4.0\n"
     ]
    }
   ],
   "source": [
    "#program to find sum of 3 Numbers and theres Average\n",
    "n=int(input(\"Enter 1st Number\"))\n",
    "n1=int(input(\"Enter 2nd Number\"))\n",
    "n2=int(input(\"Enter 3rd Number\"))\n",
    "print('Sum of Three Numbers is:',n+n1+n2)\n",
    "print('Average of Three Numbers is:',(n+n1+n2)/3)"
   ]
  },
  {
   "cell_type": "code",
   "execution_count": 3,
   "id": "442c9435",
   "metadata": {},
   "outputs": [
    {
     "name": "stdout",
     "output_type": "stream",
     "text": [
      "Enter Time Period:8\n",
      "Enter The Principal:5\n",
      "Enter rate of intrest2\n",
      "Simple Intrest: 0.8\n"
     ]
    }
   ],
   "source": [
    "#program to calculate simple interest\n",
    "t=int(input('Enter Time Period:'))\n",
    "p=int(input('Enter The Principal:'))\n",
    "r=int(input('Enter rate of intrest'))\n",
    "si=(p*r*t)/100\n",
    "print('Simple Intrest:',si)"
   ]
  },
  {
   "cell_type": "code",
   "execution_count": 5,
   "id": "5cae53e7",
   "metadata": {},
   "outputs": [
    {
     "name": "stdout",
     "output_type": "stream",
     "text": [
      "Enter Number:4\n",
      "You have Entered a Even Number.\n"
     ]
    }
   ],
   "source": [
    "#program to check number is even or odd[if-elsestatement]\n",
    "n=int(input('Enter Number:'))\n",
    "if n%2==0:\n",
    "    print('You have Entered a Even Number.')\n",
    "else:\n",
    "    print('You have Entered a Odd Number.')"
   ]
  },
  {
   "cell_type": "code",
   "execution_count": 13,
   "id": "912a9f39",
   "metadata": {},
   "outputs": [
    {
     "name": "stdout",
     "output_type": "stream",
     "text": [
      "Enter a Roll Number:85\n",
      "You have Entered a Invalid Roll Number.\n"
     ]
    }
   ],
   "source": [
    "#program to check valid Roll number\n",
    "n=int(input('Enter a Roll Number:'))\n",
    "if (n>=1 and n<=63):\n",
    "    print('You have Entered a Valid Roll Number.')\n",
    "else:\n",
    "    print('You have Entered a Invalid Roll Number.')"
   ]
  },
  {
   "cell_type": "code",
   "execution_count": 19,
   "id": "051a484e",
   "metadata": {},
   "outputs": [
    {
     "name": "stdout",
     "output_type": "stream",
     "text": [
      "Enter The 1st Number4\n",
      "Enter The 2nd Number4\n",
      "4 is equal to 4\n"
     ]
    }
   ],
   "source": [
    "#program to check greater number among two numbers\n",
    "n1=int(input('Enter The 1st Number'))\n",
    "n2=int(input('Enter The 2nd Number'))\n",
    "if n1>n2:\n",
    "    print(n1 ,\"is greater than\" ,n2)\n",
    "elif n1==n2:\n",
    "    print(n1, 'is equal to' ,n2)\n",
    "else:\n",
    "    print(n2 ,'is greater than' ,n1)"
   ]
  },
  {
   "cell_type": "code",
   "execution_count": 21,
   "id": "67707248",
   "metadata": {},
   "outputs": [
    {
     "name": "stdout",
     "output_type": "stream",
     "text": [
      "Enter a Number:4\n",
      "4 is not divisible by 2,3,5.\n"
     ]
    }
   ],
   "source": [
    "#program to check number is divisible by 2,3 and 5.\n",
    "d=int(input('Enter a Number:'))\n",
    "if (d%2==0 and d%3==0 and d%5==0):\n",
    "    print(d ,'is divisible by 2,3,5.')\n",
    "else:\n",
    "    print(d ,'is not divisible by 2,3,5.')"
   ]
  },
  {
   "cell_type": "code",
   "execution_count": 1,
   "id": "94d858bf",
   "metadata": {},
   "outputs": [
    {
     "name": "stdout",
     "output_type": "stream",
     "text": [
      "Enter the number of element in the list:5\n",
      "Enter Elements:10\n",
      "Enter Elements:2\n",
      "Enter Elements:58\n",
      "Enter Elements:25\n",
      "Enter Elements:265\n",
      "Largest Element In the list is: 265\n"
     ]
    }
   ],
   "source": [
    "li=[]\n",
    "num=int(input('Enter the number of element in the list:'))\n",
    "for i in range(1,num+1):\n",
    "    ele=int(input(\"Enter Elements:\"))\n",
    "    li.append(ele)\n",
    "print(\"Largest Element In the list is:\",max(li))"
   ]
  },
  {
   "cell_type": "code",
   "execution_count": 2,
   "id": "6139ad7c",
   "metadata": {},
   "outputs": [
    {
     "name": "stdout",
     "output_type": "stream",
     "text": [
      "Largest Element In the list is: 50\n"
     ]
    }
   ],
   "source": [
    "list2=[50,8,42,10,48]\n",
    "print(\"Largest Element In the list is:\",max(list2))"
   ]
  },
  {
   "cell_type": "code",
   "execution_count": null,
   "id": "f3e4cbcf",
   "metadata": {},
   "outputs": [],
   "source": [
    "# "
   ]
  }
 ],
 "metadata": {
  "kernelspec": {
   "display_name": "Python 3",
   "language": "python",
   "name": "python3"
  },
  "language_info": {
   "codemirror_mode": {
    "name": "ipython",
    "version": 3
   },
   "file_extension": ".py",
   "mimetype": "text/x-python",
   "name": "python",
   "nbconvert_exporter": "python",
   "pygments_lexer": "ipython3",
   "version": "3.8.11"
  }
 },
 "nbformat": 4,
 "nbformat_minor": 5
}
