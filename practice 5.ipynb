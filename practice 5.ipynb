{
 "cells": [
  {
   "cell_type": "code",
   "execution_count": 6,
   "id": "9bc25498",
   "metadata": {},
   "outputs": [
    {
     "name": "stdout",
     "output_type": "stream",
     "text": [
      "I am Abhijit Nanda\n"
     ]
    }
   ],
   "source": [
    "f=open('demofile.txt','r')\n",
    "print(f.read())"
   ]
  },
  {
   "cell_type": "code",
   "execution_count": 10,
   "id": "e138c17b",
   "metadata": {},
   "outputs": [
    {
     "name": "stdout",
     "output_type": "stream",
     "text": [
      " I am Abhijit I am from Jajpur\n"
     ]
    }
   ],
   "source": [
    "f=open('demofile.txt','a')\n",
    "f.write(' I am from Jajpur')\n",
    "f.close()\n",
    "f=open('demofile.txt','r')\n",
    "print(f.read())"
   ]
  },
  {
   "cell_type": "code",
   "execution_count": 1,
   "id": "759aade7",
   "metadata": {},
   "outputs": [],
   "source": [
    "f=open(\"txt.txt\",\"w\")\n",
    "f.write('Hello, I\\'m Abhijit Nanda')\n",
    "f.close()"
   ]
  },
  {
   "cell_type": "code",
   "execution_count": 2,
   "id": "2fa51eaf",
   "metadata": {},
   "outputs": [],
   "source": [
    "g=open('F:\\\\Study Material\\\\Python\\\\abhi.txt','w')\n",
    "g.close()"
   ]
  },
  {
   "cell_type": "code",
   "execution_count": 3,
   "id": "671fdccb",
   "metadata": {},
   "outputs": [],
   "source": [
    "import os\n",
    "os.remove('F:\\\\Study Material\\\\Python\\\\abhi.txt')"
   ]
  },
  {
   "cell_type": "code",
   "execution_count": 1,
   "id": "9315e026",
   "metadata": {},
   "outputs": [
    {
     "name": "stdout",
     "output_type": "stream",
     "text": [
      "{'brand': 'Paris', 'item': 'Pestry', 'price': 34}\n"
     ]
    }
   ],
   "source": [
    "thisdict={'brand':'Paris','item':'Pestry','price':34}\n",
    "print(thisdict)"
   ]
  },
  {
   "cell_type": "code",
   "execution_count": 2,
   "id": "39a5efde",
   "metadata": {},
   "outputs": [
    {
     "name": "stdout",
     "output_type": "stream",
     "text": [
      "Paris\n"
     ]
    }
   ],
   "source": [
    "thisdict={'brand':'Paris','item':'Pestry','price':34}\n",
    "print(thisdict['brand'])"
   ]
  },
  {
   "cell_type": "code",
   "execution_count": 4,
   "id": "57fb4539",
   "metadata": {},
   "outputs": [
    {
     "name": "stdout",
     "output_type": "stream",
     "text": [
      "{'brand': 'Paris', 'item': 'Pestry', 'price': 58, 'pri': 58}\n"
     ]
    }
   ],
   "source": [
    "thisdict={'brand':'Paris','item':'Pestry','price':34,'price':58,'pri':58}\n",
    "print(thisdict)"
   ]
  },
  {
   "cell_type": "code",
   "execution_count": 5,
   "id": "2d5eff94",
   "metadata": {},
   "outputs": [
    {
     "data": {
      "text/plain": [
       "4"
      ]
     },
     "execution_count": 5,
     "metadata": {},
     "output_type": "execute_result"
    }
   ],
   "source": [
    "len(thisdict)"
   ]
  },
  {
   "cell_type": "code",
   "execution_count": 17,
   "id": "ab22869d",
   "metadata": {},
   "outputs": [
    {
     "name": "stdout",
     "output_type": "stream",
     "text": [
      "<class 'dict'>\n"
     ]
    }
   ],
   "source": [
    "print(type(thisdict))"
   ]
  },
  {
   "cell_type": "code",
   "execution_count": 8,
   "id": "09ca28e8",
   "metadata": {},
   "outputs": [
    {
     "data": {
      "text/plain": [
       "dict"
      ]
     },
     "execution_count": 8,
     "metadata": {},
     "output_type": "execute_result"
    }
   ],
   "source": [
    "type(thisdict)"
   ]
  },
  {
   "cell_type": "code",
   "execution_count": 10,
   "id": "ae81c3f6",
   "metadata": {},
   "outputs": [
    {
     "name": "stdout",
     "output_type": "stream",
     "text": [
      "{'a': 1, 'b': False, 'c': 'Ford', 'color': ['red', 'green', 'blue', 'white']}\n"
     ]
    }
   ],
   "source": [
    "thisdict={'a':1,'b':False,'c':'Ford','color':['red','green','blue','white']}\n",
    "print(thisdict)"
   ]
  },
  {
   "cell_type": "code",
   "execution_count": 14,
   "id": "fea76703",
   "metadata": {},
   "outputs": [
    {
     "name": "stdout",
     "output_type": "stream",
     "text": [
      "['red', 'green', 'blue', 'white']\n"
     ]
    }
   ],
   "source": [
    "print(thisdict['color'])"
   ]
  },
  {
   "cell_type": "code",
   "execution_count": 15,
   "id": "16866180",
   "metadata": {},
   "outputs": [
    {
     "name": "stdout",
     "output_type": "stream",
     "text": [
      "blue\n"
     ]
    }
   ],
   "source": [
    "print(thisdict['color'][2])"
   ]
  },
  {
   "cell_type": "code",
   "execution_count": 20,
   "id": "5fe08a85",
   "metadata": {},
   "outputs": [
    {
     "name": "stdout",
     "output_type": "stream",
     "text": [
      "Mustang\n"
     ]
    }
   ],
   "source": [
    "thisdict={'Brand':'Ford','Model':'Mustang','Year':2021}\n",
    "x=thisdict['Model']\n",
    "print(x)"
   ]
  },
  {
   "cell_type": "code",
   "execution_count": 21,
   "id": "08312ee4",
   "metadata": {},
   "outputs": [
    {
     "name": "stdout",
     "output_type": "stream",
     "text": [
      "Mustang\n"
     ]
    }
   ],
   "source": [
    "print(thisdict.get('Model'))"
   ]
  },
  {
   "cell_type": "code",
   "execution_count": 33,
   "id": "6fe0798b",
   "metadata": {},
   "outputs": [
    {
     "name": "stdout",
     "output_type": "stream",
     "text": [
      "dict_keys(['a', 'b', 'c'])\n",
      "dict_keys(['a', 'b', 'c', 'color'])\n",
      "{'a': 1, 'b': 'abc', 'c': 158, 'color': 'White'}\n"
     ]
    }
   ],
   "source": [
    "thisdict={'a':1,'b':'abc','c':158}\n",
    "x=thisdict.keys()\n",
    "print(x) #before changes\n",
    "thisdict['color']='White'\n",
    "print(x) #after changes\n",
    "print(thisdict)"
   ]
  },
  {
   "cell_type": "code",
   "execution_count": 34,
   "id": "73bc0a13",
   "metadata": {},
   "outputs": [
    {
     "name": "stdout",
     "output_type": "stream",
     "text": [
      "dict_values(['Ford', 'Mustang', 2021])\n"
     ]
    }
   ],
   "source": [
    "thisdict={'Brand':'Ford','Model':'Mustang','Year':2021}\n",
    "x=thisdict.values()\n",
    "print(x)"
   ]
  },
  {
   "cell_type": "code",
   "execution_count": 43,
   "id": "1cff4627",
   "metadata": {},
   "outputs": [
    {
     "name": "stdout",
     "output_type": "stream",
     "text": [
      "\n",
      " dict_values(['Ford', 'Mustang', 2021])\n",
      "\n",
      " {'Brand': 'Ford', 'Model': 'Mustang', 'Year': 2021, 'Color': 'Black'}\n",
      "\n",
      " dict_values(['Ford', 'Mustang', 2021, 'Black'])\n"
     ]
    }
   ],
   "source": [
    "thisdict={'Brand':'Ford','Model':'Mustang','Year':2021}\n",
    "x=thisdict.values()\n",
    "print('\\n',x)#before change\n",
    "thisdict['Color']='Black'\n",
    "print(\"\\n\",thisdict)\n",
    "print('\\n',x)#after change"
   ]
  },
  {
   "cell_type": "code",
   "execution_count": 45,
   "id": "779d392a",
   "metadata": {},
   "outputs": [
    {
     "name": "stdout",
     "output_type": "stream",
     "text": [
      "\n",
      " dict_values(['Ford', 'Mustang', 2021])\n",
      "\n",
      " {'Brand': 'Ford', 'Model': 'Mustang', 'Year': 2020}\n",
      "\n",
      " dict_values(['Ford', 'Mustang', 2020])\n"
     ]
    }
   ],
   "source": [
    "thisdict={'Brand':'Ford','Model':'Mustang','Year':2021}\n",
    "x=thisdict.values()\n",
    "print('\\n',x)#after change\n",
    "thisdict['Year']=2020\n",
    "print(\"\\n\",thisdict)#before change\n",
    "print('\\n',x)"
   ]
  },
  {
   "cell_type": "code",
   "execution_count": 46,
   "id": "160de43b",
   "metadata": {},
   "outputs": [
    {
     "name": "stdout",
     "output_type": "stream",
     "text": [
      "dict_items([('Brand', 'Ford'), ('Model', 'Mustang'), ('Year', 2021)])\n"
     ]
    }
   ],
   "source": [
    "thisdict={'Brand':'Ford','Model':'Mustang','Year':2021}\n",
    "x=thisdict.items()\n",
    "print(x)"
   ]
  },
  {
   "cell_type": "code",
   "execution_count": 48,
   "id": "8253cb49",
   "metadata": {},
   "outputs": [
    {
     "name": "stdout",
     "output_type": "stream",
     "text": [
      "dict_items([('Brand', 'Ford'), ('Model', 'Mustang'), ('Year', 2021)])\n",
      "dict_items([('Brand', 'Ford'), ('Model', 'Mustang'), ('Year', 2020)])\n"
     ]
    }
   ],
   "source": [
    "thisdict={'Brand':'Ford','Model':'Mustang','Year':2021}\n",
    "x=thisdict.items()\n",
    "print(x) #before change\n",
    "thisdict['Year']=2020\n",
    "print(x) #after change"
   ]
  },
  {
   "cell_type": "code",
   "execution_count": 49,
   "id": "6874e87c",
   "metadata": {},
   "outputs": [
    {
     "name": "stdout",
     "output_type": "stream",
     "text": [
      "dict_items([('Brand', 'Ford'), ('Year', 2021)])\n",
      "dict_items([('Brand', 'Ford'), ('Year', 2021), ('Model', 'Mustang')])\n"
     ]
    }
   ],
   "source": [
    "thisdict={'Brand':'Ford','Year':2021}\n",
    "x=thisdict.items()\n",
    "print(x) #before change\n",
    "thisdict['Model']='Mustang'\n",
    "print(x) #after change"
   ]
  },
  {
   "cell_type": "code",
   "execution_count": 51,
   "id": "93dd1b38",
   "metadata": {},
   "outputs": [
    {
     "name": "stdout",
     "output_type": "stream",
     "text": [
      "Yes,'year' is one of the key of 'thisdict' dictionary.\n"
     ]
    }
   ],
   "source": [
    "thisdict={'brand':'ford','model':'Mustang','year':2020}\n",
    "if 'year' in thisdict:\n",
    "    print(\"Yes,'year' is one of the key of 'thisdict' dictionary.\")"
   ]
  },
  {
   "cell_type": "code",
   "execution_count": 56,
   "id": "6ca1586e",
   "metadata": {},
   "outputs": [
    {
     "name": "stdout",
     "output_type": "stream",
     "text": [
      "{'brand': 'ford', 'model': 'mustang', 'year': 2018}\n"
     ]
    }
   ],
   "source": [
    "thisdict={'brand':'ford','model':'mustang','year':1964}\n",
    "thisdict['year']=2018\n",
    "print(thisdict)"
   ]
  },
  {
   "cell_type": "code",
   "execution_count": 58,
   "id": "ee864134",
   "metadata": {},
   "outputs": [
    {
     "name": "stdout",
     "output_type": "stream",
     "text": [
      "{'brand': 'ford', 'model': 'mustang', 'year': 2021}\n"
     ]
    }
   ],
   "source": [
    "thisdict={'brand':'ford','model':'mustang','year':1964}\n",
    "thisdict.update({'year':2021})\n",
    "print(thisdict)"
   ]
  },
  {
   "cell_type": "code",
   "execution_count": 59,
   "id": "20c68a67",
   "metadata": {},
   "outputs": [
    {
     "name": "stdout",
     "output_type": "stream",
     "text": [
      "{'brand': 'ford', 'model': 'mustang', 'year': 1964, 'color': 'White'}\n"
     ]
    }
   ],
   "source": [
    "thisdict={'brand':'ford','model':'mustang','year':1964}\n",
    "thisdict['color']='White'\n",
    "print(thisdict)"
   ]
  },
  {
   "cell_type": "code",
   "execution_count": 60,
   "id": "cddaf7d3",
   "metadata": {},
   "outputs": [
    {
     "name": "stdout",
     "output_type": "stream",
     "text": [
      "{'brand': 'ford', 'model': 'mustang', 'year': 1964, 'color': 'White'}\n"
     ]
    }
   ],
   "source": [
    "thisdict={'brand':'ford','model':'mustang','year':1964}\n",
    "thisdict.update({'color':'White'})\n",
    "print(thisdict)"
   ]
  },
  {
   "cell_type": "code",
   "execution_count": 61,
   "id": "521b2fa9",
   "metadata": {},
   "outputs": [
    {
     "name": "stdout",
     "output_type": "stream",
     "text": [
      "{'brand': 'ford', 'year': 1964}\n"
     ]
    }
   ],
   "source": [
    "thisdict={'brand':'ford','model':'mustang','year':1964}\n",
    "thisdict.pop('model')\n",
    "print(thisdict)"
   ]
  },
  {
   "cell_type": "code",
   "execution_count": 63,
   "id": "ae2a5436",
   "metadata": {},
   "outputs": [
    {
     "name": "stdout",
     "output_type": "stream",
     "text": [
      "{'brand': 'ford', 'model': 'mustang'}\n"
     ]
    }
   ],
   "source": [
    "thisdict={'brand':'ford','model':'mustang','year':1964}\n",
    "thisdict.popitem()\n",
    "print(thisdict)"
   ]
  },
  {
   "cell_type": "code",
   "execution_count": 66,
   "id": "567279c4",
   "metadata": {},
   "outputs": [
    {
     "name": "stdout",
     "output_type": "stream",
     "text": [
      "{'brand': 'ford', 'year': 1964}\n"
     ]
    }
   ],
   "source": [
    "thisdict={'brand':'ford','model':'mustang','year':1964}\n",
    "del thisdict['model']\n",
    "print(thisdict)"
   ]
  },
  {
   "cell_type": "code",
   "execution_count": 67,
   "id": "5fc599ba",
   "metadata": {},
   "outputs": [
    {
     "ename": "NameError",
     "evalue": "name 'thisdict' is not defined",
     "output_type": "error",
     "traceback": [
      "\u001b[1;31m---------------------------------------------------------------------------\u001b[0m",
      "\u001b[1;31mNameError\u001b[0m                                 Traceback (most recent call last)",
      "\u001b[1;32m<ipython-input-67-c3e239bd32c6>\u001b[0m in \u001b[0;36m<module>\u001b[1;34m\u001b[0m\n\u001b[0;32m      1\u001b[0m \u001b[0mthisdict\u001b[0m\u001b[1;33m=\u001b[0m\u001b[1;33m{\u001b[0m\u001b[1;34m'brand'\u001b[0m\u001b[1;33m:\u001b[0m\u001b[1;34m'ford'\u001b[0m\u001b[1;33m,\u001b[0m\u001b[1;34m'model'\u001b[0m\u001b[1;33m:\u001b[0m\u001b[1;34m'mustang'\u001b[0m\u001b[1;33m,\u001b[0m\u001b[1;34m'year'\u001b[0m\u001b[1;33m:\u001b[0m\u001b[1;36m1964\u001b[0m\u001b[1;33m}\u001b[0m\u001b[1;33m\u001b[0m\u001b[1;33m\u001b[0m\u001b[0m\n\u001b[0;32m      2\u001b[0m \u001b[1;32mdel\u001b[0m \u001b[0mthisdict\u001b[0m\u001b[1;33m\u001b[0m\u001b[1;33m\u001b[0m\u001b[0m\n\u001b[1;32m----> 3\u001b[1;33m \u001b[0mprint\u001b[0m\u001b[1;33m(\u001b[0m\u001b[0mthisdict\u001b[0m\u001b[1;33m)\u001b[0m\u001b[1;33m\u001b[0m\u001b[1;33m\u001b[0m\u001b[0m\n\u001b[0m",
      "\u001b[1;31mNameError\u001b[0m: name 'thisdict' is not defined"
     ]
    }
   ],
   "source": [
    "thisdict={'brand':'ford','model':'mustang','year':1964}\n",
    "del thisdict\n",
    "print(thisdict)"
   ]
  },
  {
   "cell_type": "code",
   "execution_count": 68,
   "id": "3235c474",
   "metadata": {},
   "outputs": [
    {
     "name": "stdout",
     "output_type": "stream",
     "text": [
      "{}\n"
     ]
    }
   ],
   "source": [
    "thisdict={'brand':'ford','model':'mustang','year':1964}\n",
    "thisdict.clear()\n",
    "print(thisdict)"
   ]
  },
  {
   "cell_type": "code",
   "execution_count": 69,
   "id": "c124d918",
   "metadata": {},
   "outputs": [
    {
     "name": "stdout",
     "output_type": "stream",
     "text": [
      "brand\n",
      "model\n",
      "year\n"
     ]
    }
   ],
   "source": [
    "thisdict={'brand':'ford','model':'mustang','year':1964}\n",
    "for x in thisdict:\n",
    "    print(x)"
   ]
  },
  {
   "cell_type": "code",
   "execution_count": 70,
   "id": "ae309227",
   "metadata": {},
   "outputs": [
    {
     "name": "stdout",
     "output_type": "stream",
     "text": [
      "ford\n",
      "mustang\n",
      "1964\n"
     ]
    }
   ],
   "source": [
    "thisdict={'brand':'ford','model':'mustang','year':1964}\n",
    "for x in thisdict:\n",
    "    print(thisdict[x])"
   ]
  },
  {
   "cell_type": "code",
   "execution_count": 71,
   "id": "46d5fcf1",
   "metadata": {},
   "outputs": [
    {
     "name": "stdout",
     "output_type": "stream",
     "text": [
      "ford\n",
      "mustang\n",
      "1964\n"
     ]
    }
   ],
   "source": [
    "thisdict={'brand':'ford','model':'mustang','year':1964}\n",
    "for x in thisdict.values():\n",
    "    print(x)"
   ]
  },
  {
   "cell_type": "code",
   "execution_count": 73,
   "id": "817a96cf",
   "metadata": {},
   "outputs": [
    {
     "name": "stdout",
     "output_type": "stream",
     "text": [
      "('brand', 'ford')\n",
      "('model', 'mustang')\n",
      "('year', 1964)\n"
     ]
    }
   ],
   "source": [
    "thisdict={'brand':'ford','model':'mustang','year':1964}\n",
    "for x in thisdict.items():\n",
    "    print(x)"
   ]
  },
  {
   "cell_type": "code",
   "execution_count": 74,
   "id": "0d0c35bb",
   "metadata": {},
   "outputs": [
    {
     "name": "stdout",
     "output_type": "stream",
     "text": [
      "brand\n",
      "model\n",
      "year\n"
     ]
    }
   ],
   "source": [
    "thisdict={'brand':'ford','model':'mustang','year':1964}\n",
    "for x in thisdict.keys():\n",
    "    print(x)"
   ]
  },
  {
   "cell_type": "code",
   "execution_count": 75,
   "id": "c6311c46",
   "metadata": {},
   "outputs": [
    {
     "name": "stdout",
     "output_type": "stream",
     "text": [
      "{'brand': 'ford', 'model': 'mustang', 'year': 1964}\n"
     ]
    }
   ],
   "source": [
    "thisdict={'brand':'ford','model':'mustang','year':1964}\n",
    "mydict=thisdict.copy()\n",
    "print(mydict)"
   ]
  },
  {
   "cell_type": "code",
   "execution_count": 83,
   "id": "a8ecb6fc",
   "metadata": {},
   "outputs": [
    {
     "name": "stdout",
     "output_type": "stream",
     "text": [
      "{'brand': 'ford', 'model': 'mustang', 'year': 1964}\n"
     ]
    }
   ],
   "source": [
    "thisdict={'brand':'ford','model':'mustang','year':1964}\n",
    "mydict=dict(thisdict)\n",
    "print(mydict)"
   ]
  },
  {
   "cell_type": "code",
   "execution_count": 88,
   "id": "6eb945e3",
   "metadata": {
    "scrolled": false
   },
   "outputs": [
    {
     "name": "stdout",
     "output_type": "stream",
     "text": [
      "{'child1': {'name': 'Tom', 'year': 2000}, 'child2': {'name': 'bob', 'year': 2010}, 'child3': {'name': 'salca', 'year': 2011}, 'child4': {'name': 'Eli', 'year': 2015}}\n"
     ]
    }
   ],
   "source": [
    "family={'child1':{'name':'Tom','year':2000},'child2':{'name':'bob','year':2010},'child3':{'name':'salca','year':2011},'child4':{'name':'Eli','year':2015}}\n",
    "print(family)"
   ]
  },
  {
   "cell_type": "code",
   "execution_count": 87,
   "id": "2a3a0b24",
   "metadata": {},
   "outputs": [
    {
     "name": "stdout",
     "output_type": "stream",
     "text": [
      "{'child1': {'name': 'Tom', 'year': 2000}, 'child2': {'name': 'bob', 'year': 2010}, 'child3': {'name': 'salca', 'year': 2011}}\n"
     ]
    }
   ],
   "source": [
    "child1={'name':'Tom','year':2000}\n",
    "child2={'name':'bob','year':2010}\n",
    "child3={'name':'salca','year':2011}\n",
    "family={'child1':child1,'child2':child2,'child3':child3}\n",
    "print(family)"
   ]
  }
 ],
 "metadata": {
  "kernelspec": {
   "display_name": "Python 3",
   "language": "python",
   "name": "python3"
  },
  "language_info": {
   "codemirror_mode": {
    "name": "ipython",
    "version": 3
   },
   "file_extension": ".py",
   "mimetype": "text/x-python",
   "name": "python",
   "nbconvert_exporter": "python",
   "pygments_lexer": "ipython3",
   "version": "3.8.11"
  }
 },
 "nbformat": 4,
 "nbformat_minor": 5
}
