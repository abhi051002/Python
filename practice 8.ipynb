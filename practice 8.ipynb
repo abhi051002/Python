{
 "cells": [
  {
   "cell_type": "code",
   "execution_count": 1,
   "id": "f86c6088",
   "metadata": {},
   "outputs": [
    {
     "name": "stdout",
     "output_type": "stream",
     "text": [
      "Enter a Number:5\n",
      "You have entered  5\n",
      "Thank You!\n"
     ]
    }
   ],
   "source": [
    "n=int(input(\"Enter a Number:\"))\n",
    "print(\"You have entered \",n)\n",
    "print(\"Thank You!\")"
   ]
  },
  {
   "cell_type": "code",
   "execution_count": 3,
   "id": "cce7b13f",
   "metadata": {},
   "outputs": [
    {
     "name": "stdout",
     "output_type": "stream",
     "text": [
      "My**Name**is**Abhijit**Nanda\n"
     ]
    }
   ],
   "source": [
    "print(\"My\",\"Name\",\"is\",\"Abhijit\",\"Nanda\",sep=\"**\")"
   ]
  },
  {
   "cell_type": "code",
   "execution_count": 9,
   "id": "38cb1cac",
   "metadata": {},
   "outputs": [
    {
     "name": "stdout",
     "output_type": "stream",
     "text": [
      "10\n"
     ]
    }
   ],
   "source": [
    "num=8\n",
    "print('%o'% num)"
   ]
  },
  {
   "cell_type": "code",
   "execution_count": 12,
   "id": "f0f07dba",
   "metadata": {},
   "outputs": [
    {
     "name": "stdout",
     "output_type": "stream",
     "text": [
      "458.54\n"
     ]
    }
   ],
   "source": [
    "num=458.541315\n",
    "print(\"%.2f\"%num)"
   ]
  },
  {
   "cell_type": "code",
   "execution_count": 19,
   "id": "95f0b207",
   "metadata": {},
   "outputs": [
    {
     "name": "stdout",
     "output_type": "stream",
     "text": [
      "Enter number at loction:5.4\n",
      "Enter number at loction:4.6\n",
      "Enter number at loction:2.3\n",
      "Enter number at loction:1.5\n",
      "Enter number at loction:4.9\n",
      "User Input [5.4, 4.6, 2.3, 1.5, 4.9]\n"
     ]
    }
   ],
   "source": [
    "n=[]\n",
    "for i in range(5):\n",
    "    m=float(input(\"Enter number at loction:\"))\n",
    "    n.append(m)\n",
    "print(\"User Input\",n)"
   ]
  },
  {
   "cell_type": "code",
   "execution_count": 36,
   "id": "68d51a87",
   "metadata": {},
   "outputs": [
    {
     "name": "stdout",
     "output_type": "stream",
     "text": [
      "Enter any 3 stringAbhijit Rinku Abhi\n",
      "Name1: Abhijit\n",
      "Name2: Rinku\n",
      "Name3: Abhi\n"
     ]
    }
   ],
   "source": [
    "str1,str2,str3=input(\"Enter any 3 string\").split()\n",
    "print(\"Name1:\",str1)\n",
    "print(\"Name2:\",str2)\n",
    "print(\"Name3:\",str3)"
   ]
  },
  {
   "cell_type": "code",
   "execution_count": 47,
   "id": "4663576d",
   "metadata": {},
   "outputs": [
    {
     "name": "stdout",
     "output_type": "stream",
     "text": [
      "I have 1000 dollars so i can buy 3 football for 450 dollars.\n"
     ]
    }
   ],
   "source": [
    "t=1000\n",
    "q=3\n",
    "p=450\n",
    "print(\"I have {0} dollars so i can buy {1} football for {2} dollars.\".format(t,q,p))"
   ]
  },
  {
   "cell_type": "code",
   "execution_count": 49,
   "id": "d75ba243",
   "metadata": {},
   "outputs": [
    {
     "name": "stdout",
     "output_type": "stream",
     "text": [
      "I have 1000 dollars so i can buy 3 football for 425 dollars.\n"
     ]
    }
   ],
   "source": [
    "print(\"I have %s dollars so i can buy %s football for %s dollars.\"%(1000,3,425))"
   ]
  },
  {
   "cell_type": "code",
   "execution_count": 52,
   "id": "e5713803",
   "metadata": {},
   "outputs": [
    {
     "name": "stdout",
     "output_type": "stream",
     "text": [
      "file is empty\n"
     ]
    }
   ],
   "source": [
    "import os\n",
    "size=os.stat(\"line.txt\").st_size\n",
    "if size==0:\n",
    "    print(\"file is empty\")"
   ]
  },
  {
   "cell_type": "code",
   "execution_count": 60,
   "id": "56dd885c",
   "metadata": {},
   "outputs": [
    {
     "data": {
      "text/plain": [
       "5"
      ]
     },
     "execution_count": 60,
     "metadata": {},
     "output_type": "execute_result"
    }
   ],
   "source": [
    "f=open(\"line.txt\",\"a\")\n",
    "f.write(\"line1\\n\")\n",
    "f.write(\"line2\\n\")\n",
    "f.write(\"line3\\n\")\n",
    "f.write(\"line4\\n\")\n",
    "f.write(\"line5\\n\")\n",
    "f.write(\"line6\")"
   ]
  },
  {
   "cell_type": "code",
   "execution_count": 76,
   "id": "8c53aba6",
   "metadata": {},
   "outputs": [
    {
     "name": "stdout",
     "output_type": "stream",
     "text": [
      "line6\n"
     ]
    }
   ],
   "source": [
    "f=open(\"line.txt\",\"r\")\n",
    "li=f.readlines()\n",
    "print(li[5])"
   ]
  },
  {
   "cell_type": "code",
   "execution_count": 9,
   "id": "987ef839",
   "metadata": {},
   "outputs": [
    {
     "name": "stdout",
     "output_type": "stream",
     "text": [
      "Enter a number to check that present or not:20\n",
      "20  is present at index number  2 .\n"
     ]
    }
   ],
   "source": [
    "arr=[11,2,20,10,15,21,19,1,5,12]\n",
    "i=int(input(\"Enter a number to check that present or not:\"))\n",
    "x=arr.index(i)\n",
    "if i in arr:\n",
    "    print(i,\" is present at index number \",x,\".\")\n",
    "else:\n",
    "    print(i,\" is not present\")"
   ]
  },
  {
   "cell_type": "code",
   "execution_count": 8,
   "id": "1c7c7045",
   "metadata": {},
   "outputs": [
    {
     "name": "stdout",
     "output_type": "stream",
     "text": [
      "Enter a alphabet to check that present or not:m\n",
      "m  is present. 1\n"
     ]
    }
   ],
   "source": [
    "arr=['z','m','r','k','g','T','d','f']\n",
    "j=str(input(\"Enter a alphabet to check that present or not:\"))\n",
    "x=arr.index(j)\n",
    "if j in arr:\n",
    "    print(j,\" is present at index number \",x,\".\")\n",
    "else:\n",
    "    print(j,\" is not present\")"
   ]
  },
  {
   "cell_type": "code",
   "execution_count": 12,
   "id": "822883d2",
   "metadata": {},
   "outputs": [
    {
     "name": "stdout",
     "output_type": "stream",
     "text": [
      "x= 10  y= 20\n"
     ]
    }
   ],
   "source": [
    "x=20\n",
    "y=10\n",
    "x,y=y,x\n",
    "print(\"x=\",x,\" y=\",y)"
   ]
  },
  {
   "cell_type": "code",
   "execution_count": 15,
   "id": "1e6bb18b",
   "metadata": {},
   "outputs": [
    {
     "name": "stdout",
     "output_type": "stream",
     "text": [
      "Unsorted list: [12, 11, 13, 5, 6, 10, 9, 5, 1, 8]\n",
      "Sorted list: [1, 5, 6, 8, 9, 10, 11, 12, 13]\n"
     ]
    }
   ],
   "source": [
    "list1=[12,11,13,5,6,10,9,5,1,8]\n",
    "print(\"Unsorted list:\",list1)\n",
    "l=set(list1)\n",
    "list1=list(l)\n",
    "print(\"Sorted list:\",list1)"
   ]
  },
  {
   "cell_type": "code",
   "execution_count": 18,
   "id": "fd80dc82",
   "metadata": {},
   "outputs": [
    {
     "name": "stdout",
     "output_type": "stream",
     "text": [
      "Sorted list= [2, 90, 11, 43, 54, 10]\n"
     ]
    }
   ],
   "source": [
    "def selectionsort(array,size):\n",
    "    for step in range(size):\n",
    "        min_idx=step\n",
    "        for i in range(step+1,size):\n",
    "            if array[i]<array[min_idx]:\n",
    "                min_idx=1\n",
    "        (array[step],array[min_idx])=(array[min_idx],array[step])\n",
    "data=[11,2,43,54,90,10]\n",
    "size=len(data)\n",
    "selectionsort(data,size)\n",
    "print(f\"Sorted list= {data}\")"
   ]
  },
  {
   "cell_type": "code",
   "execution_count": 31,
   "id": "77bab246",
   "metadata": {},
   "outputs": [
    {
     "name": "stdout",
     "output_type": "stream",
     "text": [
      "Sorted list=  ['h', 'n', 'o', 'p', 't', 'y']\n"
     ]
    }
   ],
   "source": [
    "data=['p','y','t','h','o','n']\n",
    "data.sort()\n",
    "print(\"Sorted list= \",data)"
   ]
  },
  {
   "cell_type": "code",
   "execution_count": 96,
   "id": "2280abe2",
   "metadata": {},
   "outputs": [
    {
     "name": "stdout",
     "output_type": "stream",
     "text": [
      "Enter Lower Range:1\n",
      "Enter Upper Range:50\n",
      "2 3 5 7 11 13 17 19 23 29 31 37 41 43 47 "
     ]
    }
   ],
   "source": [
    "low=int(input(\"Enter Lower Range:\"))\n",
    "up=int(input(\"Enter Upper Range:\"))\n",
    "\n",
    "for num in range(low,up+1):\n",
    "    if num>1:\n",
    "        for i in range(2,num):\n",
    "            if(num%i)==0:\n",
    "                break\n",
    "        else:\n",
    "            print(num,end=\" \")"
   ]
  },
  {
   "cell_type": "code",
   "execution_count": 8,
   "id": "056efa2f",
   "metadata": {},
   "outputs": [
    {
     "name": "stdout",
     "output_type": "stream",
     "text": [
      "1\n",
      "2\n",
      "3\n",
      "4\n",
      "5\n",
      "6\n",
      "7\n",
      "8\n",
      "9\n",
      "10\n"
     ]
    }
   ],
   "source": [
    "x=1\n",
    "while x<=10:\n",
    "    print(x)\n",
    "    x+=1"
   ]
  },
  {
   "cell_type": "code",
   "execution_count": 23,
   "id": "04379287",
   "metadata": {},
   "outputs": [
    {
     "name": "stdout",
     "output_type": "stream",
     "text": [
      "1  \n",
      "1 2  \n",
      "1 2 3  \n",
      "1 2 3 4  \n",
      "1 2 3 4 5  \n"
     ]
    }
   ],
   "source": [
    "for i in range(1,6):\n",
    "    for j in range(1,i+1):\n",
    "        print(j,end=\" \")\n",
    "    print(\" \")"
   ]
  },
  {
   "cell_type": "code",
   "execution_count": 28,
   "id": "ddef2aec",
   "metadata": {},
   "outputs": [
    {
     "name": "stdout",
     "output_type": "stream",
     "text": [
      "Enter a number:40\n",
      "Sum of 1 to 40 is: 820\n"
     ]
    }
   ],
   "source": [
    "n=int(input(\"Enter a number:\"))\n",
    "s=0\n",
    "for i in range(1,n+1):\n",
    "    s=s+i\n",
    "print(\"Sum of 1 to\",n,\"is:\",s)"
   ]
  },
  {
   "cell_type": "code",
   "execution_count": 30,
   "id": "c6539398",
   "metadata": {},
   "outputs": [
    {
     "name": "stdout",
     "output_type": "stream",
     "text": [
      "Enter a number:10\n",
      "10 * 1 : 10\n",
      "10 * 2 : 20\n",
      "10 * 3 : 30\n",
      "10 * 4 : 40\n",
      "10 * 5 : 50\n",
      "10 * 6 : 60\n",
      "10 * 7 : 70\n",
      "10 * 8 : 80\n",
      "10 * 9 : 90\n",
      "10 * 10 : 100\n"
     ]
    }
   ],
   "source": [
    "n=int(input(\"Enter a number:\"))\n",
    "for i in range(1,11):\n",
    "    print(n,\"*\",i,\":\",n*i)"
   ]
  },
  {
   "cell_type": "code",
   "execution_count": 44,
   "id": "ef0b6a6e",
   "metadata": {},
   "outputs": [
    {
     "name": "stdout",
     "output_type": "stream",
     "text": [
      "75\n",
      "150\n",
      "45\n",
      "145\n"
     ]
    }
   ],
   "source": [
    "n=[12,75,150,45,145,525,50]\n",
    "for i in range(len(n)):\n",
    "    if n[i]%5==0:\n",
    "        if n[i]>500:\n",
    "            break\n",
    "            if n[i]>150:\n",
    "                continue\n",
    "        print(n[i])"
   ]
  },
  {
   "cell_type": "code",
   "execution_count": 51,
   "id": "fe70fd5f",
   "metadata": {},
   "outputs": [
    {
     "name": "stdout",
     "output_type": "stream",
     "text": [
      "Enter a number:45875\n",
      "Total Digits are: 5\n"
     ]
    }
   ],
   "source": [
    "n=int(input(\"Enter a number:\"))\n",
    "count=0\n",
    "while n!=0:\n",
    "    n=n//10\n",
    "    count+=1\n",
    "print(\"Total Digits are:\",count)"
   ]
  },
  {
   "cell_type": "code",
   "execution_count": 69,
   "id": "6d9f7116",
   "metadata": {},
   "outputs": [
    {
     "name": "stdout",
     "output_type": "stream",
     "text": [
      "5 4 3 2 1  \n",
      "4 3 2 1  \n",
      "3 2 1  \n",
      "2 1  \n",
      "1  \n"
     ]
    }
   ],
   "source": [
    "for i in range(0,5):\n",
    "    for j in range(5-i,0,-1):\n",
    "        print(j,end=\" \")\n",
    "    print(' ')"
   ]
  },
  {
   "cell_type": "code",
   "execution_count": 78,
   "id": "9ceb4d1c",
   "metadata": {},
   "outputs": [
    {
     "name": "stdout",
     "output_type": "stream",
     "text": [
      "50\n",
      "40\n",
      "30\n",
      "20\n",
      "10\n"
     ]
    }
   ],
   "source": [
    "n=[10,20,30,40,50]\n",
    "n.reverse()\n",
    "for i in range(len(n)):\n",
    "    print(n[i])"
   ]
  },
  {
   "cell_type": "code",
   "execution_count": 80,
   "id": "6165c198",
   "metadata": {},
   "outputs": [
    {
     "name": "stdout",
     "output_type": "stream",
     "text": [
      "50\n",
      "40\n",
      "30\n",
      "20\n",
      "10\n"
     ]
    }
   ],
   "source": [
    "n=[10,20,30,40,50]\n",
    "size=len(n)-1\n",
    "for i in range(size,-1,-1):\n",
    "    print(n[i])"
   ]
  },
  {
   "cell_type": "code",
   "execution_count": 94,
   "id": "47c11b14",
   "metadata": {},
   "outputs": [
    {
     "name": "stdout",
     "output_type": "stream",
     "text": [
      "-10\n",
      "-9\n",
      "-8\n",
      "-7\n",
      "-6\n",
      "-5\n",
      "-4\n",
      "-3\n",
      "-2\n",
      "-1\n"
     ]
    }
   ],
   "source": [
    "for i in range(-10,0):\n",
    "    print(i)"
   ]
  },
  {
   "cell_type": "code",
   "execution_count": 95,
   "id": "0bf54bd6",
   "metadata": {},
   "outputs": [
    {
     "name": "stdout",
     "output_type": "stream",
     "text": [
      "0\n",
      "1\n",
      "2\n",
      "3\n",
      "4\n",
      "Done!\n"
     ]
    }
   ],
   "source": [
    "for i in range(5):\n",
    "    print(i)\n",
    "else:\n",
    "    print(\"Done!\")"
   ]
  },
  {
   "cell_type": "code",
   "execution_count": 103,
   "id": "9769d37b",
   "metadata": {},
   "outputs": [
    {
     "name": "stdout",
     "output_type": "stream",
     "text": [
      "Enter a starting number:1\n",
      "Enter Ending number:50\n",
      "2 3 5 7 11 13 17 19 23 29 31 37 41 43 47 "
     ]
    }
   ],
   "source": [
    "low=int(input(\"Enter a starting number:\"))\n",
    "up=int(input(\"Enter Ending number:\"))\n",
    "\n",
    "for num in range(low,up+1):\n",
    "    if num>1:\n",
    "        for i in range(2,num):\n",
    "            if (num%i)==0:\n",
    "                 break\n",
    "        else:\n",
    "            print(num,end=\" \")"
   ]
  },
  {
   "cell_type": "code",
   "execution_count": 105,
   "id": "ab2d4f2f",
   "metadata": {},
   "outputs": [
    {
     "name": "stdout",
     "output_type": "stream",
     "text": [
      "0 1 1 2 3 5 8 13 21 34 "
     ]
    }
   ],
   "source": [
    "num1=0\n",
    "num2=1\n",
    "for i in range(10):\n",
    "    print(num1,end=\" \")\n",
    "    res=num1+num2\n",
    "    num1=num2\n",
    "    num2=res"
   ]
  },
  {
   "cell_type": "code",
   "execution_count": 111,
   "id": "b9e0e4e2",
   "metadata": {},
   "outputs": [
    {
     "name": "stdout",
     "output_type": "stream",
     "text": [
      "Enter a number to get factorial:6\n",
      "Factorial of 6 is: 720\n"
     ]
    }
   ],
   "source": [
    "s=1\n",
    "n=int(input(\"Enter a number to get factorial:\"))\n",
    "for i in range(1,n+1):\n",
    "    s=s*i\n",
    "print(\"Factorial of\",n,\"is:\",s)"
   ]
  },
  {
   "cell_type": "code",
   "execution_count": 114,
   "id": "18aef256",
   "metadata": {},
   "outputs": [
    {
     "name": "stdout",
     "output_type": "stream",
     "text": [
      "Enter a number:58746\n",
      "Given Number is 58746\n",
      "Rveresed number is: 64785\n"
     ]
    }
   ],
   "source": [
    "n=int(input(\"Enter a number:\"))\n",
    "reverse=0\n",
    "print(\"Given Number is:\",n)\n",
    "while n>0:\n",
    "    reminder=n%10\n",
    "    reverse=(reverse*10)+reminder\n",
    "    n=n//10\n",
    "print(\"Reversed number is:\",reverse)"
   ]
  },
  {
   "cell_type": "code",
   "execution_count": 116,
   "id": "01e03724",
   "metadata": {},
   "outputs": [
    {
     "name": "stdout",
     "output_type": "stream",
     "text": [
      "20 40 60 80 100 "
     ]
    }
   ],
   "source": [
    "n=[10,20,30,40,50,60,70,80,90,100]\n",
    "for i in range(len(n)):\n",
    "    if i%2!=0:\n",
    "        print(n[i],end=\" \")"
   ]
  },
  {
   "cell_type": "code",
   "execution_count": 120,
   "id": "590da325",
   "metadata": {},
   "outputs": [
    {
     "name": "stdout",
     "output_type": "stream",
     "text": [
      "Enter a range:6\n",
      "Current Number: 1 and the Cube is: 1\n",
      "Current Number: 2 and the Cube is: 8\n",
      "Current Number: 3 and the Cube is: 27\n",
      "Current Number: 4 and the Cube is: 64\n",
      "Current Number: 5 and the Cube is: 125\n",
      "Current Number: 6 and the Cube is: 216\n"
     ]
    }
   ],
   "source": [
    "n=int(input(\"Enter a range:\"))\n",
    "for i in range(1,n+1):\n",
    "    print(\"Current Number:\",i,\"and the Cube is:\",i*i*i)"
   ]
  },
  {
   "cell_type": "code",
   "execution_count": 132,
   "id": "8d3fb734",
   "metadata": {},
   "outputs": [
    {
     "name": "stdout",
     "output_type": "stream",
     "text": [
      "Enter a range:5\n",
      "2 22 222 2222 22222 \n",
      "Sum of the Sequence is: 24690\n"
     ]
    }
   ],
   "source": [
    "n=int(input(\"Enter a range:\"))\n",
    "start=2\n",
    "sum_=0\n",
    "for i in range(1,n+1):\n",
    "    print(start,end=\" \")\n",
    "    sum_=sum_+start\n",
    "    start=(start*10)+2\n",
    "print(\"\\nSum of the Sequence is:\",sum_)"
   ]
  },
  {
   "cell_type": "code",
   "execution_count": 147,
   "id": "75849c46",
   "metadata": {},
   "outputs": [
    {
     "name": "stdout",
     "output_type": "stream",
     "text": [
      "*  \n",
      "* *  \n",
      "* * *  \n",
      "* * * *  \n",
      "* * * * *  \n",
      "* * * *  \n",
      "* * *  \n",
      "* *  \n",
      "*  \n",
      " \n"
     ]
    }
   ],
   "source": [
    "for i in range(1,6):\n",
    "    for j in range(1,i+1):\n",
    "        print(\"*\",end=' ')\n",
    "    print(' ')\n",
    "for i in range(1,6):\n",
    "    for j in range(6-i,1,-1):\n",
    "        print(\"*\",end=' ')\n",
    "    print(' ')"
   ]
  }
 ],
 "metadata": {
  "kernelspec": {
   "display_name": "Python 3 (ipykernel)",
   "language": "python",
   "name": "python3"
  },
  "language_info": {
   "codemirror_mode": {
    "name": "ipython",
    "version": 3
   },
   "file_extension": ".py",
   "mimetype": "text/x-python",
   "name": "python",
   "nbconvert_exporter": "python",
   "pygments_lexer": "ipython3",
   "version": "3.8.11"
  }
 },
 "nbformat": 4,
 "nbformat_minor": 5
}
