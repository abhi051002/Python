{
 "cells": [
  {
   "cell_type": "code",
   "execution_count": 1,
   "id": "32d11730",
   "metadata": {},
   "outputs": [
    {
     "name": "stdout",
     "output_type": "stream",
     "text": [
      "The area for the circle of radius 21 is 1385.44119\n"
     ]
    }
   ],
   "source": [
    "#Assign value to radius\n",
    "radius = 21\n",
    "#Compute area\n",
    "area = 3.14159 * radius * radius\n",
    "#Display area\n",
    "print(\"The area for the circle of radius\",radius,\"is\",area)#print(item1,item2,...,itemn)\n"
   ]
  },
  {
   "cell_type": "code",
   "execution_count": 1,
   "id": "69a21f1d",
   "metadata": {},
   "outputs": [
    {
     "name": "stdout",
     "output_type": "stream",
     "text": [
      "5\n",
      "4\n",
      "3\n",
      "2\n",
      "1\n"
     ]
    }
   ],
   "source": [
    "'''for v in range(5):\n",
    "    print(v)\n",
    "for i in range(4,8):\n",
    "    print(i)\n",
    "for i in range(4,10,2): (a,b,k) a,a+k,a+2k,..\n",
    "    print(i)'''\n",
    "for i in range(5,0,-1):\n",
    "    print(i)"
   ]
  },
  {
   "cell_type": "code",
   "execution_count": 2,
   "id": "035140fb",
   "metadata": {},
   "outputs": [
    {
     "name": "stdout",
     "output_type": "stream",
     "text": [
      "enter first integer: 2\n",
      "enter second integer: 5\n",
      "The greatest common divisor for 2  and  5  is:  1\n"
     ]
    }
   ],
   "source": [
    "n1 = eval(input(\"enter first integer: \"))\n",
    "n2 = eval(input(\"enter second integer: \"))\n",
    "gcd = 1\n",
    "k = 2\n",
    "while k <= n1 and k <= n2:\n",
    "    if n1 % k == 0 and n2 % k == 0:\n",
    "        gcd = k\n",
    "    k += 1\n",
    "\n",
    "print(\"The greatest common divisor for\",n1,\" and \",n2,\" is: \",gcd)"
   ]
  },
  {
   "cell_type": "code",
   "execution_count": 3,
   "id": "c09cecb1",
   "metadata": {},
   "outputs": [
    {
     "name": "stdout",
     "output_type": "stream",
     "text": [
      "Enter a value: 5\n",
      "The area for the circle of radius 5 is 78.53975\n"
     ]
    }
   ],
   "source": [
    "#Assign value to radius\n",
    "radius = eval(input(\"Enter a value: \"))\n",
    "#Compute area\n",
    "area = 3.14159 * radius * radius\n",
    "#Display area\n",
    "print(\"The area for the circle of radius\",radius,\"is\",area)#print(item1,item2,...,itemn)\n"
   ]
  },
  {
   "cell_type": "code",
   "execution_count": 5,
   "id": "45b8923b",
   "metadata": {},
   "outputs": [
    {
     "name": "stdout",
     "output_type": "stream",
     "text": [
      "Enter a number: 254\n",
      "452\n"
     ]
    }
   ],
   "source": [
    "number = eval(input(\"Enter a number: \"))\n",
    "rev = 0\n",
    "rem = 0\n",
    "while number != 0:\n",
    "    rem = number % 10\n",
    "    rev = rev * 10 + rem\n",
    "    number = number // 10\n",
    "\n",
    "print(rev)"
   ]
  },
  {
   "cell_type": "code",
   "execution_count": 6,
   "id": "1f5f0993",
   "metadata": {},
   "outputs": [
    {
     "name": "stdout",
     "output_type": "stream",
     "text": [
      "Enter value for x: 5\n",
      "Enter value for y: 8\n",
      "0.625\n",
      "0\n",
      "390625\n",
      "5\n"
     ]
    }
   ],
   "source": [
    "# var1,var2,...,varn = exp1,exp2,...expn\n",
    "x = eval(input(\"Enter value for x: \"))#5\n",
    "y = eval(input(\"Enter value for y: \"))#3\n",
    "print(x/y)#Float division\n",
    "print(x//y)#integer division\n",
    "print(x**y)#exponentiation\n",
    "print(x%y)#remainder\n",
    "#((x1-x2)*(x1-x2) + (y1-y2)*(y1-y2))**0.5"
   ]
  },
  {
   "cell_type": "code",
   "execution_count": 7,
   "id": "d94f2c41",
   "metadata": {},
   "outputs": [
    {
     "name": "stdout",
     "output_type": "stream",
     "text": [
      "enter a number: 5\n",
      "Grade F\n"
     ]
    }
   ],
   "source": [
    "x = eval(input(\"enter a number: \"))\n",
    "if x >= 90:\n",
    "    print(\"Grade E\")\n",
    "elif x>= 80:\n",
    "    print(\"Grade A\")\n",
    "elif x>= 70:\n",
    "    print(\"Grade B\")\n",
    "else:\n",
    "    print(\"Grade F\")\n",
    "\n",
    "    "
   ]
  },
  {
   "cell_type": "code",
   "execution_count": 8,
   "id": "c93099fb",
   "metadata": {},
   "outputs": [
    {
     "name": "stdout",
     "output_type": "stream",
     "text": [
      "Python is interesting\n",
      "I am still printing\n"
     ]
    }
   ],
   "source": [
    "#print(\"Welcome to python\")\n",
    "print(\"Python is interesting\")\n",
    "'''This program will print\n",
    "two lines'''\n",
    "print(\"I am still printing\")\n"
   ]
  },
  {
   "cell_type": "code",
   "execution_count": 9,
   "id": "5c985764",
   "metadata": {},
   "outputs": [
    {
     "name": "stdout",
     "output_type": "stream",
     "text": [
      "97\n",
      "c\n",
      "ABC****DEF\n",
      "3.4\n",
      "Welcome to python\n"
     ]
    }
   ],
   "source": [
    "ch = 'a'\n",
    "print(ord(ch))\n",
    "print(chr(99))\n",
    "print(\"ABC\",end='****')\n",
    "print(\"DEF\")\n",
    "print(str(3.4))\n",
    "message = \"Welcome \" +\"to python\"\n",
    "print(message)"
   ]
  },
  {
   "cell_type": "code",
   "execution_count": 10,
   "id": "d897bbc7",
   "metadata": {},
   "outputs": [
    {
     "name": "stdout",
     "output_type": "stream",
     "text": [
      "5\n",
      "15\n",
      "50\n",
      "2.0\n"
     ]
    }
   ],
   "source": [
    "print(10 - 5)\n",
    "print(10 + 5)\n",
    "print(10 * 5)\n",
    "print(10 / 5)\n"
   ]
  },
  {
   "cell_type": "code",
   "execution_count": 11,
   "id": "cf146b51",
   "metadata": {},
   "outputs": [
    {
     "name": "stdout",
     "output_type": "stream",
     "text": [
      "Enter a year: 2021\n",
      "2021 is a leap year False\n"
     ]
    }
   ],
   "source": [
    "year = eval(input(\"Enter a year: \"))\n",
    "isLeapYear = (year % 4 == 0 and year % 100!=0) or (year % 400 == 0)\n",
    "print(year,\"is a leap year\",isLeapYear)\n"
   ]
  },
  {
   "cell_type": "code",
   "execution_count": 12,
   "id": "445f045b",
   "metadata": {},
   "outputs": [
    {
     "name": "stdout",
     "output_type": "stream",
     "text": [
      "5\n",
      "6\n",
      "4\n",
      "5.68\n"
     ]
    }
   ],
   "source": [
    "import math #import math module for math functions\n",
    "'''print(math.sqrt(4))\n",
    "print(math.floor(-2.5))\n",
    "print(math.ceil(2.5))\n",
    "print(pow(2,3))\n",
    "print(max(22,3,5))'''\n",
    "print(round(5.4))\n",
    "print(round(5.5))\n",
    "print(round(4.5))\n",
    "print(round(5.6784,2))"
   ]
  },
  {
   "cell_type": "code",
   "execution_count": 13,
   "id": "38600039",
   "metadata": {},
   "outputs": [
    {
     "name": "stdout",
     "output_type": "stream",
     "text": [
      "0\n",
      "1\n",
      "2\n",
      "3\n",
      "4\n",
      "5\n",
      "6\n",
      "7\n",
      "8\n",
      "9\n"
     ]
    }
   ],
   "source": [
    "count = 0\n",
    "while count < 10:\n",
    "    print(count)\n",
    "    count = count+1"
   ]
  },
  {
   "cell_type": "code",
   "execution_count": 6,
   "id": "4c1c185a",
   "metadata": {},
   "outputs": [
    {
     "name": "stdout",
     "output_type": "stream",
     "text": [
      "5\n"
     ]
    }
   ],
   "source": [
    "print(5)"
   ]
  },
  {
   "cell_type": "code",
   "execution_count": 3,
   "id": "09101b41",
   "metadata": {},
   "outputs": [
    {
     "data": {
      "text/plain": [
       "'Abhijit'"
      ]
     },
     "execution_count": 3,
     "metadata": {},
     "output_type": "execute_result"
    }
   ],
   "source": [
    "a='Abhijit'\n",
    "a"
   ]
  },
  {
   "cell_type": "code",
   "execution_count": 4,
   "id": "05a7d664",
   "metadata": {},
   "outputs": [
    {
     "data": {
      "text/plain": [
       "'Hello Abhijit'"
      ]
     },
     "execution_count": 4,
     "metadata": {},
     "output_type": "execute_result"
    }
   ],
   "source": [
    "a='Hello '+ a\n",
    "a"
   ]
  },
  {
   "cell_type": "code",
   "execution_count": 1,
   "id": "3fedd04d",
   "metadata": {},
   "outputs": [
    {
     "data": {
      "text/plain": [
       "{'Abhi': 12, 42: 'Bhai', ('Hello', 'Abhi'): 56, 'Hy': [1, 5, 8]}"
      ]
     },
     "execution_count": 1,
     "metadata": {},
     "output_type": "execute_result"
    }
   ],
   "source": [
    "d={'Abhi':12,42:'Bhai',(\"Hello\",\"Abhi\"):56,'Hy':[1,5,8]}\n",
    "d"
   ]
  },
  {
   "cell_type": "code",
   "execution_count": 2,
   "id": "52abb09f",
   "metadata": {},
   "outputs": [
    {
     "data": {
      "text/plain": [
       "[1, 5, 8]"
      ]
     },
     "execution_count": 2,
     "metadata": {},
     "output_type": "execute_result"
    }
   ],
   "source": [
    "d['Hy']"
   ]
  },
  {
   "cell_type": "code",
   "execution_count": 11,
   "id": "957cb99c",
   "metadata": {},
   "outputs": [
    {
     "data": {
      "text/plain": [
       "dict_keys(['Abhi', 42, ('Hello', 'Abhi'), 'Hy'])"
      ]
     },
     "execution_count": 11,
     "metadata": {},
     "output_type": "execute_result"
    }
   ],
   "source": [
    "d.keys()"
   ]
  },
  {
   "cell_type": "code",
   "execution_count": 12,
   "id": "283106dd",
   "metadata": {},
   "outputs": [
    {
     "name": "stdout",
     "output_type": "stream",
     "text": [
      "<class 'dict_values'>\n"
     ]
    }
   ],
   "source": [
    "list1=d.values()\n",
    "print(type(list1))"
   ]
  },
  {
   "cell_type": "code",
   "execution_count": 13,
   "id": "3f732caf",
   "metadata": {},
   "outputs": [
    {
     "data": {
      "text/plain": [
       "dict_values([12, 'Bhai', 56, [1, 5, 8]])"
      ]
     },
     "execution_count": 13,
     "metadata": {},
     "output_type": "execute_result"
    }
   ],
   "source": [
    "d.values()"
   ]
  },
  {
   "cell_type": "code",
   "execution_count": 14,
   "id": "e0709578",
   "metadata": {},
   "outputs": [],
   "source": [
    "s={}"
   ]
  },
  {
   "cell_type": "code",
   "execution_count": 17,
   "id": "d8f1da94",
   "metadata": {},
   "outputs": [],
   "source": [
    "s['Hello']=3\n",
    "s[4]='Abhi'\n",
    "s['No']=5"
   ]
  },
  {
   "cell_type": "code",
   "execution_count": 18,
   "id": "b85afd4b",
   "metadata": {},
   "outputs": [
    {
     "data": {
      "text/plain": [
       "{'Hello': 3, 4: 'Abhi', 'No': 5}"
      ]
     },
     "execution_count": 18,
     "metadata": {},
     "output_type": "execute_result"
    }
   ],
   "source": [
    "s"
   ]
  },
  {
   "cell_type": "code",
   "execution_count": 22,
   "id": "5d2a58ef",
   "metadata": {},
   "outputs": [
    {
     "ename": "KeyError",
     "evalue": "'bloody'",
     "output_type": "error",
     "traceback": [
      "\u001b[1;31m---------------------------------------------------------------------------\u001b[0m",
      "\u001b[1;31mKeyError\u001b[0m                                  Traceback (most recent call last)",
      "\u001b[1;32m<ipython-input-22-19bc1c7dce4a>\u001b[0m in \u001b[0;36m<module>\u001b[1;34m\u001b[0m\n\u001b[1;32m----> 1\u001b[1;33m \u001b[0ms\u001b[0m\u001b[1;33m[\u001b[0m\u001b[1;34m'bloody'\u001b[0m\u001b[1;33m]\u001b[0m\u001b[1;33m\u001b[0m\u001b[1;33m\u001b[0m\u001b[0m\n\u001b[0m",
      "\u001b[1;31mKeyError\u001b[0m: 'bloody'"
     ]
    }
   ],
   "source": [
    "s['bloody']"
   ]
  },
  {
   "cell_type": "code",
   "execution_count": 25,
   "id": "f041c50d",
   "metadata": {},
   "outputs": [
    {
     "name": "stdout",
     "output_type": "stream",
     "text": [
      "None\n"
     ]
    }
   ],
   "source": [
    "r=s.get('bloody')\n",
    "print(r)"
   ]
  },
  {
   "cell_type": "code",
   "execution_count": 26,
   "id": "df97cb2b",
   "metadata": {},
   "outputs": [
    {
     "data": {
      "text/plain": [
       "{'Hello': 3, 4: 'Abhi', 'No': 5}"
      ]
     },
     "execution_count": 26,
     "metadata": {},
     "output_type": "execute_result"
    }
   ],
   "source": [
    "s"
   ]
  },
  {
   "cell_type": "code",
   "execution_count": 28,
   "id": "46988b5b",
   "metadata": {},
   "outputs": [],
   "source": [
    "a={1:1,2:2,3:3,4:4}\n",
    "e={4:4,3:3,2:2,1:1}"
   ]
  },
  {
   "cell_type": "code",
   "execution_count": 29,
   "id": "2d5a94f0",
   "metadata": {},
   "outputs": [
    {
     "name": "stdout",
     "output_type": "stream",
     "text": [
      "True\n"
     ]
    }
   ],
   "source": [
    "print(a==e)"
   ]
  },
  {
   "cell_type": "code",
   "execution_count": 30,
   "id": "07f9e1d5",
   "metadata": {},
   "outputs": [],
   "source": [
    "ab=[1,2,3,4]\n",
    "b=[4,3,1,2]\n",
    "c=[1,2,3,4]"
   ]
  },
  {
   "cell_type": "code",
   "execution_count": 31,
   "id": "4752293a",
   "metadata": {},
   "outputs": [
    {
     "name": "stdout",
     "output_type": "stream",
     "text": [
      "False\n"
     ]
    }
   ],
   "source": [
    "print(ab==b)"
   ]
  },
  {
   "cell_type": "code",
   "execution_count": 32,
   "id": "ba9fabd8",
   "metadata": {},
   "outputs": [
    {
     "name": "stdout",
     "output_type": "stream",
     "text": [
      "False\n"
     ]
    }
   ],
   "source": [
    "print(b==c)"
   ]
  },
  {
   "cell_type": "code",
   "execution_count": 33,
   "id": "65be9a55",
   "metadata": {},
   "outputs": [
    {
     "name": "stdout",
     "output_type": "stream",
     "text": [
      "True\n"
     ]
    }
   ],
   "source": [
    "print(ab==c)"
   ]
  },
  {
   "cell_type": "code",
   "execution_count": null,
   "id": "d4d6bcb6",
   "metadata": {},
   "outputs": [],
   "source": []
  }
 ],
 "metadata": {
  "kernelspec": {
   "display_name": "Python 3",
   "language": "python",
   "name": "python3"
  },
  "language_info": {
   "codemirror_mode": {
    "name": "ipython",
    "version": 3
   },
   "file_extension": ".py",
   "mimetype": "text/x-python",
   "name": "python",
   "nbconvert_exporter": "python",
   "pygments_lexer": "ipython3",
   "version": "3.8.8"
  }
 },
 "nbformat": 4,
 "nbformat_minor": 5
}
