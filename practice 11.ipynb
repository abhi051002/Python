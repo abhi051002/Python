{
 "cells": [
  {
   "cell_type": "code",
   "execution_count": 1,
   "id": "ec08ae2c",
   "metadata": {},
   "outputs": [
    {
     "name": "stdout",
     "output_type": "stream",
     "text": [
      "Ait\n"
     ]
    }
   ],
   "source": [
    "a=\"Abhijit\"\n",
    "i=len(a)//2\n",
    "j=a[0]+a[i]+a[-1]\n",
    "print(j)"
   ]
  },
  {
   "cell_type": "code",
   "execution_count": 2,
   "id": "0a339d02",
   "metadata": {},
   "outputs": [
    {
     "name": "stdout",
     "output_type": "stream",
     "text": [
      "ell\n"
     ]
    }
   ],
   "source": [
    "a=\"Hello\"\n",
    "i=len(a)//2\n",
    "k=a[i-1]+a[i]+a[i+1]\n",
    "print(k)"
   ]
  },
  {
   "cell_type": "code",
   "execution_count": 3,
   "id": "9a2870bb",
   "metadata": {},
   "outputs": [
    {
     "data": {
      "text/plain": [
       "'AuKellylt'"
      ]
     },
     "execution_count": 3,
     "metadata": {},
     "output_type": "execute_result"
    }
   ],
   "source": [
    "s1=\"Ault\"\n",
    "s2=\"Kelly\"\n",
    "a=len(s1)//2\n",
    "s1[0:a]+s2+s1[a:]"
   ]
  },
  {
   "cell_type": "code",
   "execution_count": 4,
   "id": "9efb2222",
   "metadata": {},
   "outputs": [
    {
     "name": "stdout",
     "output_type": "stream",
     "text": [
      "AJrpan\n"
     ]
    }
   ],
   "source": [
    "s1=\"America\"\n",
    "s2=\"Japan\"\n",
    "i=len(s1)//2\n",
    "j=len(s2)//2\n",
    "s=s1[0]+s2[0]+s1[i]+s2[j]+s1[-1]+s2[-1]\n",
    "print(s)"
   ]
  },
  {
   "cell_type": "code",
   "execution_count": 5,
   "id": "ee065da9",
   "metadata": {},
   "outputs": [
    {
     "name": "stdout",
     "output_type": "stream",
     "text": [
      "yaivePNT\n"
     ]
    }
   ],
   "source": [
    "s1=\"PyNaTive\"\n",
    "s=[]\n",
    "k=[]\n",
    "for i in range(len(s1)):\n",
    "    if s1[i].islower():\n",
    "        s.append(s1[i])\n",
    "    else:\n",
    "        k.append(s1[i])\n",
    "x=\"\".join(s+k)\n",
    "print(x)"
   ]
  },
  {
   "cell_type": "code",
   "execution_count": 6,
   "id": "cc429080",
   "metadata": {},
   "outputs": [
    {
     "name": "stdout",
     "output_type": "stream",
     "text": [
      "Total Number of Digit in Str1 is: 3\n",
      "Total Number of Letters in Str1 is: 8\n",
      "Total Number of Symbols in Str1 is: 4\n"
     ]
    }
   ],
   "source": [
    "str1=\"P@#yn26T^&ai6ve\"\n",
    "s=0\n",
    "l=0\n",
    "d=0\n",
    "for i in str1:\n",
    "    if i.islower() or i.isupper():\n",
    "        l+=1\n",
    "    elif i.isdigit():\n",
    "        d+=1\n",
    "    else:\n",
    "        s+=1\n",
    "print(\"Total Number of Digit in Str1 is:\",d)\n",
    "print(\"Total Number of Letters in Str1 is:\",l)\n",
    "print(\"Total Number of Symbols in Str1 is:\",s)"
   ]
  },
  {
   "cell_type": "code",
   "execution_count": 7,
   "id": "db81f8ea",
   "metadata": {},
   "outputs": [
    {
     "name": "stdout",
     "output_type": "stream",
     "text": [
      "AzbycX\n"
     ]
    }
   ],
   "source": [
    "s1=\"Abc\"\n",
    "s2=\"Xyz\"\n",
    "s1_len=len(s1)\n",
    "s2_len=len(s2)\n",
    "res=\"\"\n",
    "length=s1_len if s1_len>s2_len else s2_len\n",
    "s2=s2[::-1]\n",
    "for i in range(length):\n",
    "    if i<s1_len:\n",
    "        res=res+s1[i]\n",
    "    if i<s2_len:\n",
    "        res=res+s2[i]\n",
    "print(res)"
   ]
  },
  {
   "cell_type": "code",
   "execution_count": 8,
   "id": "553e3d70",
   "metadata": {},
   "outputs": [
    {
     "name": "stdout",
     "output_type": "stream",
     "text": [
      "True\n"
     ]
    }
   ],
   "source": [
    "s1=\"Y\"\n",
    "s2=\"PYnative\"\n",
    "if s1 in s2:\n",
    "    print(True)\n",
    "else:\n",
    "    print(False)"
   ]
  },
  {
   "cell_type": "code",
   "execution_count": 9,
   "id": "d0d6ec37",
   "metadata": {},
   "outputs": [
    {
     "name": "stdout",
     "output_type": "stream",
     "text": [
      "2\n"
     ]
    }
   ],
   "source": [
    "s1=\"Welcome to USA,usa aswesome,is' it?\"\n",
    "s1=s1.lower()\n",
    "print(s1.count(\"usa\"))"
   ]
  },
  {
   "cell_type": "code",
   "execution_count": 10,
   "id": "4d2d23c1",
   "metadata": {},
   "outputs": [
    {
     "name": "stdout",
     "output_type": "stream",
     "text": [
      "6.333333333333333\n"
     ]
    }
   ],
   "source": [
    "s1=\"PYNATIVE29@#8496\"\n",
    "d=0\n",
    "x=0\n",
    "for i in s1:\n",
    "    if i.isdigit():\n",
    "        d+=1\n",
    "        x=x+int(i)\n",
    "    else:\n",
    "        pass\n",
    "s=x/d\n",
    "print(s)"
   ]
  },
  {
   "cell_type": "code",
   "execution_count": 11,
   "id": "1b9a64c6",
   "metadata": {},
   "outputs": [
    {
     "name": "stdout",
     "output_type": "stream",
     "text": [
      "{'A': 1, 'p': 2, 'l': 1, 'e': 1}\n"
     ]
    }
   ],
   "source": [
    "str1=\"Apple\"\n",
    "s=dict()\n",
    "for i in str1:\n",
    "    count=str1.count(i)\n",
    "    s[i]=count\n",
    "print(s)"
   ]
  },
  {
   "cell_type": "code",
   "execution_count": 12,
   "id": "86f51448",
   "metadata": {},
   "outputs": [
    {
     "name": "stdout",
     "output_type": "stream",
     "text": [
      "evitanYP\n"
     ]
    }
   ],
   "source": [
    "s=\"PYnative\"\n",
    "print(s[::-1])"
   ]
  },
  {
   "cell_type": "code",
   "execution_count": 13,
   "id": "ef3b9da9",
   "metadata": {},
   "outputs": [
    {
     "name": "stdout",
     "output_type": "stream",
     "text": [
      "43\n"
     ]
    }
   ],
   "source": [
    "s=\"Emma is a data Scientists who knows python.Emma works at Google\"\n",
    "index=s.rfind('Emma')\n",
    "print(index)"
   ]
  },
  {
   "cell_type": "code",
   "execution_count": 14,
   "id": "d2735278",
   "metadata": {},
   "outputs": [
    {
     "name": "stdout",
     "output_type": "stream",
     "text": [
      "Emma\n",
      "is\n",
      "a\n",
      "data\n",
      "Scientist\n"
     ]
    }
   ],
   "source": [
    "str1=\"Emma-is-a-data-Scientist\"\n",
    "str1=str1.split('-')\n",
    "for i in str1:\n",
    "    print(i)"
   ]
  },
  {
   "cell_type": "code",
   "execution_count": 15,
   "id": "a17dcd59",
   "metadata": {},
   "outputs": [
    {
     "name": "stdout",
     "output_type": "stream",
     "text": [
      "['abhi', 'Rahul', 'vivek', 'Aich']\n"
     ]
    }
   ],
   "source": [
    "s=['abhi',\"\",\"Rahul\",\"vivek\",\"Aich\",None,\"\"]\n",
    "res=[]\n",
    "for i in s:\n",
    "    if i:\n",
    "        res.append(i)\n",
    "print(res)"
   ]
  },
  {
   "cell_type": "code",
   "execution_count": 16,
   "id": "394f2735",
   "metadata": {},
   "outputs": [
    {
     "name": "stdout",
     "output_type": "stream",
     "text": [
      "202"
     ]
    }
   ],
   "source": [
    "str1='I am 20Years and 2 month old'\n",
    "for i in str1:\n",
    "    if i.isdigit():\n",
    "        print(i,end=\"\")"
   ]
  },
  {
   "cell_type": "code",
   "execution_count": 17,
   "id": "36598e72",
   "metadata": {},
   "outputs": [
    {
     "name": "stdout",
     "output_type": "stream",
     "text": [
      "Emma25\n",
      "Structure10\n"
     ]
    }
   ],
   "source": [
    "str1=\"Emma25 is Data Structure10\"\n",
    "res=[]\n",
    "temp=str1.split()\n",
    "for i in temp:\n",
    "    if any(char.isalpha() for char in i) and any(char.isdigit() for char in i):\n",
    "        res.append(i)\n",
    "for x in res:\n",
    "    print(x)"
   ]
  },
  {
   "cell_type": "code",
   "execution_count": 18,
   "id": "05b02b3f",
   "metadata": {},
   "outputs": [
    {
     "name": "stdout",
     "output_type": "stream",
     "text": [
      "##John is a #delveloper and# #Musician\n"
     ]
    }
   ],
   "source": [
    "import string\n",
    "str1=\"/*John is a @delveloper and$ #Musician\"\n",
    "for char in string.punctuation:\n",
    "    str1=str1.replace(char,\"#\")\n",
    "print(str1)"
   ]
  },
  {
   "cell_type": "code",
   "execution_count": 19,
   "id": "e07afc34",
   "metadata": {},
   "outputs": [
    {
     "name": "stdout",
     "output_type": "stream",
     "text": [
      "[6, 12, 18, 4, 12, 20, 28]\n"
     ]
    }
   ],
   "source": [
    "l1=[3,6,9,12,15,18,21]\n",
    "l2=[4,8,12,16,20,24,28]\n",
    "x=[]\n",
    "y=[]\n",
    "res=[]\n",
    "for i in range(len(l1)):\n",
    "    if i%2!=0:\n",
    "        x.append(l1[i])\n",
    "for j in range(len(l2)):\n",
    "    if j%2==0:\n",
    "        y.append(l2[j])\n",
    "        \n",
    "res.extend(x)\n",
    "res.extend(y)\n",
    "print(res)"
   ]
  },
  {
   "cell_type": "code",
   "execution_count": 20,
   "id": "60fa1321",
   "metadata": {},
   "outputs": [
    {
     "name": "stdout",
     "output_type": "stream",
     "text": [
      "[54, 44, 27, 79, 41]\n",
      "[54, 44, 45, 27, 79, 41]\n",
      "[54, 44, 45, 27, 79, 41, 94]\n"
     ]
    }
   ],
   "source": [
    "l1=[54,44,27,79,91,41]\n",
    "l1.pop(4)\n",
    "print(l1)\n",
    "l1.insert(2,45)\n",
    "print(l1)\n",
    "l1.append(94)\n",
    "print(l1)"
   ]
  },
  {
   "cell_type": "code",
   "execution_count": 21,
   "id": "ae02ebf7",
   "metadata": {},
   "outputs": [
    {
     "name": "stdout",
     "output_type": "stream",
     "text": [
      "{11: 2, 45: 3, 8: 1, 23: 2, 89: 1}\n"
     ]
    }
   ],
   "source": [
    "l=[11,45,8,11,23,45,23,45,89]\n",
    "d=dict()\n",
    "for i in l:\n",
    "    count=l.count(i)\n",
    "    d[i]=count\n",
    "print(d)"
   ]
  },
  {
   "cell_type": "code",
   "execution_count": 22,
   "id": "4c20aedb",
   "metadata": {},
   "outputs": [
    {
     "name": "stdout",
     "output_type": "stream",
     "text": [
      "{(7, 49), (3, 4), (2, 64), (8, 25), (6, 16), (5, 9), (4, 36)}\n"
     ]
    }
   ],
   "source": [
    "l1={2,3,4,5,6,7,8}\n",
    "l2={4,9,16,25,36,49,64}\n",
    "s=zip(l1,l2)\n",
    "d=set(s)\n",
    "print(d)"
   ]
  },
  {
   "cell_type": "code",
   "execution_count": 23,
   "id": "b52b468b",
   "metadata": {},
   "outputs": [
    {
     "name": "stdout",
     "output_type": "stream",
     "text": [
      "{57, 83, 29}\n",
      "{65, 42, 78, 23}\n"
     ]
    }
   ],
   "source": [
    "l1={23,42,65,57,78,83,29}\n",
    "l2={57,83,29,67,73,43,48}\n",
    "inter=l1.intersection(l2)\n",
    "print(inter)\n",
    "for i in inter:\n",
    "    l1.remove(i)\n",
    "print(l1)"
   ]
  },
  {
   "cell_type": "code",
   "execution_count": 24,
   "id": "e74fbde1",
   "metadata": {},
   "outputs": [
    {
     "name": "stdout",
     "output_type": "stream",
     "text": [
      "l1 is subset of l2: True\n",
      "l2 is subset of l1: False\n",
      "l1 is superset of l2: False\n",
      "l2 is superset of l1: True\n",
      "set()\n",
      "{34, 43, 48, 53, 22, 27, 93}\n"
     ]
    }
   ],
   "source": [
    "l1={27,43,34}\n",
    "l2={34,93,22,27,43,53,48}\n",
    "if l1.issubset(l2):\n",
    "    print(\"l1 is subset of l2:\",True)\n",
    "else:\n",
    "    print(\"l1 is subset of l2:\",False)\n",
    "    \n",
    "if l2.issubset(l1):\n",
    "    print(\"l2 is subset of l1:\",True)\n",
    "else:\n",
    "    print(\"l2 is subset of l1:\",False)\n",
    "if l1.issuperset(l2):\n",
    "    print(\"l1 is superset of l2:\",True)\n",
    "else:\n",
    "    print(\"l1 is superset of l2:\",False)\n",
    "if l2.issuperset(l1):\n",
    "    print(\"l2 is superset of l1:\",True)\n",
    "else:\n",
    "    print(\"l2 is superset of l1:\",False)\n",
    "if l1.issubset(l2):\n",
    "    l1.clear()\n",
    "if l2.issubset(l1):\n",
    "    l2.clear()\n",
    "print(l1)\n",
    "print(l2)"
   ]
  },
  {
   "cell_type": "code",
   "execution_count": 25,
   "id": "67fe9288",
   "metadata": {},
   "outputs": [
    {
     "name": "stdout",
     "output_type": "stream",
     "text": [
      "[97, 69, 76, 47]\n"
     ]
    }
   ],
   "source": [
    "l1={47,64,69,37,76,83,95,97}\n",
    "d={'John':47,'Emma':69,'Kelly':76,'Jason':97}\n",
    "r=[i for i in l1 if i in d.values()]\n",
    "print(r)"
   ]
  },
  {
   "cell_type": "code",
   "execution_count": 26,
   "id": "8ef4e97c",
   "metadata": {},
   "outputs": [
    {
     "name": "stdout",
     "output_type": "stream",
     "text": [
      "[44, 47, 52, 53, 54]\n"
     ]
    }
   ],
   "source": [
    "s={'jan':47,'feb':52,'march':47,'april':44,'may':52,'june':53,'july':54,'aug':44,'sept':54}\n",
    "l1=list(s.values())\n",
    "d=set(l1)\n",
    "l1=list(d)\n",
    "print(l1)"
   ]
  },
  {
   "cell_type": "code",
   "execution_count": 27,
   "id": "dcef7229",
   "metadata": {},
   "outputs": [
    {
     "name": "stdout",
     "output_type": "stream",
     "text": [
      "[65, 99, 41, 45, 87, 94]\n",
      "(65, 99, 41, 45, 87, 94)\n",
      "99\n",
      "41\n"
     ]
    }
   ],
   "source": [
    "l1=[87,45,41,65,94,41,99,94]\n",
    "s=set(l1)\n",
    "l1=list(s)\n",
    "print(l1)\n",
    "t=tuple(l1)\n",
    "print(t)\n",
    "print(max(t))\n",
    "print(min(t))"
   ]
  },
  {
   "cell_type": "code",
   "execution_count": 28,
   "id": "4ff5edaf",
   "metadata": {},
   "outputs": [
    {
     "name": "stdout",
     "output_type": "stream",
     "text": [
      "[500, 400, 300, 200, 100]\n"
     ]
    }
   ],
   "source": [
    "l1=[100,200,300,400,500]\n",
    "print(l1[::-1])"
   ]
  },
  {
   "cell_type": "code",
   "execution_count": 29,
   "id": "41fe8b0e",
   "metadata": {},
   "outputs": [
    {
     "name": "stdout",
     "output_type": "stream",
     "text": [
      "['My', 'name', 'is', 'Kelly']\n"
     ]
    }
   ],
   "source": [
    "l1=['M','na','i','Ke']\n",
    "l2=['y','me','s','lly']\n",
    "l3=[i + j for i,j in zip(l1,l2)]\n",
    "print(l3)"
   ]
  },
  {
   "cell_type": "code",
   "execution_count": 30,
   "id": "ecdade47",
   "metadata": {},
   "outputs": [
    {
     "name": "stdout",
     "output_type": "stream",
     "text": [
      "[1, 4, 9, 16, 25, 36, 49]\n"
     ]
    }
   ],
   "source": [
    "l1=[1,2,3,4,5,6,7]\n",
    "l1=[i*i for i in l1]\n",
    "print(l1)"
   ]
  },
  {
   "cell_type": "code",
   "execution_count": 31,
   "id": "5d852e68",
   "metadata": {},
   "outputs": [
    {
     "name": "stdout",
     "output_type": "stream",
     "text": [
      "['Hello Dear', 'Hello Sir', 'take Dear', 'take Sir']\n"
     ]
    }
   ],
   "source": [
    "l1=['Hello','take']\n",
    "l2=['Dear','Sir']\n",
    "l3=[i+' '+j for i in l1 for j in l2]\n",
    "print(l3)"
   ]
  },
  {
   "cell_type": "code",
   "execution_count": 32,
   "id": "421c2678",
   "metadata": {},
   "outputs": [
    {
     "name": "stdout",
     "output_type": "stream",
     "text": [
      "10 400\n",
      "20 300\n",
      "30 200\n",
      "40 100\n"
     ]
    }
   ],
   "source": [
    "l1=[10,20,30,40]\n",
    "l2=[100,200,300,400]\n",
    "l2=l2[::-1]\n",
    "for x,y in zip(l1,l2):\n",
    "    print(x,y)"
   ]
  },
  {
   "cell_type": "code",
   "execution_count": 33,
   "id": "818bd431",
   "metadata": {},
   "outputs": [
    {
     "name": "stdout",
     "output_type": "stream",
     "text": [
      "['Mike', 'Emma', 'Kelly', 'Brad']\n"
     ]
    }
   ],
   "source": [
    "l1=['Mike','','Emma','Kelly','','Brad']\n",
    "r=list(filter(None,l1))\n",
    "print(r)"
   ]
  },
  {
   "cell_type": "code",
   "execution_count": 34,
   "id": "1d59bcb6",
   "metadata": {},
   "outputs": [
    {
     "name": "stdout",
     "output_type": "stream",
     "text": [
      "[10, 20, [300, 400, [5000, 6000, 7000], 500], 30, 40]\n"
     ]
    }
   ],
   "source": [
    "l1=[10,20,[300,400,[5000,6000],500],30,40]\n",
    "l1[2][2].append(7000)\n",
    "print(l1)"
   ]
  },
  {
   "cell_type": "code",
   "execution_count": 35,
   "id": "40607565",
   "metadata": {},
   "outputs": [
    {
     "name": "stdout",
     "output_type": "stream",
     "text": [
      "['a', 'b', ['c', ['d', 'e', ['f', 'g', ['h', 'i', 'j']], 'k'], 'l'], 'm', 'n']\n"
     ]
    }
   ],
   "source": [
    "l1=['a','b',['c',['d','e',['f','g'],'k'],'l'],'m','n']\n",
    "l2=['h','i','j']\n",
    "l1[2][1][2].append(l2)\n",
    "print(l1)"
   ]
  },
  {
   "cell_type": "code",
   "execution_count": 36,
   "id": "65bcbe93",
   "metadata": {},
   "outputs": [
    {
     "name": "stdout",
     "output_type": "stream",
     "text": [
      "[5, 10, 15, 200, 25, 50, 20]\n"
     ]
    }
   ],
   "source": [
    "l1=[5,10,15,20,25,50,20]\n",
    "index=l1.index(20)\n",
    "l1[index]=200\n",
    "print(l1)"
   ]
  },
  {
   "cell_type": "code",
   "execution_count": 37,
   "id": "671d945a",
   "metadata": {},
   "outputs": [
    {
     "name": "stdout",
     "output_type": "stream",
     "text": [
      "[5, 15, 25, 50]\n"
     ]
    }
   ],
   "source": [
    "l1=[5,20,15,20,25,50,20]\n",
    "def removevalue(list,val):\n",
    "    return [value for value in list if value!=val]\n",
    "result=removevalue(l1,20)\n",
    "print(result)"
   ]
  },
  {
   "cell_type": "code",
   "execution_count": 38,
   "id": "478b2d44",
   "metadata": {},
   "outputs": [
    {
     "name": "stdout",
     "output_type": "stream",
     "text": [
      "[5, 15, 25, 50]\n"
     ]
    }
   ],
   "source": [
    "l1=[5,20,15,20,25,50,20]\n",
    "res=[]\n",
    "for i in l1:\n",
    "    if i!=20:\n",
    "        res.append(i)\n",
    "print(res)"
   ]
  },
  {
   "cell_type": "code",
   "execution_count": 39,
   "id": "86ad485f",
   "metadata": {},
   "outputs": [
    {
     "name": "stdout",
     "output_type": "stream",
     "text": [
      "{'Ten': 10, 'Twenty': 20, 'Thirty': 30}\n"
     ]
    }
   ],
   "source": [
    "k=['Ten','Twenty','Thirty']\n",
    "v=[10,20,30]\n",
    "d=dict(zip(k,v))\n",
    "print(d)"
   ]
  },
  {
   "cell_type": "code",
   "execution_count": 40,
   "id": "871719fb",
   "metadata": {},
   "outputs": [
    {
     "name": "stdout",
     "output_type": "stream",
     "text": [
      "{'Ten': 10, 'Twenty': 20, 'Thirty': 30, 'Fourty': 40, 'Fifty': 50}\n"
     ]
    }
   ],
   "source": [
    "d1={'Ten': 10, 'Twenty': 20, 'Thirty': 30}\n",
    "d2={'Fourty':40,'Fifty':50}\n",
    "d3={**d1,**d2}\n",
    "print(d3)"
   ]
  },
  {
   "cell_type": "code",
   "execution_count": 41,
   "id": "0144ac62",
   "metadata": {},
   "outputs": [
    {
     "name": "stdout",
     "output_type": "stream",
     "text": [
      "{'Ten': 10, 'Twenty': 20, 'Thirty': 30, 'Fourty': 40, 'Fifty': 50}\n"
     ]
    }
   ],
   "source": [
    "d1={'Ten': 10, 'Twenty': 20, 'Thirty': 30}\n",
    "d2={'Fourty':40,'Fifty':50}\n",
    "d3=d1.copy()\n",
    "d3.update(d2)\n",
    "print(d3)"
   ]
  },
  {
   "cell_type": "code",
   "execution_count": 42,
   "id": "6440ef9e",
   "metadata": {},
   "outputs": [
    {
     "name": "stdout",
     "output_type": "stream",
     "text": [
      "{'Ten': 10, 'Twenty': 20, 'Thirty': 30, 'Fourty': 40, 'Fifty': 50}\n"
     ]
    }
   ],
   "source": [
    "d1={'Ten': 10, 'Twenty': 20, 'Thirty': 30}\n",
    "d2={'Fourty':40,'Fifty':50}\n",
    "d1.update(d2)\n",
    "print(d1)"
   ]
  },
  {
   "cell_type": "code",
   "execution_count": 43,
   "id": "e092983b",
   "metadata": {},
   "outputs": [
    {
     "name": "stdout",
     "output_type": "stream",
     "text": [
      "90\n"
     ]
    }
   ],
   "source": [
    "d={\n",
    "    'class':{\n",
    "        'student':{\n",
    "            'name':'Mike',\n",
    "            'marks':{\n",
    "                'physics':70,\n",
    "                'history':90\n",
    "            }\n",
    "        }\n",
    "    }\n",
    "}\n",
    "print(d['class']['student']['marks']['history'])"
   ]
  },
  {
   "cell_type": "code",
   "execution_count": 44,
   "id": "3df7c48a",
   "metadata": {},
   "outputs": [
    {
     "name": "stdout",
     "output_type": "stream",
     "text": [
      "dict_values([{'student': {'name': 'Mike', 'marks': {'physics': 70, 'history': 90}}}])\n",
      "dict_values(['Mike', {'physics': 70, 'history': 90}])\n"
     ]
    }
   ],
   "source": [
    "print(d.values())\n",
    "print(d['class']['student'].values())"
   ]
  },
  {
   "cell_type": "code",
   "execution_count": 50,
   "id": "3012a3fe",
   "metadata": {},
   "outputs": [
    {
     "name": "stdout",
     "output_type": "stream",
     "text": [
      "{'Kellys': {'designation': 'Application Developer', 'Salery': 8000}, 'Emma': {'designation': 'Application Developer', 'Salery': 8000}, 'John': {'designation': 'Application Developer', 'Salery': 8000}}\n",
      "{'designation': 'Application Developer', 'Salery': 8000}\n"
     ]
    }
   ],
   "source": [
    "employees=['Kellys','Emma','John']\n",
    "default={'designation':'Application Developer','Salery':8000}\n",
    "res=dict.fromkeys(employees,default)\n",
    "print(res)\n",
    "print(res['Kellys'])"
   ]
  },
  {
   "cell_type": "code",
   "execution_count": 54,
   "id": "929820ad",
   "metadata": {},
   "outputs": [
    {
     "name": "stdout",
     "output_type": "stream",
     "text": [
      "{'name': 'Kelly', 'salery': 8000}\n"
     ]
    }
   ],
   "source": [
    "sampleDict={\n",
    "    \"name\":'Kelly',\n",
    "    'age':25,\n",
    "    'salery':8000,\n",
    "    'city':'New York'\n",
    "}\n",
    "\n",
    "key=['name','salery']\n",
    "newDict ={k:sampleDict[k] for k in key}\n",
    "print(newDict)"
   ]
  },
  {
   "cell_type": "code",
   "execution_count": 55,
   "id": "520a9ea9",
   "metadata": {},
   "outputs": [
    {
     "name": "stdout",
     "output_type": "stream",
     "text": [
      "{'city': 'New York', 'age': 25}\n"
     ]
    }
   ],
   "source": [
    "sampleDict={\n",
    "    \"name\":'Kelly',\n",
    "    'age':25,\n",
    "    'salery':8000,\n",
    "    'city':'New York'\n",
    "}\n",
    "keystoremove=['name','salery']\n",
    "smpleDict={k: sampleDict[k] for k in sampleDict.keys()-keystoremove}\n",
    "print(smpleDict)"
   ]
  },
  {
   "cell_type": "code",
   "execution_count": 6,
   "id": "df84f47f",
   "metadata": {},
   "outputs": [
    {
     "name": "stdout",
     "output_type": "stream",
     "text": [
      "True\n"
     ]
    }
   ],
   "source": [
    "sampleDict={'a':100,'b':200,'c':300}\n",
    "n=200\n",
    "if n in sampleDict.values():\n",
    "    print(True)\n",
    "else:\n",
    "    print(False)"
   ]
  },
  {
   "cell_type": "code",
   "execution_count": 14,
   "id": "f65f81c2",
   "metadata": {},
   "outputs": [
    {
     "name": "stdout",
     "output_type": "stream",
     "text": [
      "{'name': 'Kelly', 'age': 25, 'salery': 8000, 'Location': 'New york'}\n"
     ]
    }
   ],
   "source": [
    "sampleDict={\n",
    "    'name':'Kelly',\n",
    "    'age':25,\n",
    "    'salery':8000,\n",
    "    'city':'New york'\n",
    "}\n",
    "sampleDict['Location']=sampleDict.pop('city')\n",
    "print(sampleDict)"
   ]
  },
  {
   "cell_type": "code",
   "execution_count": 31,
   "id": "4a0374d1",
   "metadata": {},
   "outputs": [
    {
     "name": "stdout",
     "output_type": "stream",
     "text": [
      "Chemistry\n"
     ]
    }
   ],
   "source": [
    "sampleDict={\n",
    "    'Physics':82,\n",
    "    'Math':62,\n",
    "    'Chemistry':50\n",
    "}\n",
    "print(min(sampleDict,key=sampleDict.get))"
   ]
  },
  {
   "cell_type": "code",
   "execution_count": 37,
   "id": "65953031",
   "metadata": {},
   "outputs": [
    {
     "name": "stdout",
     "output_type": "stream",
     "text": [
      "{'emp1': {'name': 'John', 'salery': 6500}, 'emp2': {'name': 'Brad', 'salery': 6000}, 'emp3': {'name': 'Kelly', 'salery': 4500}}\n"
     ]
    }
   ],
   "source": [
    "sampleDict={\n",
    "    'emp1':{'name':'John','salery':6500},\n",
    "    'emp2':{'name':'Brad','salery':9000},\n",
    "    'emp3':{'name':'Kelly','salery':4500}\n",
    "}\n",
    "sampleDict['emp2']['salery']=6000\n",
    "print(sampleDict)"
   ]
  },
  {
   "cell_type": "code",
   "execution_count": 45,
   "id": "5b3d2ae1",
   "metadata": {},
   "outputs": [
    {
     "name": "stdout",
     "output_type": "stream",
     "text": [
      "{'Red', 'Blue', 'Pink', 'Yellow', 'Green'}\n"
     ]
    }
   ],
   "source": [
    "S={'Yellow','Red','Green'}\n",
    "l=['Blue','Pink']\n",
    "d=set(l)\n",
    "S.update(d)\n",
    "print(S)"
   ]
  },
  {
   "cell_type": "code",
   "execution_count": 47,
   "id": "35e10b9d",
   "metadata": {},
   "outputs": [
    {
     "name": "stdout",
     "output_type": "stream",
     "text": [
      "{40, 50, 30}\n"
     ]
    }
   ],
   "source": [
    "s1={10,20,30,40,50}\n",
    "s2={30,40,50,60,70}\n",
    "print(s1.intersection(s2))"
   ]
  },
  {
   "cell_type": "code",
   "execution_count": 48,
   "id": "df404973",
   "metadata": {},
   "outputs": [
    {
     "name": "stdout",
     "output_type": "stream",
     "text": [
      "{70, 40, 10, 50, 20, 60, 30}\n"
     ]
    }
   ],
   "source": [
    "s1.update(s2)\n",
    "print(s1)"
   ]
  },
  {
   "cell_type": "code",
   "execution_count": 52,
   "id": "37d82bb7",
   "metadata": {},
   "outputs": [
    {
     "name": "stdout",
     "output_type": "stream",
     "text": [
      "{10, 20}\n"
     ]
    }
   ],
   "source": [
    "s1={10,20,30,40,50}\n",
    "s2={30,40,50,60,70}\n",
    "s1.difference_update(s2)\n",
    "print(s1)"
   ]
  },
  {
   "cell_type": "code",
   "execution_count": 56,
   "id": "9f54f3d1",
   "metadata": {},
   "outputs": [
    {
     "name": "stdout",
     "output_type": "stream",
     "text": [
      "{40, 50}\n"
     ]
    }
   ],
   "source": [
    "s1={10,20,30,40,50}\n",
    "s1.remove(10)\n",
    "s1.remove(20)\n",
    "s1.remove(30)\n",
    "print(s1)"
   ]
  },
  {
   "cell_type": "code",
   "execution_count": 57,
   "id": "d205aafd",
   "metadata": {},
   "outputs": [
    {
     "name": "stdout",
     "output_type": "stream",
     "text": [
      "{40, 50}\n"
     ]
    }
   ],
   "source": [
    "s1={10,20,30,40,50}\n",
    "s1.difference_update({10,20,30})\n",
    "print(s1)"
   ]
  },
  {
   "cell_type": "code",
   "execution_count": 61,
   "id": "4a7345d4",
   "metadata": {},
   "outputs": [
    {
     "name": "stdout",
     "output_type": "stream",
     "text": [
      "{20, 70, 10, 60}\n"
     ]
    }
   ],
   "source": [
    "s1={10,20,30,40,50}\n",
    "s2={30,40,50,60,70}\n",
    "print(s1.symmetric_difference(s2))"
   ]
  },
  {
   "cell_type": "code",
   "execution_count": 5,
   "id": "97b46d96",
   "metadata": {},
   "outputs": [
    {
     "name": "stdout",
     "output_type": "stream",
     "text": [
      "10% discount applicable\n",
      "amount payable: 19939.5\n"
     ]
    }
   ],
   "source": [
    "price=105.50\n",
    "qty=210\n",
    "amount=price*qty\n",
    "if amount>10000:\n",
    "    print (\"10% discount applicable\")\n",
    "    discount=amount*10/100\n",
    "    amount=amount-discount\n",
    "else:\n",
    "    if amount>5000 and amount<10000:\n",
    "        print (\"5% discount applicable\")\n",
    "        discount=amount*5/100\n",
    "        amount=amount-discount\n",
    "    else:\n",
    "        if amount>2000 and amount<5000:\n",
    "            print (\"2% discount applicable\")\n",
    "            discount=amount*2/100\n",
    "            amount=amount-discount\n",
    "        else:\n",
    "            if amount>1000 and amount<2000:\n",
    "                print (\"1% discount applicable\")\n",
    "                discount=amount*1/100\n",
    "                amount=amount-discount\n",
    "            else:\n",
    "                print('No discount is applicable')\n",
    "print (\"amount payable:\",amount)"
   ]
  },
  {
   "cell_type": "code",
   "execution_count": 10,
   "id": "f07f7974",
   "metadata": {},
   "outputs": [
    {
     "name": "stdout",
     "output_type": "stream",
     "text": [
      "Enter a Number:-4\n",
      "This is a Negative Number\n"
     ]
    }
   ],
   "source": [
    "num=int(input('Enter a Number:'))\n",
    "if num>0:\n",
    "    print('This is a Positive Number.')\n",
    "elif num==0:\n",
    "    print('It is Zero')\n",
    "else:\n",
    "    print('This is a Negative Number')"
   ]
  },
  {
   "cell_type": "code",
   "execution_count": 13,
   "id": "faa4cd08",
   "metadata": {},
   "outputs": [
    {
     "name": "stdout",
     "output_type": "stream",
     "text": [
      "Enter a Year:2001\n",
      "It is not a Leap Year\n"
     ]
    }
   ],
   "source": [
    "year=int(input('Enter a Year:'))\n",
    "if year%100==0:\n",
    "    if year%400==0:\n",
    "        if year%4==0:\n",
    "            print('It is a leap year')\n",
    "else:\n",
    "    print('It is not a Leap Year')"
   ]
  },
  {
   "cell_type": "code",
   "execution_count": 21,
   "id": "b7fcb855",
   "metadata": {},
   "outputs": [
    {
     "name": "stdout",
     "output_type": "stream",
     "text": [
      "1 100\n",
      "2 200\n",
      "3 300\n"
     ]
    }
   ],
   "source": [
    "dict={1:100, 2:200, 3:300}\n",
    "\n",
    "for k,v in dict.items():\n",
    "\n",
    "    print (k,v)"
   ]
  },
  {
   "cell_type": "code",
   "execution_count": 25,
   "id": "2fcb7a1f",
   "metadata": {},
   "outputs": [
    {
     "name": "stdout",
     "output_type": "stream",
     "text": [
      "1 100\n",
      "2 200\n",
      "3 300\n"
     ]
    }
   ],
   "source": [
    "dict={1:100, 2:200, 3:300}\n",
    "\n",
    "for k in dict.keys():\n",
    "\n",
    "    print (k,dict.get(k))"
   ]
  },
  {
   "cell_type": "code",
   "execution_count": 32,
   "id": "63f70eab",
   "metadata": {},
   "outputs": [
    {
     "name": "stdout",
     "output_type": "stream",
     "text": [
      "16* 1= 16\n",
      "16* 2= 32\n",
      "16* 3= 48\n",
      "16* 4= 64\n",
      "16* 5= 80\n",
      "16* 6= 96\n",
      "16* 7= 112\n",
      "16* 8= 128\n",
      "16* 9= 144\n",
      "16* 10= 160\n",
      "16* 11= 176\n",
      "16* 12= 192\n"
     ]
    }
   ],
   "source": [
    "i=1\n",
    "while i<13:\n",
    "    print('16* {}= {}'.format(i,16*i))\n",
    "    i+=1"
   ]
  },
  {
   "cell_type": "code",
   "execution_count": 40,
   "id": "36234d9f",
   "metadata": {},
   "outputs": [
    {
     "name": "stdout",
     "output_type": "stream",
     "text": [
      "1\n",
      "6\n",
      "11\n",
      "16\n",
      "21\n"
     ]
    }
   ],
   "source": [
    "for x in range(1,25,5):\n",
    "    print(x)"
   ]
  },
  {
   "cell_type": "code",
   "execution_count": 4,
   "id": "217666ad",
   "metadata": {},
   "outputs": [
    {
     "name": "stdout",
     "output_type": "stream",
     "text": [
      "Enter a Number:25\n",
      "25 is not a Prime Number.\n"
     ]
    }
   ],
   "source": [
    "num=int(input('Enter a Number:'))\n",
    "for x in range(2,num):\n",
    "    if num%x==0:\n",
    "        print('{} is not a Prime Number.'.format(num))\n",
    "        break\n",
    "else:\n",
    "    print(\"{} is a Prime Number.\".format(num))"
   ]
  },
  {
   "cell_type": "code",
   "execution_count": 9,
   "id": "b295f2d8",
   "metadata": {},
   "outputs": [
    {
     "name": "stdout",
     "output_type": "stream",
     "text": [
      "Enter a Number:90\n",
      "2\n",
      "3\n",
      "3\n",
      "5\n"
     ]
    }
   ],
   "source": [
    "num=int(input('Enter a Number:'))\n",
    "d=2\n",
    "while num>1:\n",
    "    if num%d==0:\n",
    "        print(d)\n",
    "        num=num/d\n",
    "        continue\n",
    "    d=d+1"
   ]
  },
  {
   "cell_type": "code",
   "execution_count": 1,
   "id": "6aae0d0d",
   "metadata": {},
   "outputs": [
    {
     "name": "stdout",
     "output_type": "stream",
     "text": [
      "Looking Slughorn straight in the eye, Abhijit leant forwards a little.\n",
      "\n",
      "'I am the Chosen One. I have to kill Voldemort. I need that memory.'\n",
      "\n",
      "'You are the Chosen One?'\n",
      "'Of course I am,' said Abhijit calmly.\n"
     ]
    }
   ],
   "source": [
    "def IPotter():\n",
    "#    \"This function morphs anyone into Harry Potter!\"\n",
    "    name='Abhijit'\n",
    "    print(\"\"\"Looking Slughorn straight in the eye, {} leant forwards a little.\\n\n",
    "'I am the Chosen One. I have to kill Voldemort. I need that memory.'\\n\n",
    "'You are the Chosen One?'\\n'Of course I am,' said {} calmly.\"\"\".format(name,name))\n",
    "    return\n",
    "\n",
    "IPotter()\n"
   ]
  },
  {
   "cell_type": "code",
   "execution_count": 7,
   "id": "9cc62155",
   "metadata": {},
   "outputs": [
    {
     "name": "stdout",
     "output_type": "stream",
     "text": [
      "15\n"
     ]
    }
   ],
   "source": [
    "def solve(meal_cost,tip_percent,tax_percent):\n",
    "    meal_cost=float(input('Enter meal cost'))\n",
    "    tip_percent=int(input('Enter Tip percent'))\n",
    "    tax_percent=int(input('Enter tax percent'))\n",
    "    tip=(meal_cost/100)*tip_percent\n",
    "    tax=(meal_cost/100)*tax_percent\n",
    "    meal=meal_cost+tip+tax\n",
    "    print(round(meal))\n",
    "    \n",
    "solve(12.0,20,8)"
   ]
  },
  {
   "cell_type": "code",
   "execution_count": 14,
   "id": "aa7092ee",
   "metadata": {},
   "outputs": [
    {
     "data": {
      "text/plain": [
       "[1, 2, 5, 3]"
      ]
     },
     "execution_count": 14,
     "metadata": {},
     "output_type": "execute_result"
    }
   ],
   "source": [
    "arr=[1,2,5,7,3]\n",
    "x=max(arr)\n",
    "for i in arr:\n",
    "    if ix:\n",
    "        print()"
   ]
  },
  {
   "cell_type": "code",
   "execution_count": 25,
   "id": "614f7608",
   "metadata": {},
   "outputs": [],
   "source": [
    "class Person:\n",
    "    def __init__(self,initialAge):\n",
    "        if initialage<0:\n",
    "            self.age=0\n",
    "            print('Age is not valid Setting to 0.')\n",
    "        else:\n",
    "            self.age=initalage\n",
    "    def amIold(self):\n",
    "        if self.age<13:\n",
    "            print('You are Young')\n",
    "        elif sel.age>=13 and self.age<18:\n",
    "            print('You are teenager')\n",
    "        else:\n",
    "            print('You are old')\n",
    "    def yearpasses(self):\n",
    "        self.age+=1"
   ]
  },
  {
   "cell_type": "code",
   "execution_count": 17,
   "id": "efc8f24f",
   "metadata": {},
   "outputs": [
    {
     "name": "stdout",
     "output_type": "stream",
     "text": [
      "2\n",
      "Abhijit\n",
      "Ahjt bii\n",
      "Nanda\n",
      "Nna ad\n"
     ]
    }
   ],
   "source": [
    "n=int(input())\n",
    "for i in range(1,n+1):\n",
    "    s=input()\n",
    "    print(s[0::2]+' '+s[1::2])"
   ]
  }
 ],
 "metadata": {
  "kernelspec": {
   "display_name": "Python 3 (ipykernel)",
   "language": "python",
   "name": "python3"
  },
  "language_info": {
   "codemirror_mode": {
    "name": "ipython",
    "version": 3
   },
   "file_extension": ".py",
   "mimetype": "text/x-python",
   "name": "python",
   "nbconvert_exporter": "python",
   "pygments_lexer": "ipython3",
   "version": "3.8.11"
  }
 },
 "nbformat": 4,
 "nbformat_minor": 5
}
