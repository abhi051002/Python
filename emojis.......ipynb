{
 "cells": [
  {
   "cell_type": "code",
   "execution_count": 1,
   "id": "73bbd2f2",
   "metadata": {},
   "outputs": [
    {
     "name": "stdout",
     "output_type": "stream",
     "text": [
      "🤗\n"
     ]
    }
   ],
   "source": [
    " print('\\U0001F917')"
   ]
  },
  {
   "cell_type": "code",
   "execution_count": 2,
   "id": "ec0e9aad",
   "metadata": {},
   "outputs": [
    {
     "name": "stdout",
     "output_type": "stream",
     "text": [
      "🤭\n"
     ]
    }
   ],
   "source": [
    " print('\\U0001F92D')"
   ]
  },
  {
   "cell_type": "code",
   "execution_count": 3,
   "id": "3953ea53",
   "metadata": {},
   "outputs": [
    {
     "name": "stdout",
     "output_type": "stream",
     "text": [
      "🤫\n"
     ]
    }
   ],
   "source": [
    " print('\\U0001F92B')"
   ]
  },
  {
   "cell_type": "code",
   "execution_count": 4,
   "id": "58264ffc",
   "metadata": {},
   "outputs": [
    {
     "name": "stdout",
     "output_type": "stream",
     "text": [
      "🤔\n"
     ]
    }
   ],
   "source": [
    " print('\\U0001F914')"
   ]
  },
  {
   "cell_type": "code",
   "execution_count": 5,
   "id": "43094efd",
   "metadata": {},
   "outputs": [
    {
     "name": "stdout",
     "output_type": "stream",
     "text": [
      "🤐\n"
     ]
    }
   ],
   "source": [
    " print('\\U0001F910')"
   ]
  },
  {
   "cell_type": "code",
   "execution_count": 6,
   "id": "4fad4886",
   "metadata": {},
   "outputs": [
    {
     "name": "stdout",
     "output_type": "stream",
     "text": [
      "🤨\n"
     ]
    }
   ],
   "source": [
    " print('\\U0001F928')"
   ]
  },
  {
   "cell_type": "code",
   "execution_count": 7,
   "id": "3fe57cbd",
   "metadata": {},
   "outputs": [
    {
     "name": "stdout",
     "output_type": "stream",
     "text": [
      "😐\n"
     ]
    }
   ],
   "source": [
    " print('\\U0001F610')"
   ]
  },
  {
   "cell_type": "code",
   "execution_count": 8,
   "id": "ca1a2e2e",
   "metadata": {},
   "outputs": [
    {
     "name": "stdout",
     "output_type": "stream",
     "text": [
      "😑\n"
     ]
    }
   ],
   "source": [
    " print('\\U0001F611')"
   ]
  },
  {
   "cell_type": "code",
   "execution_count": 9,
   "id": "88e6ecc3",
   "metadata": {},
   "outputs": [
    {
     "name": "stdout",
     "output_type": "stream",
     "text": [
      "😶\n"
     ]
    }
   ],
   "source": [
    " print('\\U0001F636')"
   ]
  },
  {
   "cell_type": "code",
   "execution_count": 10,
   "id": "c6e655c5",
   "metadata": {},
   "outputs": [
    {
     "name": "stdout",
     "output_type": "stream",
     "text": [
      "😌\n"
     ]
    }
   ],
   "source": [
    " print('\\U0001F60C')"
   ]
  },
  {
   "cell_type": "code",
   "execution_count": 11,
   "id": "a5ccba1b",
   "metadata": {},
   "outputs": [
    {
     "name": "stdout",
     "output_type": "stream",
     "text": [
      "😔\n"
     ]
    }
   ],
   "source": [
    " print('\\U0001F614')"
   ]
  },
  {
   "cell_type": "code",
   "execution_count": 12,
   "id": "2f6cd97a",
   "metadata": {},
   "outputs": [
    {
     "name": "stdout",
     "output_type": "stream",
     "text": [
      "😪\n"
     ]
    }
   ],
   "source": [
    " print('\\U0001F62A')"
   ]
  },
  {
   "cell_type": "code",
   "execution_count": 13,
   "id": "1fd490cf",
   "metadata": {},
   "outputs": [
    {
     "name": "stdout",
     "output_type": "stream",
     "text": [
      "🤪\n"
     ]
    }
   ],
   "source": [
    " print('\\U0001F92A')"
   ]
  },
  {
   "cell_type": "code",
   "execution_count": 14,
   "id": "a96a7325",
   "metadata": {},
   "outputs": [
    {
     "name": "stdout",
     "output_type": "stream",
     "text": [
      "😴\n"
     ]
    }
   ],
   "source": [
    " print('\\U0001F634')"
   ]
  },
  {
   "cell_type": "code",
   "execution_count": 15,
   "id": "c351a84f",
   "metadata": {},
   "outputs": [
    {
     "name": "stdout",
     "output_type": "stream",
     "text": [
      "🙈\n"
     ]
    }
   ],
   "source": [
    " print('\\U0001F648')"
   ]
  },
  {
   "cell_type": "code",
   "execution_count": 16,
   "id": "4bdc20ed",
   "metadata": {},
   "outputs": [
    {
     "name": "stdout",
     "output_type": "stream",
     "text": [
      "🙉\n"
     ]
    }
   ],
   "source": [
    " print('\\U0001F649')"
   ]
  },
  {
   "cell_type": "code",
   "execution_count": 17,
   "id": "744de3a1",
   "metadata": {},
   "outputs": [
    {
     "name": "stdout",
     "output_type": "stream",
     "text": [
      "🙊\n"
     ]
    }
   ],
   "source": [
    " print('\\U0001F64A')"
   ]
  },
  {
   "cell_type": "code",
   "execution_count": 18,
   "id": "5dde37fc",
   "metadata": {},
   "outputs": [
    {
     "name": "stdout",
     "output_type": "stream",
     "text": [
      "😀\n"
     ]
    }
   ],
   "source": [
    " print('\\U0001F600')"
   ]
  },
  {
   "cell_type": "code",
   "execution_count": 19,
   "id": "30e30a4e",
   "metadata": {},
   "outputs": [
    {
     "name": "stdout",
     "output_type": "stream",
     "text": [
      "😃\n"
     ]
    }
   ],
   "source": [
    " print('\\U0001F603')"
   ]
  },
  {
   "cell_type": "code",
   "execution_count": 20,
   "id": "dcef24c2",
   "metadata": {},
   "outputs": [
    {
     "name": "stdout",
     "output_type": "stream",
     "text": [
      "😄\n"
     ]
    }
   ],
   "source": [
    " print('\\U0001F604')"
   ]
  },
  {
   "cell_type": "code",
   "execution_count": 21,
   "id": "e3aa3b1e",
   "metadata": {},
   "outputs": [
    {
     "name": "stdout",
     "output_type": "stream",
     "text": [
      "😁\n"
     ]
    }
   ],
   "source": [
    " print('\\U0001F601')"
   ]
  },
  {
   "cell_type": "code",
   "execution_count": 22,
   "id": "035956d2",
   "metadata": {},
   "outputs": [
    {
     "name": "stdout",
     "output_type": "stream",
     "text": [
      "😆\n"
     ]
    }
   ],
   "source": [
    " print('\\U0001F606')"
   ]
  },
  {
   "cell_type": "code",
   "execution_count": 23,
   "id": "f217b547",
   "metadata": {},
   "outputs": [
    {
     "name": "stdout",
     "output_type": "stream",
     "text": [
      "😅\n"
     ]
    }
   ],
   "source": [
    " print('\\U0001F605')"
   ]
  },
  {
   "cell_type": "code",
   "execution_count": 24,
   "id": "d927ada5",
   "metadata": {},
   "outputs": [
    {
     "name": "stdout",
     "output_type": "stream",
     "text": [
      "🤣\n"
     ]
    }
   ],
   "source": [
    " print('\\U0001F923')"
   ]
  },
  {
   "cell_type": "code",
   "execution_count": 25,
   "id": "bb48b13e",
   "metadata": {},
   "outputs": [
    {
     "name": "stdout",
     "output_type": "stream",
     "text": [
      "😎\n"
     ]
    }
   ],
   "source": [
    " print('\\U0001F60E')"
   ]
  },
  {
   "cell_type": "code",
   "execution_count": 26,
   "id": "ff00628b",
   "metadata": {},
   "outputs": [
    {
     "name": "stdout",
     "output_type": "stream",
     "text": [
      "🤓\n"
     ]
    }
   ],
   "source": [
    " print('\\U0001F913')"
   ]
  },
  {
   "cell_type": "code",
   "execution_count": 27,
   "id": "f1912c77",
   "metadata": {},
   "outputs": [
    {
     "name": "stdout",
     "output_type": "stream",
     "text": [
      "🧐\n"
     ]
    }
   ],
   "source": [
    " print('\\U0001F9D0')"
   ]
  }
 ],
 "metadata": {
  "kernelspec": {
   "display_name": "Python 3",
   "language": "python",
   "name": "python3"
  },
  "language_info": {
   "codemirror_mode": {
    "name": "ipython",
    "version": 3
   },
   "file_extension": ".py",
   "mimetype": "text/x-python",
   "name": "python",
   "nbconvert_exporter": "python",
   "pygments_lexer": "ipython3",
   "version": "3.8.11"
  }
 },
 "nbformat": 4,
 "nbformat_minor": 5
}
