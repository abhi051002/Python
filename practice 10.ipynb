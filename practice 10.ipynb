{
 "cells": [
  {
   "cell_type": "code",
   "execution_count": 5,
   "id": "a1320c05",
   "metadata": {},
   "outputs": [
    {
     "name": "stdout",
     "output_type": "stream",
     "text": [
      "2021-09-22 10:51:24.221863\n"
     ]
    }
   ],
   "source": [
    "import datetime\n",
    "x=datetime.datetime.now()\n",
    "print(x)"
   ]
  },
  {
   "cell_type": "code",
   "execution_count": 8,
   "id": "63881d0b",
   "metadata": {},
   "outputs": [
    {
     "name": "stdout",
     "output_type": "stream",
     "text": [
      "2021\n",
      "Wednesday\n"
     ]
    }
   ],
   "source": [
    "import datetime\n",
    "x=datetime.datetime.now()\n",
    "print(x.year)\n",
    "print(x.strftime(\"%A\"))"
   ]
  },
  {
   "cell_type": "code",
   "execution_count": 16,
   "id": "7420f287",
   "metadata": {},
   "outputs": [
    {
     "name": "stdout",
     "output_type": "stream",
     "text": [
      "2023-02-19 00:00:00\n"
     ]
    }
   ],
   "source": [
    "import datetime\n",
    "x=datetime.datetime(2023,2,19)\n",
    "print(x)"
   ]
  },
  {
   "cell_type": "code",
   "execution_count": 17,
   "id": "08a575a4",
   "metadata": {},
   "outputs": [
    {
     "name": "stdout",
     "output_type": "stream",
     "text": [
      "2023-02-19 23:56:45.587452\n"
     ]
    }
   ],
   "source": [
    "import datetime\n",
    "x=datetime.datetime(2023,2,19,23,56,45,587452)\n",
    "print(x)"
   ]
  },
  {
   "cell_type": "code",
   "execution_count": 26,
   "id": "c5223c6d",
   "metadata": {},
   "outputs": [
    {
     "name": "stdout",
     "output_type": "stream",
     "text": [
      "Wed\n",
      "Wednesday\n",
      "Sep\n",
      "September\n",
      "3\n",
      "22\n",
      "09\n",
      "21\n",
      "2021\n",
      "11\n",
      "11\n"
     ]
    }
   ],
   "source": [
    "import datetime\n",
    "x=datetime.datetime.now()\n",
    "print(x.strftime(\"%a\")) #Short version of Weekday\n",
    "print(x.strftime(\"%A\")) #Full Version of Weekday\n",
    "print(x.strftime(\"%b\")) #Short version of Month name\n",
    "print(x.strftime(\"%B\")) #Full version of Month name\n",
    "print(x.strftime(\"%w\")) #Week Day as number 0-6,0 is Sunday\n",
    "print(x.strftime(\"%d\")) #Day of month 01-31\n",
    "print(x.strftime(\"%m\")) #Month as Number 1-12\n",
    "print(x.strftime(\"%y\")) #Short version of Year without century\n",
    "print(x.strftime(\"%Y\")) #Full version of Year\n",
    "print(x.strftime(\"%H\")) #Hour 24-format 00-23\n",
    "print(x.strftime(\"%I\")) #Hour 12-format 00-12"
   ]
  },
  {
   "cell_type": "code",
   "execution_count": 44,
   "id": "aeb483f8",
   "metadata": {},
   "outputs": [
    {
     "name": "stdout",
     "output_type": "stream",
     "text": [
      "AM\n",
      "33\n",
      "41\n",
      "886481\n",
      "265\n",
      "38\n",
      "38\n",
      "Wed Sep 22 11:33:41 2021\n",
      "20\n",
      "09/22/21\n",
      "11:33:41\n",
      "%\n",
      "2021\n",
      "3\n",
      "38\n"
     ]
    }
   ],
   "source": [
    "import datetime\n",
    "x=datetime.datetime.now()\n",
    "print(x.strftime(\"%p\")) #AM/PM\n",
    "print(x.strftime(\"%M\")) #Minute 00-59\n",
    "print(x.strftime(\"%S\")) #Second 00-59\n",
    "print(x.strftime(\"%f\")) #Microsecond 000000-999999\n",
    "print(x.strftime(\"%j\")) #Day Number of Year 001-365\n",
    "print(x.strftime(\"%U\")) #Week Number of year 00-53 Sunday is the first day of week\n",
    "print(x.strftime(\"%W\")) #Week Number of year 00-53 Monday is the first day of week\n",
    "print(x.strftime(\"%c\")) #Local Version of Date and time\n",
    "print(x.strftime(\"%C\")) #Century\n",
    "print(x.strftime(\"%x\")) #Local Version of Date\n",
    "print(x.strftime(\"%X\")) #Local Version of time\n",
    "print(x.strftime(\"%%\"))\n",
    "print(x.strftime(\"%G\")) #ISO 8601 year\n",
    "print(x.strftime(\"%u\")) #ISO 8601 weekday(0-7)\n",
    "print(x.strftime(\"%V\")) #ISO 8601 weeknumber(01-53)"
   ]
  },
  {
   "cell_type": "code",
   "execution_count": 2,
   "id": "c93f8c97",
   "metadata": {},
   "outputs": [
    {
     "name": "stdout",
     "output_type": "stream",
     "text": [
      "4\n",
      "85\n"
     ]
    }
   ],
   "source": [
    "x=min(50,4,85)\n",
    "y=max(50,4,85)\n",
    "print(x)\n",
    "print(y)"
   ]
  },
  {
   "cell_type": "code",
   "execution_count": 5,
   "id": "672368b7",
   "metadata": {},
   "outputs": [
    {
     "name": "stdout",
     "output_type": "stream",
     "text": [
      "7.26\n",
      "96\n"
     ]
    }
   ],
   "source": [
    "x=abs(-7.26)\n",
    "print(x)\n",
    "print(abs(-96))"
   ]
  },
  {
   "cell_type": "code",
   "execution_count": 7,
   "id": "2c6355a2",
   "metadata": {},
   "outputs": [
    {
     "name": "stdout",
     "output_type": "stream",
     "text": [
      "64\n",
      "81\n"
     ]
    }
   ],
   "source": [
    "x=pow(4,3)\n",
    "print(x)\n",
    "print(pow(3,4))"
   ]
  },
  {
   "cell_type": "code",
   "execution_count": 8,
   "id": "5da936e3",
   "metadata": {},
   "outputs": [
    {
     "name": "stdout",
     "output_type": "stream",
     "text": [
      "8.0\n"
     ]
    }
   ],
   "source": [
    "import math\n",
    "x=math.sqrt(64)\n",
    "print(x)"
   ]
  },
  {
   "cell_type": "code",
   "execution_count": 9,
   "id": "307add5e",
   "metadata": {},
   "outputs": [
    {
     "name": "stdout",
     "output_type": "stream",
     "text": [
      "3\n",
      "2\n"
     ]
    }
   ],
   "source": [
    "import math\n",
    "x=math.ceil(2.4)\n",
    "y=math.floor(2.4)\n",
    "print(x)\n",
    "print(y)"
   ]
  },
  {
   "cell_type": "code",
   "execution_count": 11,
   "id": "ed42eb27",
   "metadata": {},
   "outputs": [
    {
     "name": "stdout",
     "output_type": "stream",
     "text": [
      "3.141592653589793\n"
     ]
    }
   ],
   "source": [
    "import math\n",
    "x=math.pi\n",
    "print(x)"
   ]
  },
  {
   "cell_type": "code",
   "execution_count": 10,
   "id": "a2ea8773",
   "metadata": {},
   "outputs": [
    {
     "name": "stdout",
     "output_type": "stream",
     "text": [
      "19\n"
     ]
    }
   ],
   "source": [
    "import json\n",
    "x='{\"name\":\"Abhijit\",\"age\":19,\"city\":\"jajpur\"}'\n",
    "y=json.loads(x)\n",
    "print(y[\"age\"])"
   ]
  },
  {
   "cell_type": "code",
   "execution_count": 11,
   "id": "f6dc90c5",
   "metadata": {},
   "outputs": [
    {
     "name": "stdout",
     "output_type": "stream",
     "text": [
      "{\"name\": \"Abhijit\", \"age\": 19, \"city\": \"jajpur\"}\n"
     ]
    }
   ],
   "source": [
    "import json\n",
    "x={\"name\":\"Abhijit\",\"age\":19,\"city\":\"jajpur\"}\n",
    "y=json.dumps(x)\n",
    "print(y)"
   ]
  },
  {
   "cell_type": "code",
   "execution_count": 14,
   "id": "0184016e",
   "metadata": {},
   "outputs": [
    {
     "name": "stdout",
     "output_type": "stream",
     "text": [
      "{\"name\": \"Abhi\", \"age\": 20}\n",
      "[\"apple\", \"banana\"]\n",
      "[\"apple\", \"banana\"]\n",
      "42\n",
      "\"hello\"\n",
      "23.65\n",
      "true\n",
      "false\n",
      "null\n"
     ]
    }
   ],
   "source": [
    "import json\n",
    "print(json.dumps({\"name\":\"Abhi\",\"age\":20}))\n",
    "print(json.dumps(['apple','banana']))\n",
    "print(json.dumps(('apple','banana')))\n",
    "print(json.dumps(42))\n",
    "print(json.dumps(\"hello\"))\n",
    "print(json.dumps(23.65))\n",
    "print(json.dumps(True))\n",
    "print(json.dumps(False))\n",
    "print(json.dumps(None))"
   ]
  },
  {
   "cell_type": "code",
   "execution_count": 34,
   "id": "713aa58c",
   "metadata": {},
   "outputs": [
    {
     "name": "stdout",
     "output_type": "stream",
     "text": [
      "{\n",
      "     \"age\"=19.\n",
      "     \"car\"=[\n",
      "          {\n",
      "               \"model\"=\"BMW\".\n",
      "               \"mpg\"=27.5\n",
      "          }.\n",
      "          {\n",
      "               \"model\"=\"FORD EDGE\".\n",
      "               \"mpg\"=24.1\n",
      "          }\n",
      "     ].\n",
      "     \"children\"=[\n",
      "          \"Lolly\".\n",
      "          \"Kuttu\"\n",
      "     ].\n",
      "     \"divorced\"=false.\n",
      "     \"married\"=true.\n",
      "     \"name\"=\"Abhijit\".\n",
      "     \"pet\"=null\n",
      "}\n"
     ]
    }
   ],
   "source": [
    "import json\n",
    "x={\"name\":\"Abhijit\",\"age\":19,\"married\":True,\"divorced\":False,\"children\":(\"Lolly\",\"Kuttu\"),\"pet\":None,\"car\":[{\"model\":\"BMW\",\"mpg\":27.5},{\"model\":\"FORD EDGE\",\"mpg\":24.1}]}\n",
    "print(json.dumps(x,indent=5,separators=(\".\",\"=\"),sort_keys=True))"
   ]
  },
  {
   "cell_type": "code",
   "execution_count": 14,
   "id": "85ec7233",
   "metadata": {},
   "outputs": [
    {
     "name": "stdout",
     "output_type": "stream",
     "text": [
      "Yes\n"
     ]
    }
   ],
   "source": [
    "import re\n",
    "txt=\"I am Abhijit Nanda\"\n",
    "x=re.search(\"I.*Nanda\",txt)\n",
    "if x:\n",
    "    print(\"Yes\")\n",
    "else:\n",
    "    print(\"No\")"
   ]
  },
  {
   "cell_type": "code",
   "execution_count": 25,
   "id": "c3cacc2c",
   "metadata": {},
   "outputs": [
    {
     "name": "stdout",
     "output_type": "stream",
     "text": [
      "['a', 'm', 'b', 'h', 'i', 'j', 'i', 't', 'h', 'e', 'r', 'e', 'f', 'r', 'o', 'm', 'f', 'a', 'l', 'l']\n",
      "['2', '0', '0', '2']\n",
      "['Abhijit']\n",
      "Yes\n"
     ]
    }
   ],
   "source": [
    "import re\n",
    "txt=\"I am Abhijit here from 2002,fall\"\n",
    "x=re.findall(\"[a-z]\",txt)\n",
    "print(x)\n",
    "y=re.findall(\"\\d\",txt)\n",
    "print(y)\n",
    "y=re.findall(\"A..i.it\",txt)\n",
    "print(y)\n",
    "x=re.findall(\"^I\",txt)\n",
    "if x:\n",
    "    print(\"Yes\")\n",
    "else:\n",
    "    print(\"No\")"
   ]
  },
  {
   "cell_type": "code",
   "execution_count": 29,
   "id": "d1277959",
   "metadata": {},
   "outputs": [
    {
     "name": "stdout",
     "output_type": "stream",
     "text": [
      "yes\n",
      "['Ab']\n",
      "Yes\n",
      "['all']\n",
      "['fall']\n"
     ]
    }
   ],
   "source": [
    "x=re.findall(\"fall$\",txt)\n",
    "if x:\n",
    "    print('yes')\n",
    "else:\n",
    "    print(\"no\")\n",
    "x=re.findall(\"Abx*\",txt)\n",
    "print(x)\n",
    "if x:\n",
    "    print(\"Yes\")\n",
    "else:\n",
    "    print(\"No\")\n",
    "x=re.findall(\"al{2}\",txt)\n",
    "print(x)\n",
    "x=re.findall(\"fall|stay\",txt)\n",
    "print(x)"
   ]
  },
  {
   "cell_type": "code",
   "execution_count": 30,
   "id": "dffee4f2",
   "metadata": {},
   "outputs": [
    {
     "name": "stdout",
     "output_type": "stream",
     "text": [
      "Yes\n"
     ]
    }
   ],
   "source": [
    "import re\n",
    "txt=\"The Rain in Spain\"\n",
    "x=re.findall(\"\\AThe\",txt)\n",
    "if x:\n",
    "    print(\"Yes\")\n",
    "else:\n",
    "    print(\"No\")"
   ]
  },
  {
   "cell_type": "code",
   "execution_count": 32,
   "id": "44e871f0",
   "metadata": {},
   "outputs": [
    {
     "name": "stdout",
     "output_type": "stream",
     "text": [
      "Yes\n"
     ]
    }
   ],
   "source": [
    "import re\n",
    "txt=\"The Rain in Spain\"\n",
    "x=re.findall(r\"\\bThe\",txt)\n",
    "if x:\n",
    "    print(\"Yes\")\n",
    "else:\n",
    "    print(\"No\")"
   ]
  },
  {
   "cell_type": "code",
   "execution_count": 33,
   "id": "f10a4b1c",
   "metadata": {},
   "outputs": [
    {
     "name": "stdout",
     "output_type": "stream",
     "text": [
      "Yes\n"
     ]
    }
   ],
   "source": [
    "import re\n",
    "txt=\"The Rain in Spain\"\n",
    "x=re.findall(r\"Spain\\b\",txt)\n",
    "if x:\n",
    "    print(\"Yes\")\n",
    "else:\n",
    "    print(\"No\")"
   ]
  },
  {
   "cell_type": "code",
   "execution_count": 38,
   "id": "798cd413",
   "metadata": {},
   "outputs": [
    {
     "name": "stdout",
     "output_type": "stream",
     "text": [
      "[]\n",
      "No\n"
     ]
    }
   ],
   "source": [
    "import re\n",
    "txt=\"The Rain in Spain\"\n",
    "x=re.findall(r\"ain\\B\",txt)\n",
    "print(x)\n",
    "if x:\n",
    "    print(\"Yes\")\n",
    "else:\n",
    "    print(\"No\")"
   ]
  },
  {
   "cell_type": "code",
   "execution_count": 39,
   "id": "f614a58a",
   "metadata": {},
   "outputs": [
    {
     "name": "stdout",
     "output_type": "stream",
     "text": [
      "['ain', 'ain']\n",
      "Yes\n"
     ]
    }
   ],
   "source": [
    "import re\n",
    "txt=\"The Rain in Spain\"\n",
    "x=re.findall(r\"\\Bain\",txt)\n",
    "print(x)\n",
    "if x:\n",
    "    print(\"Yes\")\n",
    "else:\n",
    "    print(\"No\")"
   ]
  },
  {
   "cell_type": "code",
   "execution_count": 40,
   "id": "9c864fb4",
   "metadata": {},
   "outputs": [
    {
     "name": "stdout",
     "output_type": "stream",
     "text": [
      "['5', '8']\n"
     ]
    }
   ],
   "source": [
    "import re\n",
    "txt=\"The Rain in Spain58\"\n",
    "x=re.findall(\"\\d\",txt)\n",
    "print(x)"
   ]
  },
  {
   "cell_type": "code",
   "execution_count": 41,
   "id": "bca65267",
   "metadata": {},
   "outputs": [
    {
     "name": "stdout",
     "output_type": "stream",
     "text": [
      "['T', 'h', 'e', ' ', 'R', 'a', 'i', 'n', ' ', 'i', 'n', ' ', 'S', 'p', 'a', 'i', 'n']\n"
     ]
    }
   ],
   "source": [
    "import re\n",
    "txt=\"The Rain in Spain58\"\n",
    "x=re.findall(\"\\D\",txt)\n",
    "print(x)"
   ]
  },
  {
   "cell_type": "code",
   "execution_count": 42,
   "id": "7f7a31d5",
   "metadata": {},
   "outputs": [
    {
     "name": "stdout",
     "output_type": "stream",
     "text": [
      "[' ', ' ', ' ']\n"
     ]
    }
   ],
   "source": [
    "import re\n",
    "txt=\"The Rain in Spain58\"\n",
    "x=re.findall(\"\\s\",txt)\n",
    "print(x)"
   ]
  },
  {
   "cell_type": "code",
   "execution_count": 43,
   "id": "ccf4f2f9",
   "metadata": {},
   "outputs": [
    {
     "name": "stdout",
     "output_type": "stream",
     "text": [
      "['T', 'h', 'e', 'R', 'a', 'i', 'n', 'i', 'n', 'S', 'p', 'a', 'i', 'n', '5', '8']\n"
     ]
    }
   ],
   "source": [
    "import re\n",
    "txt=\"The Rain in Spain58\"\n",
    "x=re.findall(\"\\S\",txt)\n",
    "print(x)"
   ]
  },
  {
   "cell_type": "code",
   "execution_count": 44,
   "id": "8d83d7da",
   "metadata": {},
   "outputs": [
    {
     "name": "stdout",
     "output_type": "stream",
     "text": [
      "['T', 'h', 'e', 'R', 'a', 'i', 'n', 'i', 'n', 'S', 'p', 'a', 'i', 'n', '5', '8']\n"
     ]
    }
   ],
   "source": [
    "import re\n",
    "txt=\"The Rain in Spain58\"\n",
    "x=re.findall(\"\\w\",txt)\n",
    "print(x)"
   ]
  },
  {
   "cell_type": "code",
   "execution_count": 46,
   "id": "0f81ac88",
   "metadata": {},
   "outputs": [
    {
     "name": "stdout",
     "output_type": "stream",
     "text": [
      "[' ', ' ', '!', ' ']\n"
     ]
    }
   ],
   "source": [
    "import re\n",
    "txt=\"The Rain in! Spain58\"\n",
    "x=re.findall(\"\\W\",txt)\n",
    "print(x)"
   ]
  },
  {
   "cell_type": "code",
   "execution_count": 52,
   "id": "1e843191",
   "metadata": {},
   "outputs": [
    {
     "name": "stdout",
     "output_type": "stream",
     "text": [
      "Yes\n"
     ]
    }
   ],
   "source": [
    "import re\n",
    "txt=\"The Rain in Spain58\"\n",
    "x=re.findall(\"Spain58\\Z\",txt)\n",
    "if x:\n",
    "    print(\"Yes\")\n",
    "else:\n",
    "    print(\"No\")"
   ]
  },
  {
   "cell_type": "code",
   "execution_count": 54,
   "id": "a03ab8a2",
   "metadata": {},
   "outputs": [
    {
     "name": "stdout",
     "output_type": "stream",
     "text": [
      "['a', 'n', 'n', 'a', 'n']\n",
      "Yes\n"
     ]
    }
   ],
   "source": [
    "import re\n",
    "txt=\"The Rain in Spain58\"\n",
    "x=re.findall(\"[arn]\",txt)\n",
    "print(x)\n",
    "if x:\n",
    "    print(\"Yes\")\n",
    "else:\n",
    "    print(\"No\")"
   ]
  },
  {
   "cell_type": "code",
   "execution_count": 55,
   "id": "e0a400ba",
   "metadata": {},
   "outputs": [
    {
     "name": "stdout",
     "output_type": "stream",
     "text": [
      "['h', 'e', 'a', 'i', 'n', 'i', 'n', 'a', 'i', 'n']\n",
      "Yes\n"
     ]
    }
   ],
   "source": [
    "import re\n",
    "txt=\"The Rain in Spain58\"\n",
    "x=re.findall(\"[a-n]\",txt)\n",
    "print(x)\n",
    "if x:\n",
    "    print(\"Yes\")\n",
    "else:\n",
    "    print(\"No\")"
   ]
  },
  {
   "cell_type": "code",
   "execution_count": 56,
   "id": "225226b7",
   "metadata": {},
   "outputs": [
    {
     "name": "stdout",
     "output_type": "stream",
     "text": [
      "['T', 'h', 'e', ' ', 'R', 'i', ' ', 'i', ' ', 'S', 'p', 'i', '5', '8']\n",
      "Yes\n"
     ]
    }
   ],
   "source": [
    "import re\n",
    "txt=\"The Rain in Spain58\"\n",
    "x=re.findall(\"[^arn]\",txt)\n",
    "print(x)\n",
    "if x:\n",
    "    print(\"Yes\")\n",
    "else:\n",
    "    print(\"No\")"
   ]
  },
  {
   "cell_type": "code",
   "execution_count": 58,
   "id": "e7a5da27",
   "metadata": {},
   "outputs": [
    {
     "name": "stdout",
     "output_type": "stream",
     "text": [
      "['2']\n",
      "Yes\n"
     ]
    }
   ],
   "source": [
    "import re\n",
    "txt=\"The Rain in Spain528\"\n",
    "x=re.findall(\"[0123]\",txt)\n",
    "print(x)\n",
    "if x:\n",
    "    print(\"Yes\")\n",
    "else:\n",
    "    print(\"No\")"
   ]
  },
  {
   "cell_type": "code",
   "execution_count": 59,
   "id": "26f6fcd2",
   "metadata": {},
   "outputs": [
    {
     "name": "stdout",
     "output_type": "stream",
     "text": [
      "['58']\n",
      "Yes\n"
     ]
    }
   ],
   "source": [
    "import re\n",
    "txt=\"The Rain in Spain58\"\n",
    "x=re.findall(\"[0-5][0-9]\",txt)\n",
    "print(x)\n",
    "if x:\n",
    "    print(\"Yes\")\n",
    "else:\n",
    "    print(\"No\")"
   ]
  },
  {
   "cell_type": "code",
   "execution_count": 60,
   "id": "6c8e3b09",
   "metadata": {},
   "outputs": [
    {
     "name": "stdout",
     "output_type": "stream",
     "text": [
      "['T', 'h', 'e', 'R', 'a', 'i', 'n', 'i', 'n', 'S', 'p', 'a', 'i', 'n']\n",
      "Yes\n"
     ]
    }
   ],
   "source": [
    "import re\n",
    "txt=\"The Rain in Spain58\"\n",
    "x=re.findall(\"[a-zA-Z]\",txt)\n",
    "print(x)\n",
    "if x:\n",
    "    print(\"Yes\")\n",
    "else:\n",
    "    print(\"No\")"
   ]
  },
  {
   "cell_type": "code",
   "execution_count": 61,
   "id": "ef02c6a3",
   "metadata": {},
   "outputs": [
    {
     "name": "stdout",
     "output_type": "stream",
     "text": [
      "['ai', 'ai']\n"
     ]
    }
   ],
   "source": [
    "import re\n",
    "txt=\"The rain in spain\"\n",
    "x=re.findall(\"ai\",txt)\n",
    "print(x)"
   ]
  },
  {
   "cell_type": "code",
   "execution_count": 62,
   "id": "23c8e9a7",
   "metadata": {},
   "outputs": [
    {
     "name": "stdout",
     "output_type": "stream",
     "text": [
      "[]\n"
     ]
    }
   ],
   "source": [
    "import re\n",
    "txt=\"The rain in spain\"\n",
    "x=re.findall(\"ahki\",txt)\n",
    "print(x)"
   ]
  },
  {
   "cell_type": "code",
   "execution_count": 68,
   "id": "d3477eb3",
   "metadata": {},
   "outputs": [
    {
     "name": "stdout",
     "output_type": "stream",
     "text": [
      "the first White-space is present in position: 3\n"
     ]
    }
   ],
   "source": [
    "import re\n",
    "txt=\"The rain in spain\"\n",
    "x=re.search(\"\\s\",txt)\n",
    "print(\"the first White-space is present in position:\",x.start())"
   ]
  },
  {
   "cell_type": "code",
   "execution_count": 71,
   "id": "2b7d9739",
   "metadata": {},
   "outputs": [
    {
     "name": "stdout",
     "output_type": "stream",
     "text": [
      "None\n"
     ]
    }
   ],
   "source": [
    "import re\n",
    "txt=\"The rain in spain\"\n",
    "x=re.search(\"ahji\",txt)\n",
    "print(x)"
   ]
  },
  {
   "cell_type": "code",
   "execution_count": 72,
   "id": "9c789c08",
   "metadata": {},
   "outputs": [
    {
     "name": "stdout",
     "output_type": "stream",
     "text": [
      "['The r', 'in in sp', 'in']\n"
     ]
    }
   ],
   "source": [
    "import re\n",
    "txt=\"The rain in spain\"\n",
    "x=re.split(\"a\",txt)\n",
    "print(x)"
   ]
  },
  {
   "cell_type": "code",
   "execution_count": 73,
   "id": "ce3cfb7f",
   "metadata": {},
   "outputs": [
    {
     "name": "stdout",
     "output_type": "stream",
     "text": [
      "['The r', 'in in spain']\n"
     ]
    }
   ],
   "source": [
    "import re\n",
    "txt=\"The rain in spain\"\n",
    "x=re.split(\"a\",txt,1)\n",
    "print(x)"
   ]
  },
  {
   "cell_type": "code",
   "execution_count": 75,
   "id": "75630c8a",
   "metadata": {},
   "outputs": [
    {
     "name": "stdout",
     "output_type": "stream",
     "text": [
      "The r9in in sp9in\n"
     ]
    }
   ],
   "source": [
    "import re\n",
    "txt=\"The rain in spain\"\n",
    "x=re.sub(\"a\",\"9\",txt)\n",
    "print(x)"
   ]
  },
  {
   "cell_type": "code",
   "execution_count": 77,
   "id": "77515208",
   "metadata": {},
   "outputs": [
    {
     "name": "stdout",
     "output_type": "stream",
     "text": [
      "The9rain9in spain\n"
     ]
    }
   ],
   "source": [
    "import re\n",
    "txt=\"The rain in spain\"\n",
    "x=re.sub(\"\\s\",\"9\",txt,2)\n",
    "print(x)"
   ]
  },
  {
   "cell_type": "code",
   "execution_count": 81,
   "id": "1f9a5638",
   "metadata": {},
   "outputs": [
    {
     "name": "stdout",
     "output_type": "stream",
     "text": [
      "(12, 17)\n"
     ]
    }
   ],
   "source": [
    "import re\n",
    "txt=\"The rain in spain\"\n",
    "x=re.search(\"spain\",txt)\n",
    "print(x.span())"
   ]
  },
  {
   "cell_type": "code",
   "execution_count": 82,
   "id": "cf401318",
   "metadata": {},
   "outputs": [
    {
     "name": "stdout",
     "output_type": "stream",
     "text": [
      "The rain in spain\n"
     ]
    }
   ],
   "source": [
    "import re\n",
    "txt=\"The rain in spain\"\n",
    "x=re.search(\"spain\",txt)\n",
    "print(x.string)"
   ]
  },
  {
   "cell_type": "code",
   "execution_count": 83,
   "id": "490661da",
   "metadata": {},
   "outputs": [
    {
     "name": "stdout",
     "output_type": "stream",
     "text": [
      "spain\n"
     ]
    }
   ],
   "source": [
    "import re\n",
    "txt=\"The rain in spain\"\n",
    "x=re.search(\"spain\",txt)\n",
    "print(x.group())"
   ]
  }
 ],
 "metadata": {
  "kernelspec": {
   "display_name": "Python 3 (ipykernel)",
   "language": "python",
   "name": "python3"
  },
  "language_info": {
   "codemirror_mode": {
    "name": "ipython",
    "version": 3
   },
   "file_extension": ".py",
   "mimetype": "text/x-python",
   "name": "python",
   "nbconvert_exporter": "python",
   "pygments_lexer": "ipython3",
   "version": "3.8.11"
  }
 },
 "nbformat": 4,
 "nbformat_minor": 5
}
