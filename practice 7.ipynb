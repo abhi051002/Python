{
 "cells": [
  {
   "cell_type": "code",
   "execution_count": 14,
   "id": "8d55d05c",
   "metadata": {},
   "outputs": [
    {
     "name": "stdout",
     "output_type": "stream",
     "text": [
      "1\n",
      "2\n",
      "3\n",
      "4\n",
      "5\n",
      "6\n",
      "7\n",
      "8\n",
      "9\n",
      "10\n",
      "11\n",
      "12\n",
      "13\n",
      "14\n",
      "15\n",
      "16\n",
      "17\n",
      "18\n",
      "19\n",
      "20\n",
      "21\n",
      "22\n",
      "23\n",
      "24\n",
      "25\n",
      "26\n",
      "27\n",
      "28\n",
      "29\n"
     ]
    }
   ],
   "source": [
    "for i in range(1,30):\n",
    "    print(i)"
   ]
  },
  {
   "cell_type": "code",
   "execution_count": 15,
   "id": "a2a56e93",
   "metadata": {},
   "outputs": [
    {
     "name": "stdout",
     "output_type": "stream",
     "text": [
      "1 2 3 4 5 6 7 8 9 10 11 12 13 14 15 16 17 18 19 20 21 22 23 24 25 26 27 28 29 "
     ]
    }
   ],
   "source": [
    "for i in range(1,30):\n",
    "    print(i,end=\" \")"
   ]
  },
  {
   "cell_type": "code",
   "execution_count": 13,
   "id": "133006f6",
   "metadata": {},
   "outputs": [
    {
     "name": "stdout",
     "output_type": "stream",
     "text": [
      "(0, 'a')\n",
      "(1, 'b')\n",
      "(2, 'c')\n"
     ]
    }
   ],
   "source": [
    "l=[\"a\",\"b\",\"c\"]\n",
    "for l in enumerate(l):\n",
    "    print(l)"
   ]
  },
  {
   "cell_type": "code",
   "execution_count": 9,
   "id": "5e7c1b75",
   "metadata": {},
   "outputs": [
    {
     "name": "stdout",
     "output_type": "stream",
     "text": [
      "0 a\n",
      "1 b\n",
      "2 c\n"
     ]
    }
   ],
   "source": [
    "l=[\"a\",\"b\",\"c\"]\n",
    "for index,l in enumerate(l):\n",
    "    print(index,l)"
   ]
  },
  {
   "cell_type": "code",
   "execution_count": 11,
   "id": "203e9b02",
   "metadata": {},
   "outputs": [
    {
     "name": "stdout",
     "output_type": "stream",
     "text": [
      "0 a\n",
      "1 b\n",
      "2 c\n"
     ]
    }
   ],
   "source": [
    "l=[\"a\",\"b\",\"c\"]\n",
    "for l in enumerate(l):\n",
    "    print(l[0],l[1])"
   ]
  },
  {
   "cell_type": "code",
   "execution_count": 16,
   "id": "1b57f861",
   "metadata": {},
   "outputs": [
    {
     "data": {
      "text/plain": [
       "[4, 5]"
      ]
     },
     "execution_count": 16,
     "metadata": {},
     "output_type": "execute_result"
    }
   ],
   "source": [
    "name=[1,2,3,4,5]\n",
    "del name[0:3]\n",
    "name"
   ]
  },
  {
   "cell_type": "code",
   "execution_count": 3,
   "id": "6ddfac7e",
   "metadata": {},
   "outputs": [
    {
     "name": "stdout",
     "output_type": "stream",
     "text": [
      "[(1, 52), (8, 65), (11, 5), (78, 4), (98, 3)]\n"
     ]
    }
   ],
   "source": [
    "a=[(11,5),(78,4),(8,65),(98,3),(1,52)]\n",
    "a.sort(key=lambda x:x[0])\n",
    "print(a)"
   ]
  },
  {
   "cell_type": "code",
   "execution_count": 4,
   "id": "c0f486e9",
   "metadata": {},
   "outputs": [
    {
     "name": "stdout",
     "output_type": "stream",
     "text": [
      "[(98, 3), (78, 4), (11, 5), (1, 52), (8, 65)]\n"
     ]
    }
   ],
   "source": [
    "a=[(11,5),(78,4),(8,65),(98,3),(1,52)]\n",
    "a.sort(key=lambda x:x[1])\n",
    "print(a)"
   ]
  },
  {
   "cell_type": "code",
   "execution_count": 22,
   "id": "263212d0",
   "metadata": {},
   "outputs": [
    {
     "name": "stdout",
     "output_type": "stream",
     "text": [
      "[[1, 52], [8, 65], [11, 5], [78, 4], [98, 3]]\n"
     ]
    }
   ],
   "source": [
    "def a_first(a):\n",
    "    return a[0]\n",
    "\n",
    "\n",
    "a=[[11,5],[78,4],[8,65],[98,3],[1,52]]\n",
    "a.sort(key=a_first)\n",
    "print(a)"
   ]
  },
  {
   "cell_type": "code",
   "execution_count": 20,
   "id": "a43f1f14",
   "metadata": {},
   "outputs": [
    {
     "name": "stdout",
     "output_type": "stream",
     "text": [
      "[[11, 5], [78, 4], [8, 65], [98, 3], [1, 52]]\n"
     ]
    }
   ],
   "source": [
    "def a_first(a):\n",
    "    return a[1]\n",
    "\n",
    "\n",
    "a=[[11,5],[78,4],[8,65],[98,3],[1,52]]\n",
    "a.sort\n",
    "print(a)"
   ]
  },
  {
   "cell_type": "code",
   "execution_count": 23,
   "id": "5efc1449",
   "metadata": {},
   "outputs": [
    {
     "name": "stdout",
     "output_type": "stream",
     "text": [
      "[(1, 10), (2, 20), (3, 30)]\n"
     ]
    }
   ],
   "source": [
    "l1=[1,2,3]\n",
    "l2=[10,20,30]\n",
    "print(list(zip(l1,l2)))"
   ]
  },
  {
   "cell_type": "code",
   "execution_count": 24,
   "id": "a6eb4be2",
   "metadata": {},
   "outputs": [
    {
     "name": "stdout",
     "output_type": "stream",
     "text": [
      "[(1, 10), (2, 20)]\n"
     ]
    }
   ],
   "source": [
    "l1=[1,2,3]\n",
    "l2=[10,20]\n",
    "print(list(zip(l1,l2)))"
   ]
  },
  {
   "cell_type": "code",
   "execution_count": 25,
   "id": "d188e79e",
   "metadata": {},
   "outputs": [
    {
     "name": "stdout",
     "output_type": "stream",
     "text": [
      "[(1, 10), (2, 20)]\n"
     ]
    }
   ],
   "source": [
    "l1=[1,2]\n",
    "l2=[10,20,30]\n",
    "print(list(zip(l1,l2)))"
   ]
  },
  {
   "cell_type": "code",
   "execution_count": 26,
   "id": "9cc07f26",
   "metadata": {},
   "outputs": [
    {
     "name": "stdout",
     "output_type": "stream",
     "text": [
      "[('a', 1, 10), ('b', 2, 20), ('c', 3, 30)]\n"
     ]
    }
   ],
   "source": [
    "l1=[1,2,3]\n",
    "l2=[10,20,30]\n",
    "print(list(zip(\"abcd\",l1,l2)))"
   ]
  },
  {
   "cell_type": "code",
   "execution_count": 28,
   "id": "3b8bacb3",
   "metadata": {},
   "outputs": [
    {
     "name": "stdout",
     "output_type": "stream",
     "text": [
      "[1, 2, 3, 45]\n"
     ]
    }
   ],
   "source": [
    "browsing=[]\n",
    "browsing.append(1)\n",
    "browsing.append(2)\n",
    "browsing.append(3)\n",
    "browsing.append(45)\n",
    "print(browsing)"
   ]
  },
  {
   "cell_type": "code",
   "execution_count": 29,
   "id": "1fed71e2",
   "metadata": {},
   "outputs": [
    {
     "name": "stdout",
     "output_type": "stream",
     "text": [
      "[1, 2, 3]\n",
      "3\n",
      "[1, 2]\n"
     ]
    }
   ],
   "source": [
    "browsing=[]\n",
    "browsing.append(1)\n",
    "browsing.append(2)\n",
    "browsing.append(3)\n",
    "print(browsing)\n",
    "last=browsing.pop()\n",
    "print(last)\n",
    "print(browsing)"
   ]
  },
  {
   "cell_type": "code",
   "execution_count": 32,
   "id": "03949d57",
   "metadata": {},
   "outputs": [
    {
     "name": "stdout",
     "output_type": "stream",
     "text": [
      "deque([6, 1, 2, 7])\n",
      "deque([1, 2, 7])\n"
     ]
    }
   ],
   "source": [
    "from collections import deque\n",
    "que=deque([])\n",
    "que.append(1)\n",
    "que.append(2)\n",
    "que.appendleft(6)\n",
    "que.append(7)\n",
    "print(que)\n",
    "que.popleft()\n",
    "print(que)"
   ]
  },
  {
   "cell_type": "code",
   "execution_count": 37,
   "id": "ac102862",
   "metadata": {},
   "outputs": [
    {
     "name": "stdout",
     "output_type": "stream",
     "text": [
      "array('i', [1, 5, 3])\n"
     ]
    }
   ],
   "source": [
    "from array import array\n",
    "number=array('i',[1,2,3])\n",
    "number[1]=5\n",
    "print(number)"
   ]
  },
  {
   "cell_type": "code",
   "execution_count": 40,
   "id": "d38ebc85",
   "metadata": {},
   "outputs": [
    {
     "name": "stdout",
     "output_type": "stream",
     "text": [
      "{1, 2, 3, 5, 6, 7}\n",
      "{1, 2, 3, 4, 5, 6, 7, 8, 9}\n",
      "{2, 3}\n",
      "{1, 5, 6, 7}\n",
      "{8, 9, 4}\n"
     ]
    }
   ],
   "source": [
    "number=[1,2,3,3,2,5,6,7]\n",
    "first=set(n)\n",
    "second={3,2,9,8,4}\n",
    "print(first)\n",
    "print(first|second) #union i.e. print all delete the duplicates\n",
    "print(first&second)# print the values that common in both the sets\n",
    "print(first-second)# print the elements that present in only first set\n",
    "print(second-first)"
   ]
  },
  {
   "cell_type": "code",
   "execution_count": 41,
   "id": "9489265c",
   "metadata": {},
   "outputs": [
    {
     "name": "stdout",
     "output_type": "stream",
     "text": [
      "{'x': 1, 'y': 2}\n"
     ]
    }
   ],
   "source": [
    "point=dict(x=1,y=2)\n",
    "print(point)"
   ]
  },
  {
   "cell_type": "code",
   "execution_count": 43,
   "id": "a02ca672",
   "metadata": {},
   "outputs": [
    {
     "name": "stdout",
     "output_type": "stream",
     "text": [
      "{'x': 20, 'y': 2, 'z': 5}\n"
     ]
    }
   ],
   "source": [
    "point=dict(x=1,y=2)\n",
    "point[\"x\"]=20\n",
    "point[\"z\"]=5\n",
    "print(point)"
   ]
  },
  {
   "cell_type": "code",
   "execution_count": 50,
   "id": "79651990",
   "metadata": {},
   "outputs": [
    {
     "name": "stdout",
     "output_type": "stream",
     "text": [
      "[0]\n",
      "[0, 2]\n",
      "[0, 2, 4]\n",
      "[0, 2, 4, 6]\n",
      "[0, 2, 4, 6, 8]\n"
     ]
    }
   ],
   "source": [
    "value=[]\n",
    "for x in range(5):\n",
    "    value.append(x*2)\n",
    "    print(value)"
   ]
  },
  {
   "cell_type": "code",
   "execution_count": 1,
   "id": "0e043fcf",
   "metadata": {},
   "outputs": [
    {
     "name": "stdout",
     "output_type": "stream",
     "text": [
      "[0]\n",
      "[0, 1]\n",
      "[0, 1, 2]\n",
      "[0, 1, 2, 3]\n",
      "[0, 1, 2, 3, 4]\n",
      "[0, 1, 2, 3, 4, 5]\n",
      "[0, 1, 2, 3, 4, 5, 6]\n",
      "[0, 1, 2, 3, 4, 5, 6, 7]\n",
      "[0, 1, 2, 3, 4, 5, 6, 7, 8]\n",
      "[0, 1, 2, 3, 4, 5, 6, 7, 8, 9]\n"
     ]
    }
   ],
   "source": [
    "value=[]\n",
    "for x in range(10):\n",
    "    "
   ]
  },
  {
   "cell_type": "code",
   "execution_count": 53,
   "id": "c7b073e4",
   "metadata": {},
   "outputs": [
    {
     "name": "stdout",
     "output_type": "stream",
     "text": [
      "[range(0, 5), 'h', 'e', 'l', 'l', 'o']\n"
     ]
    }
   ],
   "source": [
    "value=list(range(5))\n",
    "value=[range(5),*'hello']\n",
    "print(value)"
   ]
  },
  {
   "cell_type": "code",
   "execution_count": 54,
   "id": "8f66a237",
   "metadata": {},
   "outputs": [
    {
     "name": "stdout",
     "output_type": "stream",
     "text": [
      "[0, 1, 2, 3, 4, 'h', 'e', 'l', 'l', 'o']\n"
     ]
    }
   ],
   "source": [
    "value=list(range(5))\n",
    "value=[*range(5),*'hello']\n",
    "print(value)"
   ]
  },
  {
   "cell_type": "code",
   "execution_count": 5,
   "id": "94c2a86a",
   "metadata": {},
   "outputs": [
    {
     "name": "stdout",
     "output_type": "stream",
     "text": [
      "10\n"
     ]
    }
   ],
   "source": [
    "x=lambda a:a*5\n",
    "print(x(2))"
   ]
  },
  {
   "cell_type": "code",
   "execution_count": 6,
   "id": "43be8ad6",
   "metadata": {},
   "outputs": [
    {
     "name": "stdout",
     "output_type": "stream",
     "text": [
      "32\n"
     ]
    }
   ],
   "source": [
    "x=lambda a,b:a*b\n",
    "print(x(4,8))"
   ]
  },
  {
   "cell_type": "code",
   "execution_count": 8,
   "id": "d119f91f",
   "metadata": {},
   "outputs": [
    {
     "name": "stdout",
     "output_type": "stream",
     "text": [
      "20\n"
     ]
    }
   ],
   "source": [
    "x=lambda a,b,c:a+b+c\n",
    "print(x(5,6,9))"
   ]
  },
  {
   "cell_type": "code",
   "execution_count": 10,
   "id": "aa6c985f",
   "metadata": {},
   "outputs": [
    {
     "name": "stdout",
     "output_type": "stream",
     "text": [
      "10\n"
     ]
    }
   ],
   "source": [
    "def myfunc(n):\n",
    "    return lambda a:a*n\n",
    "mydoub=myfunc(2)\n",
    "print(mydoub(5))"
   ]
  },
  {
   "cell_type": "code",
   "execution_count": 15,
   "id": "c6842b7f",
   "metadata": {},
   "outputs": [
    {
     "name": "stdout",
     "output_type": "stream",
     "text": [
      "15\n"
     ]
    }
   ],
   "source": [
    "def myfunc(n):\n",
    "    return lambda a:a*n\n",
    "mytri=myfunc(3)\n",
    "print(mytri(5))"
   ]
  },
  {
   "cell_type": "code",
   "execution_count": 16,
   "id": "742f8bc5",
   "metadata": {},
   "outputs": [
    {
     "name": "stdout",
     "output_type": "stream",
     "text": [
      "10\n",
      "15\n"
     ]
    }
   ],
   "source": [
    "def myfunc(n):\n",
    "    return lambda a:a*n\n",
    "mytri=myfunc(3)\n",
    "mydoub=myfunc(2)\n",
    "print(mydoub(5))\n",
    "print(mytri(5))"
   ]
  },
  {
   "cell_type": "markdown",
   "id": "49c9bf91",
   "metadata": {},
   "source": [
    "# If x*y is less than 1000 then print their product else print their sum."
   ]
  },
  {
   "cell_type": "code",
   "execution_count": 3,
   "id": "c8a64ff2",
   "metadata": {},
   "outputs": [
    {
     "data": {
      "text/plain": [
       "70"
      ]
     },
     "execution_count": 3,
     "metadata": {},
     "output_type": "execute_result"
    }
   ],
   "source": [
    "def func(x,y):\n",
    "    if x*y<=1000:\n",
    "        return x*y\n",
    "    else:\n",
    "        return x+y\n",
    "func(30,40)"
   ]
  },
  {
   "cell_type": "code",
   "execution_count": 12,
   "id": "b1151bb6",
   "metadata": {},
   "outputs": [
    {
     "name": "stdout",
     "output_type": "stream",
     "text": [
      "Current Number: 0  Previous Number: 0  Sum: 0\n",
      "Current Number: 1  Previous Number: 0  Sum: 1\n",
      "Current Number: 2  Previous Number: 1  Sum: 3\n",
      "Current Number: 3  Previous Number: 2  Sum: 5\n",
      "Current Number: 4  Previous Number: 3  Sum: 7\n",
      "Current Number: 5  Previous Number: 4  Sum: 9\n",
      "Current Number: 6  Previous Number: 5  Sum: 11\n",
      "Current Number: 7  Previous Number: 6  Sum: 13\n",
      "Current Number: 8  Previous Number: 7  Sum: 15\n",
      "Current Number: 9  Previous Number: 8  Sum: 17\n"
     ]
    }
   ],
   "source": [
    "previous=0\n",
    "for x in range(10):\n",
    "    c=previous+x\n",
    "    print(\"Current Number:\",x,\" Previous Number:\",previous,\" Sum:\",c)\n",
    "    previous=x"
   ]
  },
  {
   "cell_type": "code",
   "execution_count": 24,
   "id": "69ed2b6d",
   "metadata": {},
   "outputs": [
    {
     "name": "stdout",
     "output_type": "stream",
     "text": [
      "Enter a String:Abhijit\n",
      "A\n",
      "h\n",
      "j\n",
      "t\n"
     ]
    }
   ],
   "source": [
    "str=input(\"Enter a String:\")\n",
    "for x in range(len(str)):\n",
    "    if x%2==0:\n",
    "        print(str[x])"
   ]
  },
  {
   "cell_type": "code",
   "execution_count": 30,
   "id": "6b242dd9",
   "metadata": {},
   "outputs": [
    {
     "name": "stdout",
     "output_type": "stream",
     "text": [
      "Enter a String:Abhijit\n",
      "Abhijit\n",
      "Enter The index number to remove:1\n"
     ]
    },
    {
     "data": {
      "text/plain": [
       "'bhijit'"
      ]
     },
     "execution_count": 30,
     "metadata": {},
     "output_type": "execute_result"
    }
   ],
   "source": [
    "string=input(\"Enter a String:\")\n",
    "print(string)\n",
    "n=int(input(\"Enter The index number to remove:\"))\n",
    "string[n:]"
   ]
  },
  {
   "cell_type": "code",
   "execution_count": 1,
   "id": "c1f3e2b9",
   "metadata": {},
   "outputs": [
    {
     "name": "stdout",
     "output_type": "stream",
     "text": [
      "10\n",
      "20\n",
      "55\n"
     ]
    }
   ],
   "source": [
    "l=[10,20,33,46,55]\n",
    "for i in range(len(l)):\n",
    "    if l[i]%5==0:\n",
    "        print(l[i])"
   ]
  },
  {
   "cell_type": "code",
   "execution_count": 3,
   "id": "4975b054",
   "metadata": {},
   "outputs": [
    {
     "data": {
      "text/plain": [
       "2"
      ]
     },
     "execution_count": 3,
     "metadata": {},
     "output_type": "execute_result"
    }
   ],
   "source": [
    "str_x=\"Emma is good developer.Emma is a writer.\"\n",
    "str_x.count(\"Emma\")"
   ]
  },
  {
   "cell_type": "code",
   "execution_count": 15,
   "id": "af80d9a9",
   "metadata": {},
   "outputs": [
    {
     "name": "stdout",
     "output_type": "stream",
     "text": [
      "\n",
      "\n",
      "1 \n",
      "\n",
      "2 2 \n",
      "\n",
      "3 3 3 \n",
      "\n",
      "4 4 4 4 \n",
      "\n",
      "5 5 5 5 5 \n",
      "\n"
     ]
    }
   ],
   "source": [
    "for x in range(6):\n",
    "    for i in range(x):\n",
    "        print(x,end=\" \")\n",
    "    print(\"\\n\")"
   ]
  },
  {
   "cell_type": "markdown",
   "id": "1f383b42",
   "metadata": {},
   "source": [
    "# Palindrom Number"
   ]
  },
  {
   "cell_type": "code",
   "execution_count": 32,
   "id": "3d063664",
   "metadata": {},
   "outputs": [
    {
     "name": "stdout",
     "output_type": "stream",
     "text": [
      "Enter a Number:254\n",
      "Entered Number is not a Palindrom Number\n"
     ]
    }
   ],
   "source": [
    "s=int(input(\"Enter a Number:\"))\n",
    "x=int(s/100)\n",
    "y=int((s%100)/10)\n",
    "z=s%10\n",
    "e=((z*100)+(y*10)+(x*1))\n",
    "if e==s:\n",
    "    print(\"Entered Number is a Palindrom Number.\")\n",
    "else:\n",
    "    print(\"Entered Number is not a Palindrom Number\")"
   ]
  },
  {
   "cell_type": "code",
   "execution_count": 39,
   "id": "a2ebe854",
   "metadata": {},
   "outputs": [
    {
     "name": "stdout",
     "output_type": "stream",
     "text": [
      "[25, 35, 40, 60, 50]\n"
     ]
    }
   ],
   "source": [
    "s=[]\n",
    "l1=[10,20,25,30,35]\n",
    "for i in range(len(l1)):\n",
    "    if l1[i]%2!=0:\n",
    "        s.append(l1[i])\n",
    "l2=[40,45,60,75,50]\n",
    "for j in range(len(l2)):\n",
    "    if l2[j]%2==0:\n",
    "        s.append(l2[j])\n",
    "        \n",
    "        \n",
    "print(s)"
   ]
  },
  {
   "cell_type": "code",
   "execution_count": 43,
   "id": "66ac3f8f",
   "metadata": {},
   "outputs": [
    {
     "name": "stdout",
     "output_type": "stream",
     "text": [
      "Enter a Number:258\n",
      "8   5   2\n"
     ]
    }
   ],
   "source": [
    "num=int(input(\"Enter a Number:\"))\n",
    "x=int(num/100)\n",
    "y=int((num%100)/10)\n",
    "z=int(num%10)\n",
    "print(z,\" \",y,\" \",x)"
   ]
  },
  {
   "cell_type": "code",
   "execution_count": 45,
   "id": "aa6a592b",
   "metadata": {},
   "outputs": [
    {
     "name": "stdout",
     "output_type": "stream",
     "text": [
      "Given Number: 5874\n",
      "4 7 8 5 "
     ]
    }
   ],
   "source": [
    "number=5874\n",
    "print(\"Given Number:\",number)\n",
    "while number>0:\n",
    "    digit=number%10\n",
    "    number=number//10\n",
    "    print(digit,end=\" \")"
   ]
  },
  {
   "cell_type": "code",
   "execution_count": 51,
   "id": "7eac07ef",
   "metadata": {},
   "outputs": [
    {
     "name": "stdout",
     "output_type": "stream",
     "text": [
      "Given Income: 45000\n",
      "6000.0\n"
     ]
    }
   ],
   "source": [
    "income=45000\n",
    "tax=0\n",
    "print(\"Given Income:\",income)\n",
    "if income<=10000:\n",
    "    tax=0\n",
    "elif income<=20000:\n",
    "    x=income-10000\n",
    "    tax=x*10/100\n",
    "else:\n",
    "    tax=0\n",
    "    tax=10000*10/100\n",
    "    tax+=(income-20000)*20/100\n",
    "print(tax)"
   ]
  },
  {
   "cell_type": "code",
   "execution_count": 62,
   "id": "84e5e1e0",
   "metadata": {},
   "outputs": [
    {
     "name": "stdout",
     "output_type": "stream",
     "text": [
      "1 2 3 4 5 6 7 8 9 10 \t\n",
      "2 4 6 8 10 12 14 16 18 20 \t\n",
      "3 6 9 12 15 18 21 24 27 30 \t\n",
      "4 8 12 16 20 24 28 32 36 40 \t\n",
      "5 10 15 20 25 30 35 40 45 50 \t\n",
      "6 12 18 24 30 36 42 48 54 60 \t\n",
      "7 14 21 28 35 42 49 56 63 70 \t\n",
      "8 16 24 32 40 48 56 64 72 80 \t\n",
      "9 18 27 36 45 54 63 72 81 90 \t\n",
      "10 20 30 40 50 60 70 80 90 100 \t\n"
     ]
    }
   ],
   "source": [
    "for n in range(1,11):\n",
    "    for x in range(1,11):\n",
    "        print(n*x,end=\" \")\n",
    "    print(\"\\t\")"
   ]
  },
  {
   "cell_type": "code",
   "execution_count": 67,
   "id": "d1e353c9",
   "metadata": {},
   "outputs": [
    {
     "name": "stdout",
     "output_type": "stream",
     "text": [
      "*  \n",
      "* *  \n",
      "* * *  \n",
      "* * * *  \n",
      "* * * * *  \n",
      "* * * * * *  \n"
     ]
    }
   ],
   "source": [
    "for i in range(0,6,1):\n",
    "    for j in range(0,i+1):\n",
    "        print(\"*\",end=\" \")\n",
    "    print(\" \")"
   ]
  },
  {
   "cell_type": "code",
   "execution_count": 69,
   "id": "faecbea4",
   "metadata": {},
   "outputs": [
    {
     "name": "stdout",
     "output_type": "stream",
     "text": [
      "* * * * * *  \n",
      "* * * * *  \n",
      "* * * *  \n",
      "* * *  \n",
      "* *  \n",
      "*  \n",
      " \n"
     ]
    }
   ],
   "source": [
    "for i in range(7,0,-1):\n",
    "    for j in range(0,i-1):\n",
    "        print(\"*\",end=\" \")\n",
    "    print(\" \")"
   ]
  },
  {
   "cell_type": "code",
   "execution_count": 76,
   "id": "476d4423",
   "metadata": {},
   "outputs": [
    {
     "name": "stdout",
     "output_type": "stream",
     "text": [
      "Enter the Base:5\n",
      "Enter the Exponent:4\n",
      "5  raises to the power of  4 is 625\n"
     ]
    }
   ],
   "source": [
    "n=int(input(\"Enter the Base:\"))\n",
    "m=int(input(\"Enter the Exponent:\"))\n",
    "print(n,\" raises to the power of \",m,\"is\",pow(n,m))"
   ]
  }
 ],
 "metadata": {
  "kernelspec": {
   "display_name": "Python 3 (ipykernel)",
   "language": "python",
   "name": "python3"
  },
  "language_info": {
   "codemirror_mode": {
    "name": "ipython",
    "version": 3
   },
   "file_extension": ".py",
   "mimetype": "text/x-python",
   "name": "python",
   "nbconvert_exporter": "python",
   "pygments_lexer": "ipython3",
   "version": "3.8.11"
  }
 },
 "nbformat": 4,
 "nbformat_minor": 5
}
