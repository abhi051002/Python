{
 "cells": [
  {
   "cell_type": "code",
   "execution_count": 2,
   "id": "bff73b0c",
   "metadata": {},
   "outputs": [
    {
     "name": "stdout",
     "output_type": "stream",
     "text": [
      "Pyhton is Awesome\n"
     ]
    }
   ],
   "source": [
    "x='Awesome'\n",
    "def myfunc():\n",
    "    print('Pyhton is '+x)\n",
    "myfunc()"
   ]
  },
  {
   "cell_type": "code",
   "execution_count": 4,
   "id": "d87fe9a7",
   "metadata": {},
   "outputs": [
    {
     "name": "stdout",
     "output_type": "stream",
     "text": [
      "Pyhton is Fantastic\n",
      "Python is Awesome\n"
     ]
    }
   ],
   "source": [
    "x='Awesome'\n",
    "def myfunc():\n",
    "    x='Fantastic'\n",
    "    print('Pyhton is '+x)\n",
    "myfunc()\n",
    "print('Python is '+x)"
   ]
  },
  {
   "cell_type": "markdown",
   "id": "31113756",
   "metadata": {},
   "source": [
    "# Use of ''global'' keyword"
   ]
  },
  {
   "cell_type": "code",
   "execution_count": 9,
   "id": "5a280365",
   "metadata": {},
   "outputs": [
    {
     "name": "stdout",
     "output_type": "stream",
     "text": [
      "Pyhton is Fantastic\n",
      "Python is Fantastic\n"
     ]
    }
   ],
   "source": [
    "def myfunc():\n",
    "    global y\n",
    "    y ='Fantastic'\n",
    "    print('Pyhton is '+y)\n",
    "myfunc()\n",
    "print('Python is '+y)"
   ]
  },
  {
   "cell_type": "code",
   "execution_count": 12,
   "id": "485f20ea",
   "metadata": {},
   "outputs": [
    {
     "name": "stdout",
     "output_type": "stream",
     "text": [
      "Python is Fantastic\n"
     ]
    }
   ],
   "source": [
    "h='Awesome'\n",
    "def myfunc():\n",
    "    global h\n",
    "    h='Fantastic'\n",
    "myfunc()\n",
    "print('Python is '+h)"
   ]
  },
  {
   "cell_type": "markdown",
   "id": "69967394",
   "metadata": {},
   "source": [
    "# Removing the whitespaces from begining and ending of the string using strip()."
   ]
  },
  {
   "cell_type": "code",
   "execution_count": 19,
   "id": "cf8a2faf",
   "metadata": {},
   "outputs": [
    {
     "name": "stdout",
     "output_type": "stream",
     "text": [
      "   Hello World \n",
      "Hello World\n"
     ]
    }
   ],
   "source": [
    "txt='   Hello World '\n",
    "print(txt)\n",
    "a=txt.strip()\n",
    "print(a)"
   ]
  },
  {
   "cell_type": "code",
   "execution_count": 22,
   "id": "5bbeab0c",
   "metadata": {},
   "outputs": [
    {
     "name": "stdout",
     "output_type": "stream",
     "text": [
      "   Hebbo Worbd \n"
     ]
    }
   ],
   "source": [
    "b=txt.replace('l','b')\n",
    "print(b)"
   ]
  },
  {
   "cell_type": "code",
   "execution_count": 6,
   "id": "b6143229",
   "metadata": {},
   "outputs": [
    {
     "name": "stdout",
     "output_type": "stream",
     "text": [
      "2\n"
     ]
    }
   ],
   "source": [
    "import random\n",
    "print(random.randrange(1,20))"
   ]
  },
  {
   "cell_type": "code",
   "execution_count": 10,
   "id": "64df3602",
   "metadata": {},
   "outputs": [
    {
     "name": "stdout",
     "output_type": "stream",
     "text": [
      "True\n"
     ]
    }
   ],
   "source": [
    "txt='There is nothing free'\n",
    "print('free' in txt)"
   ]
  },
  {
   "cell_type": "code",
   "execution_count": 11,
   "id": "5c0cb8d9",
   "metadata": {},
   "outputs": [
    {
     "name": "stdout",
     "output_type": "stream",
     "text": [
      "True\n"
     ]
    }
   ],
   "source": [
    "print('Expensive' not in txt)"
   ]
  },
  {
   "cell_type": "code",
   "execution_count": 15,
   "id": "9682b497",
   "metadata": {},
   "outputs": [
    {
     "name": "stdout",
     "output_type": "stream",
     "text": [
      "No'am'is not present\n"
     ]
    }
   ],
   "source": [
    "a='I\\'m Abhijit Nanda'\n",
    "if 'am' not in txt:\n",
    "    print('No\\'am\\'is not present')"
   ]
  },
  {
   "cell_type": "code",
   "execution_count": 16,
   "id": "2d31236f",
   "metadata": {},
   "outputs": [
    {
     "name": "stdout",
     "output_type": "stream",
     "text": [
      "Yes'Abhijit'is present\n"
     ]
    }
   ],
   "source": [
    "a='I\\'m Abhijit Nanda'\n",
    "if 'Abhijit' not in txt:\n",
    "    print('Yes\\'Abhijit\\'is present')"
   ]
  },
  {
   "cell_type": "code",
   "execution_count": 21,
   "id": "8adc18ef",
   "metadata": {},
   "outputs": [
    {
     "data": {
      "text/plain": [
       "['Apple', 'Banana', 'Cherry', 'Watermelon']"
      ]
     },
     "execution_count": 21,
     "metadata": {},
     "output_type": "execute_result"
    }
   ],
   "source": [
    "thislist=['Apple','Banana','Cherry']\n",
    "thislist.insert(3,'Watermelon')\n",
    "thislist"
   ]
  },
  {
   "cell_type": "code",
   "execution_count": 23,
   "id": "25a728ac",
   "metadata": {},
   "outputs": [
    {
     "data": {
      "text/plain": [
       "['Apple', 'Banana', 'Cherry', 'Watermelon']"
      ]
     },
     "execution_count": 23,
     "metadata": {},
     "output_type": "execute_result"
    }
   ],
   "source": [
    "thislist=['Apple','Banana','Cherry']\n",
    "thislist.append('Watermelon')\n",
    "thislist"
   ]
  },
  {
   "cell_type": "code",
   "execution_count": 24,
   "id": "e3fc17c1",
   "metadata": {},
   "outputs": [
    {
     "data": {
      "text/plain": [
       "['Apple', 'Banana', 'Cherry', 'Orange', 'kiwi']"
      ]
     },
     "execution_count": 24,
     "metadata": {},
     "output_type": "execute_result"
    }
   ],
   "source": [
    "thislist=['Apple','Banana','Cherry']\n",
    "typical=['Orange','kiwi']\n",
    "thislist.extend(typical)\n",
    "thislist"
   ]
  },
  {
   "cell_type": "code",
   "execution_count": 25,
   "id": "dc0fb3dc",
   "metadata": {},
   "outputs": [
    {
     "data": {
      "text/plain": [
       "['Apple', 'Banana', 'Cherry', 'Orange', 'kiwi']"
      ]
     },
     "execution_count": 25,
     "metadata": {},
     "output_type": "execute_result"
    }
   ],
   "source": [
    "thislist=['Apple','Banana','Cherry']\n",
    "typical=('Orange','kiwi')\n",
    "thislist.extend(typical)\n",
    "thislist"
   ]
  },
  {
   "cell_type": "code",
   "execution_count": 29,
   "id": "03be2e71",
   "metadata": {},
   "outputs": [
    {
     "data": {
      "text/plain": [
       "['Apple', 'Banana']"
      ]
     },
     "execution_count": 29,
     "metadata": {},
     "output_type": "execute_result"
    }
   ],
   "source": [
    "thislist=['Apple','Banana','Cherry']\n",
    "thislist.remove('Cherry')\n",
    "thislist"
   ]
  },
  {
   "cell_type": "code",
   "execution_count": 30,
   "id": "a5c0eb84",
   "metadata": {},
   "outputs": [
    {
     "data": {
      "text/plain": [
       "['Banana', 'Cherry']"
      ]
     },
     "execution_count": 30,
     "metadata": {},
     "output_type": "execute_result"
    }
   ],
   "source": [
    "thislist=['Apple','Banana','Cherry']\n",
    "thislist.pop(0)\n",
    "thislist"
   ]
  },
  {
   "cell_type": "code",
   "execution_count": 31,
   "id": "429046fe",
   "metadata": {},
   "outputs": [
    {
     "data": {
      "text/plain": [
       "['Apple', 'Banana']"
      ]
     },
     "execution_count": 31,
     "metadata": {},
     "output_type": "execute_result"
    }
   ],
   "source": [
    "thislist=['Apple','Banana','Cherry']\n",
    "thislist.pop()\n",
    "thislist"
   ]
  },
  {
   "cell_type": "code",
   "execution_count": 35,
   "id": "e0ca7315",
   "metadata": {},
   "outputs": [
    {
     "data": {
      "text/plain": [
       "['Apple', 'Cherry']"
      ]
     },
     "execution_count": 35,
     "metadata": {},
     "output_type": "execute_result"
    }
   ],
   "source": [
    "thislist=['Apple','Banana','Cherry']\n",
    "del thislist[1]\n",
    "thislist"
   ]
  },
  {
   "cell_type": "markdown",
   "id": "7f140f21",
   "metadata": {},
   "source": [
    "# Here Showing error because we delete the list completly."
   ]
  },
  {
   "cell_type": "code",
   "execution_count": 36,
   "id": "a1abc880",
   "metadata": {},
   "outputs": [
    {
     "ename": "NameError",
     "evalue": "name 'thislist' is not defined",
     "output_type": "error",
     "traceback": [
      "\u001b[1;31m---------------------------------------------------------------------------\u001b[0m",
      "\u001b[1;31mNameError\u001b[0m                                 Traceback (most recent call last)",
      "\u001b[1;32m<ipython-input-36-5e90935d9c0e>\u001b[0m in \u001b[0;36m<module>\u001b[1;34m\u001b[0m\n\u001b[0;32m      1\u001b[0m \u001b[0mthislist\u001b[0m\u001b[1;33m=\u001b[0m\u001b[1;33m[\u001b[0m\u001b[1;34m'Apple'\u001b[0m\u001b[1;33m,\u001b[0m\u001b[1;34m'Banana'\u001b[0m\u001b[1;33m,\u001b[0m\u001b[1;34m'Cherry'\u001b[0m\u001b[1;33m]\u001b[0m\u001b[1;33m\u001b[0m\u001b[1;33m\u001b[0m\u001b[0m\n\u001b[0;32m      2\u001b[0m \u001b[1;32mdel\u001b[0m \u001b[0mthislist\u001b[0m\u001b[1;33m\u001b[0m\u001b[1;33m\u001b[0m\u001b[0m\n\u001b[1;32m----> 3\u001b[1;33m \u001b[0mthislist\u001b[0m\u001b[1;33m\u001b[0m\u001b[1;33m\u001b[0m\u001b[0m\n\u001b[0m",
      "\u001b[1;31mNameError\u001b[0m: name 'thislist' is not defined"
     ]
    }
   ],
   "source": [
    "thislist=['Apple','Banana','Cherry']\n",
    "del thislist\n",
    "thislist"
   ]
  },
  {
   "cell_type": "markdown",
   "id": "129fcadc",
   "metadata": {},
   "source": [
    "# clear() method clear the list but the list still remain it has no content."
   ]
  },
  {
   "cell_type": "code",
   "execution_count": 37,
   "id": "a474cdbe",
   "metadata": {},
   "outputs": [
    {
     "data": {
      "text/plain": [
       "[]"
      ]
     },
     "execution_count": 37,
     "metadata": {},
     "output_type": "execute_result"
    }
   ],
   "source": [
    "thislist=['Apple','Banana','Cherry']\n",
    "thislist.clear()\n",
    "thislist"
   ]
  },
  {
   "cell_type": "code",
   "execution_count": 40,
   "id": "f4f19439",
   "metadata": {},
   "outputs": [
    {
     "name": "stdout",
     "output_type": "stream",
     "text": [
      "Apple\n",
      "Banana\n",
      "Orange\n"
     ]
    }
   ],
   "source": [
    "thislist=['Apple','Banana','Orange']\n",
    "i=0\n",
    "while i<len(thislist):\n",
    "    print(thislist[i])\n",
    "    i=i+1"
   ]
  },
  {
   "cell_type": "code",
   "execution_count": 42,
   "id": "3b7ac714",
   "metadata": {},
   "outputs": [
    {
     "name": "stdout",
     "output_type": "stream",
     "text": [
      "Apple\n",
      "Banana\n",
      "Orange\n"
     ]
    }
   ],
   "source": [
    "thislist=['Apple','Banana','Orange']\n",
    "for i in range(len(thislist)):\n",
    "    print(thislist[i])"
   ]
  },
  {
   "cell_type": "code",
   "execution_count": 44,
   "id": "9732dbff",
   "metadata": {},
   "outputs": [
    {
     "name": "stdout",
     "output_type": "stream",
     "text": [
      "Apple\n",
      "Banana\n",
      "Orange\n"
     ]
    }
   ],
   "source": [
    "thislist=['Apple','Banana','Orange']\n",
    "for x in thislist:\n",
    "    print(x)"
   ]
  },
  {
   "cell_type": "code",
   "execution_count": 54,
   "id": "e29d800e",
   "metadata": {},
   "outputs": [
    {
     "name": "stdout",
     "output_type": "stream",
     "text": [
      "Apple\n",
      "Banana\n",
      "Orange\n",
      "['Apple', 'Banana', 'Orange']\n"
     ]
    }
   ],
   "source": [
    "thislist=['Apple','Banana','Orange']\n",
    "[print(x) for x in thislist]\n",
    "print(thislist)"
   ]
  },
  {
   "cell_type": "code",
   "execution_count": 55,
   "id": "af3b6bcc",
   "metadata": {},
   "outputs": [
    {
     "name": "stdout",
     "output_type": "stream",
     "text": [
      "['apple', 'banana', 'orange']\n"
     ]
    }
   ],
   "source": [
    "fruits=['apple','banana','cherry','orange','Kiwi','lichi']\n",
    "newlist=[]\n",
    "for x in fruits:\n",
    "    if 'a' in x:\n",
    "        newlist.append(x)\n",
    "print(newlist)"
   ]
  },
  {
   "cell_type": "code",
   "execution_count": 56,
   "id": "720c897e",
   "metadata": {},
   "outputs": [
    {
     "name": "stdout",
     "output_type": "stream",
     "text": [
      "['apple', 'banana', 'orange']\n"
     ]
    }
   ],
   "source": [
    "fruits=['apple','banana','cherry','orange','Kiwi','lichi']\n",
    "newlist=[x for x in fruits if 'a' in x]\n",
    "print(newlist)"
   ]
  },
  {
   "cell_type": "code",
   "execution_count": 62,
   "id": "a09734e8",
   "metadata": {},
   "outputs": [
    {
     "name": "stdout",
     "output_type": "stream",
     "text": [
      "['Apple', 'Mango', 'Cherry']\n"
     ]
    }
   ],
   "source": [
    "fruits=['Apple','Banana','Cherry']\n",
    "nlist=[x if x!='Banana' else 'Mango' for x in fruits]\n",
    "print(nlist)"
   ]
  },
  {
   "cell_type": "code",
   "execution_count": 63,
   "id": "a46f76c4",
   "metadata": {},
   "outputs": [
    {
     "name": "stdout",
     "output_type": "stream",
     "text": [
      "['APPLE', 'BANANA', 'CHERRY']\n"
     ]
    }
   ],
   "source": [
    "fruits=['Apple','Banana','Cherry']\n",
    "nlist=[x.upper() for x in fruits]\n",
    "print(nlist)"
   ]
  },
  {
   "cell_type": "code",
   "execution_count": 64,
   "id": "04717349",
   "metadata": {},
   "outputs": [
    {
     "name": "stdout",
     "output_type": "stream",
     "text": [
      "['Hy', 'Hy', 'Hy']\n"
     ]
    }
   ],
   "source": [
    "fruits=['Apple','Banana','Cherry']\n",
    "nlist=['Hy' for x in fruits]\n",
    "print(nlist)"
   ]
  },
  {
   "cell_type": "code",
   "execution_count": 69,
   "id": "87567fcb",
   "metadata": {},
   "outputs": [
    {
     "name": "stdout",
     "output_type": "stream",
     "text": [
      "[0, 1, 2, 3, 4, 5, 6, 7, 8, 9, 10, 11, 12, 13, 14, 15, 16, 17, 18, 19]\n"
     ]
    }
   ],
   "source": [
    "nlist=[x for x in range(20)]\n",
    "print(nlist)"
   ]
  },
  {
   "cell_type": "code",
   "execution_count": 70,
   "id": "7cd452eb",
   "metadata": {},
   "outputs": [
    {
     "name": "stdout",
     "output_type": "stream",
     "text": [
      "[0, 1, 2, 3, 4, 5, 6, 7, 8]\n"
     ]
    }
   ],
   "source": [
    "nlist=[x for x in range(20) if x<9]\n",
    "print(nlist)"
   ]
  }
 ],
 "metadata": {
  "kernelspec": {
   "display_name": "Python 3",
   "language": "python",
   "name": "python3"
  },
  "language_info": {
   "codemirror_mode": {
    "name": "ipython",
    "version": 3
   },
   "file_extension": ".py",
   "mimetype": "text/x-python",
   "name": "python",
   "nbconvert_exporter": "python",
   "pygments_lexer": "ipython3",
   "version": "3.8.11"
  }
 },
 "nbformat": 4,
 "nbformat_minor": 5
}
