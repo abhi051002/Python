{
 "cells": [
  {
   "cell_type": "code",
   "execution_count": 5,
   "id": "2fa42438",
   "metadata": {},
   "outputs": [],
   "source": [
    "a=33\n",
    "b=54\n",
    "if a<b:\n",
    "    pass #pass is here used to avoid the error...."
   ]
  },
  {
   "cell_type": "code",
   "execution_count": 8,
   "id": "7805d5f7",
   "metadata": {},
   "outputs": [
    {
     "name": "stdout",
     "output_type": "stream",
     "text": [
      "1\n",
      "2\n",
      "3\n"
     ]
    }
   ],
   "source": [
    "i=1\n",
    "while i<6:\n",
    "    print(i)\n",
    "    if i==3:\n",
    "        break\n",
    "    i+=1"
   ]
  },
  {
   "cell_type": "code",
   "execution_count": 24,
   "id": "ae2c8aea",
   "metadata": {},
   "outputs": [
    {
     "name": "stdout",
     "output_type": "stream",
     "text": [
      "1\n",
      "2\n",
      "4\n",
      "5\n",
      "6\n"
     ]
    }
   ],
   "source": [
    "i=0\n",
    "while i<6:\n",
    "    i=i+1\n",
    "    if i==3:\n",
    "        continue\n",
    "    print(i)"
   ]
  },
  {
   "cell_type": "code",
   "execution_count": 28,
   "id": "5b5dc927",
   "metadata": {},
   "outputs": [
    {
     "name": "stdout",
     "output_type": "stream",
     "text": [
      "1\n",
      "2\n",
      "3\n",
      "4\n",
      "5\n",
      "i is no longer small than 6\n"
     ]
    }
   ],
   "source": [
    "i=1\n",
    "while i<6:\n",
    "    print(i)\n",
    "    i+=1\n",
    "else:\n",
    "    print('i is no longer small than 6')"
   ]
  },
  {
   "cell_type": "code",
   "execution_count": 30,
   "id": "ace520bb",
   "metadata": {},
   "outputs": [
    {
     "name": "stdout",
     "output_type": "stream",
     "text": [
      "Apple\n",
      "Banana\n",
      "Cherry\n",
      "Pineapple\n"
     ]
    }
   ],
   "source": [
    "fruits=['Apple','Banana','Cherry','Pineapple','Blueberry','Mango']\n",
    "for x in fruits:\n",
    "    print(x)\n",
    "    if x=='Pineapple':\n",
    "        break"
   ]
  },
  {
   "cell_type": "code",
   "execution_count": 35,
   "id": "f0f8471a",
   "metadata": {},
   "outputs": [
    {
     "name": "stdout",
     "output_type": "stream",
     "text": [
      "Apple\n",
      "Banana\n",
      "Cherry\n"
     ]
    }
   ],
   "source": [
    "fruits=['Apple','Banana','Cherry','Pineapple','Blueberry','Mango']\n",
    "for x in fruits:\n",
    "    if x=='Pineapple':\n",
    "        break\n",
    "    print(x)"
   ]
  },
  {
   "cell_type": "code",
   "execution_count": 36,
   "id": "781fc20f",
   "metadata": {},
   "outputs": [
    {
     "name": "stdout",
     "output_type": "stream",
     "text": [
      "Apple\n",
      "Banana\n",
      "Cherry\n",
      "Blueberry\n",
      "Mango\n"
     ]
    }
   ],
   "source": [
    "fruits=['Apple','Banana','Cherry','Pineapple','Blueberry','Mango']\n",
    "for x in fruits:\n",
    "    if x=='Pineapple':\n",
    "        continue\n",
    "    print(x)"
   ]
  },
  {
   "cell_type": "code",
   "execution_count": 37,
   "id": "fc434235",
   "metadata": {},
   "outputs": [
    {
     "name": "stdout",
     "output_type": "stream",
     "text": [
      "2\n",
      "3\n",
      "4\n",
      "5\n"
     ]
    }
   ],
   "source": [
    "for x in range(2,6):\n",
    "    print(x)"
   ]
  },
  {
   "cell_type": "code",
   "execution_count": 38,
   "id": "960ec491",
   "metadata": {},
   "outputs": [
    {
     "name": "stdout",
     "output_type": "stream",
     "text": [
      "2\n",
      "5\n",
      "8\n",
      "11\n",
      "14\n",
      "17\n",
      "20\n",
      "23\n",
      "26\n",
      "29\n"
     ]
    }
   ],
   "source": [
    "for x in range(2,30,3):\n",
    "    print(x)"
   ]
  },
  {
   "cell_type": "code",
   "execution_count": 39,
   "id": "2eae7fe4",
   "metadata": {},
   "outputs": [
    {
     "name": "stdout",
     "output_type": "stream",
     "text": [
      "0\n",
      "1\n",
      "2\n",
      "3\n",
      "4\n",
      "5\n",
      "Finally Finished!\n"
     ]
    }
   ],
   "source": [
    "for x in range(6):\n",
    "    print(x)\n",
    "else:\n",
    "    print('Finally Finished!')"
   ]
  },
  {
   "cell_type": "code",
   "execution_count": 40,
   "id": "386542a3",
   "metadata": {},
   "outputs": [
    {
     "name": "stdout",
     "output_type": "stream",
     "text": [
      "0\n",
      "1\n",
      "2\n"
     ]
    }
   ],
   "source": [
    "for x in range(6):\n",
    "    if x==3:\n",
    "        break\n",
    "    print(x)\n",
    "else:\n",
    "    print('Finally Finished!')"
   ]
  },
  {
   "cell_type": "code",
   "execution_count": 45,
   "id": "485483b3",
   "metadata": {},
   "outputs": [
    {
     "name": "stdout",
     "output_type": "stream",
     "text": [
      "red apple\n",
      "red banana\n",
      "red cherry\n",
      "big apple\n",
      "big banana\n",
      "big cherry\n",
      "tasty apple\n",
      "tasty banana\n",
      "tasty cherry\n"
     ]
    }
   ],
   "source": [
    "a=['red','big','tasty']\n",
    "b=['apple','banana','cherry']\n",
    "for x in a:\n",
    "    for y in b:\n",
    "        print(x,y)"
   ]
  },
  {
   "cell_type": "code",
   "execution_count": 8,
   "id": "df394773",
   "metadata": {},
   "outputs": [],
   "source": [
    "for x in [0,1,2]:\n",
    "    pass"
   ]
  },
  {
   "cell_type": "code",
   "execution_count": 12,
   "id": "e3bc903f",
   "metadata": {},
   "outputs": [
    {
     "name": "stdout",
     "output_type": "stream",
     "text": [
      "An Exception Occured.\n"
     ]
    }
   ],
   "source": [
    "try:\n",
    "    print(y)\n",
    "except:\n",
    "    print(\"An Exception Occured.\")"
   ]
  },
  {
   "cell_type": "code",
   "execution_count": 16,
   "id": "1ac1b66b",
   "metadata": {},
   "outputs": [
    {
     "name": "stdout",
     "output_type": "stream",
     "text": [
      "An Exception Occured.\n"
     ]
    }
   ],
   "source": [
    "try:\n",
    "    print(y)\n",
    "except NameError:\n",
    "    print(\"An Exception Occured.\")\n",
    "except:\n",
    "    print('Something else went wrong')"
   ]
  },
  {
   "cell_type": "code",
   "execution_count": 17,
   "id": "789dcdbd",
   "metadata": {},
   "outputs": [
    {
     "name": "stdout",
     "output_type": "stream",
     "text": [
      "Hello\n",
      "Nothing Went Wrong\n"
     ]
    }
   ],
   "source": [
    "try:\n",
    "    print('Hello')\n",
    "except:\n",
    "    print('Something went wrong')\n",
    "else:\n",
    "    print('Nothing Went Wrong')"
   ]
  },
  {
   "cell_type": "code",
   "execution_count": 18,
   "id": "b9bbc91c",
   "metadata": {},
   "outputs": [
    {
     "name": "stdout",
     "output_type": "stream",
     "text": [
      "Something went wrong\n",
      "The \"Try-Except\" is finished.\n"
     ]
    }
   ],
   "source": [
    "try:\n",
    "    print(y)\n",
    "except:\n",
    "    print('Something went wrong')\n",
    "finally:\n",
    "    print('The \"Try-Except\" is finished.')"
   ]
  },
  {
   "cell_type": "code",
   "execution_count": 19,
   "id": "e1b8facf",
   "metadata": {},
   "outputs": [
    {
     "name": "stdout",
     "output_type": "stream",
     "text": [
      "Something went wrong\n"
     ]
    }
   ],
   "source": [
    "try:\n",
    "    print(y)\n",
    "except:\n",
    "    print('Something went wrong')\n",
    "else:\n",
    "    print('Nothing Went Wrong')"
   ]
  },
  {
   "cell_type": "code",
   "execution_count": 22,
   "id": "873d51f1",
   "metadata": {},
   "outputs": [
    {
     "name": "stdout",
     "output_type": "stream",
     "text": [
      "Something went wrong when opening the file\n"
     ]
    }
   ],
   "source": [
    "try:\n",
    "    f=open(\"demo.txt\")\n",
    "    try:\n",
    "        f.write('Abhijit')\n",
    "    except:\n",
    "        print('Something went wrong when writing in the file')\n",
    "    finally:\n",
    "        f.close()\n",
    "except:\n",
    "    print('Something went wrong when opening the file')"
   ]
  },
  {
   "cell_type": "code",
   "execution_count": 26,
   "id": "956203e5",
   "metadata": {},
   "outputs": [
    {
     "ename": "Exception",
     "evalue": "Sorry!! No Number is below Zero.",
     "output_type": "error",
     "traceback": [
      "\u001b[1;31m---------------------------------------------------------------------------\u001b[0m",
      "\u001b[1;31mException\u001b[0m                                 Traceback (most recent call last)",
      "\u001b[1;32m<ipython-input-26-6cfc9626b67c>\u001b[0m in \u001b[0;36m<module>\u001b[1;34m\u001b[0m\n\u001b[0;32m      1\u001b[0m \u001b[0mx\u001b[0m\u001b[1;33m=\u001b[0m\u001b[1;33m-\u001b[0m\u001b[1;36m1\u001b[0m\u001b[1;33m\u001b[0m\u001b[1;33m\u001b[0m\u001b[0m\n\u001b[0;32m      2\u001b[0m \u001b[1;32mif\u001b[0m \u001b[0mx\u001b[0m\u001b[1;33m<\u001b[0m\u001b[1;36m0\u001b[0m\u001b[1;33m:\u001b[0m\u001b[1;33m\u001b[0m\u001b[1;33m\u001b[0m\u001b[0m\n\u001b[1;32m----> 3\u001b[1;33m     \u001b[1;32mraise\u001b[0m \u001b[0mException\u001b[0m\u001b[1;33m(\u001b[0m\u001b[1;34m\"Sorry!! No Number is below Zero.\"\u001b[0m\u001b[1;33m)\u001b[0m\u001b[1;33m\u001b[0m\u001b[1;33m\u001b[0m\u001b[0m\n\u001b[0m",
      "\u001b[1;31mException\u001b[0m: Sorry!! No Number is below Zero."
     ]
    }
   ],
   "source": [
    "x=-1\n",
    "if x<0:\n",
    "    raise Exception(\"Sorry!! No Number is below Zero.\")"
   ]
  },
  {
   "cell_type": "code",
   "execution_count": 30,
   "id": "58d8ba19",
   "metadata": {},
   "outputs": [
    {
     "ename": "TypeError",
     "evalue": "Only Integer are allowed",
     "output_type": "error",
     "traceback": [
      "\u001b[1;31m---------------------------------------------------------------------------\u001b[0m",
      "\u001b[1;31mTypeError\u001b[0m                                 Traceback (most recent call last)",
      "\u001b[1;32m<ipython-input-30-3191154f0dd1>\u001b[0m in \u001b[0;36m<module>\u001b[1;34m\u001b[0m\n\u001b[0;32m      1\u001b[0m \u001b[0mx\u001b[0m\u001b[1;33m=\u001b[0m\u001b[1;34m'hello'\u001b[0m\u001b[1;33m\u001b[0m\u001b[1;33m\u001b[0m\u001b[0m\n\u001b[0;32m      2\u001b[0m \u001b[1;32mif\u001b[0m \u001b[1;32mnot\u001b[0m \u001b[0mtype\u001b[0m\u001b[1;33m(\u001b[0m\u001b[0mx\u001b[0m\u001b[1;33m)\u001b[0m \u001b[1;32mis\u001b[0m \u001b[0mint\u001b[0m\u001b[1;33m:\u001b[0m\u001b[1;33m\u001b[0m\u001b[1;33m\u001b[0m\u001b[0m\n\u001b[1;32m----> 3\u001b[1;33m     \u001b[1;32mraise\u001b[0m \u001b[0mTypeError\u001b[0m\u001b[1;33m(\u001b[0m\u001b[1;34m'Only Integer are allowed'\u001b[0m\u001b[1;33m)\u001b[0m\u001b[1;33m\u001b[0m\u001b[1;33m\u001b[0m\u001b[0m\n\u001b[0m",
      "\u001b[1;31mTypeError\u001b[0m: Only Integer are allowed"
     ]
    }
   ],
   "source": [
    "x='hello'\n",
    "if not type(x) is int:\n",
    "    raise TypeError('Only Integer are allowed')"
   ]
  },
  {
   "cell_type": "code",
   "execution_count": 3,
   "id": "2f8b25ec",
   "metadata": {},
   "outputs": [
    {
     "name": "stdout",
     "output_type": "stream",
     "text": [
      "Hello From a function\n"
     ]
    }
   ],
   "source": [
    "def my_function():\n",
    "    print('Hello From a function')\n",
    "my_function()"
   ]
  },
  {
   "cell_type": "code",
   "execution_count": 5,
   "id": "61a53b2b",
   "metadata": {},
   "outputs": [
    {
     "name": "stdout",
     "output_type": "stream",
     "text": [
      "Abhijit Nanda\n",
      "ChidaNanda\n",
      "VivekaNanda\n"
     ]
    }
   ],
   "source": [
    "def function(fname):\n",
    "    print(fname+'Nanda')\n",
    "function('Abhijit ')\n",
    "function('Chida')\n",
    "function('Viveka')"
   ]
  },
  {
   "cell_type": "code",
   "execution_count": 8,
   "id": "17d6b96b",
   "metadata": {},
   "outputs": [
    {
     "name": "stdout",
     "output_type": "stream",
     "text": [
      "Abhijit Nanda\n"
     ]
    }
   ],
   "source": [
    "def myfunction(fname,lname):\n",
    "    print(fname+' '+lname)\n",
    "myfunction('Abhijit','Nanda')"
   ]
  },
  {
   "cell_type": "code",
   "execution_count": 13,
   "id": "643dec92",
   "metadata": {},
   "outputs": [
    {
     "name": "stdout",
     "output_type": "stream",
     "text": [
      "The Youngest Child is Abhi\n"
     ]
    }
   ],
   "source": [
    "def my(*kid):\n",
    "    print('The Youngest Child is '+kid[0])\n",
    "my('Abhi',\"Bhabani\",'Subham')"
   ]
  },
  {
   "cell_type": "code",
   "execution_count": 14,
   "id": "e84e9369",
   "metadata": {},
   "outputs": [
    {
     "name": "stdout",
     "output_type": "stream",
     "text": [
      "The Youngest Child is Abhi\n"
     ]
    }
   ],
   "source": [
    "def function(c1,c3,c2):\n",
    "    print('The Youngest Child is '+c3)\n",
    "function(c3='Abhi',c1='Bhabani',c2='Subham')"
   ]
  },
  {
   "cell_type": "code",
   "execution_count": 18,
   "id": "9bb27dc2",
   "metadata": {},
   "outputs": [
    {
     "name": "stdout",
     "output_type": "stream",
     "text": [
      "His Last Name is Nanda\n"
     ]
    }
   ],
   "source": [
    "def my(**kid):\n",
    "    print('His Last Name is '+kid['lname'])\n",
    "my(fname='Abhijit',lname='Nanda')"
   ]
  },
  {
   "cell_type": "code",
   "execution_count": 20,
   "id": "fc14841a",
   "metadata": {},
   "outputs": [
    {
     "name": "stdout",
     "output_type": "stream",
     "text": [
      "I'm From India\n",
      "I'm From Brazil\n"
     ]
    }
   ],
   "source": [
    "def my_function(country=\"India\"):\n",
    "    print(\"I'm From \"+country)\n",
    "my_function()\n",
    "my_function('Brazil')"
   ]
  },
  {
   "cell_type": "code",
   "execution_count": 21,
   "id": "e19d8e6a",
   "metadata": {},
   "outputs": [
    {
     "name": "stdout",
     "output_type": "stream",
     "text": [
      "Apple\n",
      "Banana\n",
      "Cherry\n"
     ]
    }
   ],
   "source": [
    "def myfunction(food):\n",
    "    for x in food:\n",
    "        print(x)\n",
    "fruits=['Apple','Banana','Cherry']\n",
    "myfunction(fruits)"
   ]
  },
  {
   "cell_type": "code",
   "execution_count": 38,
   "id": "dc705c87",
   "metadata": {},
   "outputs": [
    {
     "name": "stdout",
     "output_type": "stream",
     "text": [
      "15\n",
      "25\n",
      "45\n"
     ]
    }
   ],
   "source": [
    "def myfunction(x):\n",
    "    return 5*x\n",
    "print(myfunction(3))\n",
    "print(myfunction(5))\n",
    "print(myfunction(9))"
   ]
  },
  {
   "cell_type": "code",
   "execution_count": 25,
   "id": "3282ebdf",
   "metadata": {},
   "outputs": [],
   "source": [
    "def my():\n",
    "    pass"
   ]
  },
  {
   "cell_type": "code",
   "execution_count": 44,
   "id": "54b62da2",
   "metadata": {},
   "outputs": [
    {
     "name": "stdout",
     "output_type": "stream",
     "text": [
      "Recursion Example Result\n",
      "1\n",
      "3\n",
      "6\n",
      "10\n",
      "15\n",
      "21\n",
      "21\n"
     ]
    }
   ],
   "source": [
    "def tri_recursion(k):\n",
    "    if(k>0):\n",
    "        result=k+tri_recursion(k - 1)\n",
    "        print(result)\n",
    "    else:\n",
    "        result=0\n",
    "    return result\n",
    "print('Recursion Example Result')\n",
    "print(tri_recursion(6))"
   ]
  },
  {
   "cell_type": "code",
   "execution_count": 2,
   "id": "e7be22c1",
   "metadata": {},
   "outputs": [
    {
     "name": "stdout",
     "output_type": "stream",
     "text": [
      "Hello Everyone! Welcome to demofile.txt\n",
      "This file is for Testing Purpose\n",
      "Good luck!\n"
     ]
    }
   ],
   "source": [
    "f=open(\"demofile.txt\",\"r\")\n",
    "print(f.read())"
   ]
  },
  {
   "cell_type": "code",
   "execution_count": 4,
   "id": "0bf9fb8e",
   "metadata": {},
   "outputs": [
    {
     "name": "stdout",
     "output_type": "stream",
     "text": [
      "Hello Welcome to the txt file\n"
     ]
    }
   ],
   "source": [
    "f=open(\"G:\\\\DESKOP\\\\txt.txt\",\"r\")\n",
    "print(f.read())"
   ]
  },
  {
   "cell_type": "code",
   "execution_count": 8,
   "id": "e4b8822f",
   "metadata": {},
   "outputs": [
    {
     "name": "stdout",
     "output_type": "stream",
     "text": [
      "Hello Everyone! Welco\n"
     ]
    }
   ],
   "source": [
    "f=open(\"demofile.txt\",\"r\")\n",
    "print(f.read(21))"
   ]
  },
  {
   "cell_type": "code",
   "execution_count": 42,
   "id": "45e1336e",
   "metadata": {},
   "outputs": [
    {
     "name": "stdout",
     "output_type": "stream",
     "text": [
      "Hello Everyone! Welcome to demofile.txt\n",
      "\n",
      "This file is for Testing Purpose\n",
      "\n"
     ]
    }
   ],
   "source": [
    "f=open(\"demofile.txt\",\"r\")\n",
    "print(f.readline())\n",
    "print(f.readline())"
   ]
  },
  {
   "cell_type": "code",
   "execution_count": 19,
   "id": "3cf01c38",
   "metadata": {},
   "outputs": [
    {
     "name": "stdout",
     "output_type": "stream",
     "text": [
      "Good luck!\n"
     ]
    }
   ],
   "source": [
    "print(f.readline())"
   ]
  },
  {
   "cell_type": "code",
   "execution_count": 32,
   "id": "3682af5e",
   "metadata": {},
   "outputs": [
    {
     "name": "stdout",
     "output_type": "stream",
     "text": [
      "Hello Everyone! Welcome to demofile.txt\n",
      "\n",
      "This file is for Testing Purpose\n",
      "\n",
      "Good luck!\n"
     ]
    }
   ],
   "source": [
    "f=open(\"demofile.txt\",\"r\")\n",
    "for x in f:\n",
    "    print(x)"
   ]
  },
  {
   "cell_type": "code",
   "execution_count": 48,
   "id": "073e7b3c",
   "metadata": {},
   "outputs": [
    {
     "name": "stdout",
     "output_type": "stream",
     "text": [
      "Hello Everyone! Welcome to demofile.txt\n",
      "\n"
     ]
    }
   ],
   "source": [
    "f=open(\"demofile.txt\",'r')\n",
    "print(f.readline())\n",
    "f.close()"
   ]
  },
  {
   "cell_type": "code",
   "execution_count": 53,
   "id": "617699d4",
   "metadata": {},
   "outputs": [],
   "source": [
    "f=open(\"demotxt2.txt\",\"a\")\n",
    "f.write(\"\\nNow the File has more content!\")\n",
    "f.close()"
   ]
  },
  {
   "cell_type": "code",
   "execution_count": 55,
   "id": "825c814f",
   "metadata": {},
   "outputs": [
    {
     "name": "stdout",
     "output_type": "stream",
     "text": [
      "Hello This is the testing file\n",
      "Now the File has more content!\n"
     ]
    }
   ],
   "source": [
    "f=open(\"demotxt2.txt\",\"r\")\n",
    "print(f.read())\n",
    "f.close()"
   ]
  },
  {
   "cell_type": "code",
   "execution_count": 59,
   "id": "916f89a6",
   "metadata": {},
   "outputs": [],
   "source": [
    "f=open(\"demofile3.txt\",\"w\")\n",
    "f.write(\"Woops!I have deleted the content!\")\n",
    "f.close()"
   ]
  },
  {
   "cell_type": "code",
   "execution_count": 60,
   "id": "9038fc79",
   "metadata": {},
   "outputs": [
    {
     "name": "stdout",
     "output_type": "stream",
     "text": [
      "Woops!I have deleted the content!\n"
     ]
    }
   ],
   "source": [
    "f=open(\"demofile3.txt\",\"r\")\n",
    "print(f.read())"
   ]
  },
  {
   "cell_type": "code",
   "execution_count": 8,
   "id": "4e68ab83",
   "metadata": {},
   "outputs": [
    {
     "name": "stdout",
     "output_type": "stream",
     "text": [
      "Hello Abhijit\n"
     ]
    }
   ],
   "source": [
    "import mymodule\n",
    "mymodule.greeting(\" Abhijit\")"
   ]
  },
  {
   "cell_type": "code",
   "execution_count": 24,
   "id": "9f21dc97",
   "metadata": {},
   "outputs": [
    {
     "name": "stdout",
     "output_type": "stream",
     "text": [
      "Hello Abhijit Welcome you to the Nanda's PetrolPump\n"
     ]
    }
   ],
   "source": [
    "import hy\n",
    "hy.greet('Abhijit')"
   ]
  },
  {
   "cell_type": "code",
   "execution_count": 29,
   "id": "0b75e745",
   "metadata": {},
   "outputs": [
    {
     "name": "stdout",
     "output_type": "stream",
     "text": [
      "Abhijit\n"
     ]
    }
   ],
   "source": [
    "import mod\n",
    "a=mod.person1[\"Name\"]\n",
    "print(a)"
   ]
  },
  {
   "cell_type": "code",
   "execution_count": 33,
   "id": "7571b07e",
   "metadata": {},
   "outputs": [
    {
     "name": "stdout",
     "output_type": "stream",
     "text": [
      "Abhijit\n"
     ]
    }
   ],
   "source": [
    "import mod as ball\n",
    "a=ball.person1[\"Name\"]\n",
    "print(a)"
   ]
  },
  {
   "cell_type": "code",
   "execution_count": 34,
   "id": "aa450a28",
   "metadata": {},
   "outputs": [
    {
     "name": "stdout",
     "output_type": "stream",
     "text": [
      "Windows\n"
     ]
    }
   ],
   "source": [
    "import platform\n",
    "x=platform.system()\n",
    "print(x)"
   ]
  },
  {
   "cell_type": "code",
   "execution_count": 38,
   "id": "6f04a070",
   "metadata": {},
   "outputs": [
    {
     "name": "stdout",
     "output_type": "stream",
     "text": [
      "def greeting(name):\n",
      "\tprint(\"Hello\"+name)\n"
     ]
    }
   ],
   "source": [
    "f=open(\"mymodule.py\",\"r\")\n",
    "print(f.read())"
   ]
  },
  {
   "cell_type": "code",
   "execution_count": 39,
   "id": "ab04ae60",
   "metadata": {},
   "outputs": [
    {
     "name": "stdout",
     "output_type": "stream",
     "text": [
      "['_WIN32_CLIENT_RELEASES', '_WIN32_SERVER_RELEASES', '__builtins__', '__cached__', '__copyright__', '__doc__', '__file__', '__loader__', '__name__', '__package__', '__spec__', '__version__', '_comparable_version', '_component_re', '_default_architecture', '_follow_symlinks', '_ironpython26_sys_version_parser', '_ironpython_sys_version_parser', '_java_getprop', '_libc_search', '_mac_ver_xml', '_node', '_norm_version', '_platform', '_platform_cache', '_pypy_sys_version_parser', '_sys_version', '_sys_version_cache', '_sys_version_parser', '_syscmd_file', '_syscmd_uname', '_syscmd_ver', '_uname_cache', '_ver_output', '_ver_stages', 'architecture', 'collections', 'java_ver', 'libc_ver', 'mac_ver', 'machine', 'node', 'os', 'platform', 'processor', 'python_branch', 'python_build', 'python_compiler', 'python_implementation', 'python_revision', 'python_version', 'python_version_tuple', 're', 'release', 'sys', 'system', 'system_alias', 'uname', 'uname_result', 'version', 'win32_edition', 'win32_is_iot', 'win32_ver']\n"
     ]
    }
   ],
   "source": [
    "import platform\n",
    "x=dir(platform)\n",
    "print(x)"
   ]
  },
  {
   "cell_type": "code",
   "execution_count": 40,
   "id": "232bd68d",
   "metadata": {},
   "outputs": [
    {
     "name": "stdout",
     "output_type": "stream",
     "text": [
      "['__builtins__', '__cached__', '__doc__', '__file__', '__loader__', '__name__', '__package__', '__spec__', 'person1']\n"
     ]
    }
   ],
   "source": [
    "import mod\n",
    "x=dir(mod)\n",
    "print(x)"
   ]
  },
  {
   "cell_type": "code",
   "execution_count": 41,
   "id": "b16d2ac1",
   "metadata": {},
   "outputs": [
    {
     "name": "stdout",
     "output_type": "stream",
     "text": [
      "['__builtins__', '__cached__', '__doc__', '__file__', '__loader__', '__name__', '__package__', '__spec__', 'greeting']\n"
     ]
    }
   ],
   "source": [
    "import mymodule\n",
    "x=dir(mymodule)\n",
    "print(x)"
   ]
  },
  {
   "cell_type": "code",
   "execution_count": 43,
   "id": "ee480961",
   "metadata": {},
   "outputs": [
    {
     "name": "stdout",
     "output_type": "stream",
     "text": [
      "Hello, Abhijit\n"
     ]
    }
   ],
   "source": [
    "from mymod import greeting\n",
    "greeting(\"Abhijit\")"
   ]
  },
  {
   "cell_type": "code",
   "execution_count": 44,
   "id": "aed389d2",
   "metadata": {},
   "outputs": [
    {
     "name": "stdout",
     "output_type": "stream",
     "text": [
      "India\n"
     ]
    }
   ],
   "source": [
    "from mymod import person1\n",
    "print(person1[\"Country\"])"
   ]
  }
 ],
 "metadata": {
  "kernelspec": {
   "display_name": "Python 3",
   "language": "python",
   "name": "python3"
  },
  "language_info": {
   "codemirror_mode": {
    "name": "ipython",
    "version": 3
   },
   "file_extension": ".py",
   "mimetype": "text/x-python",
   "name": "python",
   "nbconvert_exporter": "python",
   "pygments_lexer": "ipython3",
   "version": "3.8.8"
  }
 },
 "nbformat": 4,
 "nbformat_minor": 5
}
